{
 "cells": [
  {
   "cell_type": "markdown",
   "metadata": {},
   "source": [
    "## Recursion"
   ]
  },
  {
   "cell_type": "markdown",
   "metadata": {},
   "source": [
    "### Binary Search"
   ]
  },
  {
   "cell_type": "code",
   "execution_count": 2,
   "metadata": {
    "collapsed": true
   },
   "outputs": [],
   "source": [
    "data = [2,4,5,7,8,9,12,14,17,19,22,25,27,28,33,37] #sorted list\n",
    "\n",
    "def binary_search(data, start, end, findNum) :\n",
    "    if start > end :\n",
    "        return False\n",
    "    \n",
    "    mid = (start + end) / 2\n",
    "    mid_val = data[mid]\n",
    "    \n",
    "    if mid_val == findNum :\n",
    "        return mid, mid_val\n",
    "    elif mid_val > findNum : #left side\n",
    "        return binary_search(data, start, mid-1, findNum)\n",
    "    else : return binary_search(data, mid+1, end, findNum)"
   ]
  },
  {
   "cell_type": "code",
   "execution_count": 3,
   "metadata": {
    "collapsed": false
   },
   "outputs": [
    {
     "data": {
      "text/plain": [
       "(9, 19)"
      ]
     },
     "execution_count": 3,
     "metadata": {},
     "output_type": "execute_result"
    }
   ],
   "source": [
    "binary_search(data, 0, len(data), 19) #9, 10"
   ]
  },
  {
   "cell_type": "code",
   "execution_count": 4,
   "metadata": {
    "collapsed": false
   },
   "outputs": [],
   "source": [
    "#factorial function\n",
    "\n",
    "def factorial(n) :\n",
    "    if n==0 :\n",
    "        return 1\n",
    "    else :\n",
    "        return n * factorial(n-1)"
   ]
  },
  {
   "cell_type": "code",
   "execution_count": 5,
   "metadata": {
    "collapsed": false
   },
   "outputs": [
    {
     "data": {
      "text/plain": [
       "3628800"
      ]
     },
     "execution_count": 5,
     "metadata": {},
     "output_type": "execute_result"
    }
   ],
   "source": [
    "factorial(10)"
   ]
  },
  {
   "cell_type": "code",
   "execution_count": 6,
   "metadata": {
    "collapsed": true
   },
   "outputs": [],
   "source": [
    "#fibonacci function #O(2^n/2)\n",
    "def bad_fibonacci(n) :\n",
    "    if n <= 1 :\n",
    "        return n\n",
    "    else :\n",
    "        return bad_fibonacci(n-1) + bad_fibonacci(n-2)\n"
   ]
  },
  {
   "cell_type": "code",
   "execution_count": 7,
   "metadata": {
    "collapsed": false
   },
   "outputs": [],
   "source": [
    "def good_fibonacci(n) : #O(n)\n",
    "    if n <= 1 :\n",
    "        return (n,0)\n",
    "    else :\n",
    "        (a, b) = good_fibonacci(n-1)\n",
    "        return a+b, a"
   ]
  },
  {
   "cell_type": "code",
   "execution_count": 8,
   "metadata": {
    "collapsed": false
   },
   "outputs": [
    {
     "data": {
      "text/plain": [
       "55"
      ]
     },
     "execution_count": 8,
     "metadata": {},
     "output_type": "execute_result"
    }
   ],
   "source": [
    "bad_fibonacci(10)\n"
   ]
  },
  {
   "cell_type": "code",
   "execution_count": 9,
   "metadata": {
    "collapsed": false
   },
   "outputs": [
    {
     "data": {
      "text/plain": [
       "(55, 34)"
      ]
     },
     "execution_count": 9,
     "metadata": {},
     "output_type": "execute_result"
    }
   ],
   "source": [
    "good_fibonacci(10)"
   ]
  },
  {
   "cell_type": "code",
   "execution_count": 14,
   "metadata": {
    "collapsed": false
   },
   "outputs": [
    {
     "name": "stdout",
     "output_type": "stream",
     "text": [
      "43.2489998341\n",
      "0.00100016593933\n"
     ]
    }
   ],
   "source": [
    "#time comparison\n",
    "from time import time\n",
    "\n",
    "start_time = time() #bad fibonacci\n",
    "bad_fibonacci(40)\n",
    "end_time = time()\n",
    "\n",
    "print end_time - start_time\n",
    "\n",
    "start_time = time()\n",
    "good_fibonacci(40) #good fibonacci\n",
    "end_time = time()\n",
    "\n",
    "print end_time - start_time\n",
    "#good_fibonacci faster than bad_fibonacci "
   ]
  }
 ],
 "metadata": {
  "kernelspec": {
   "display_name": "Python [Root]",
   "language": "python",
   "name": "Python [Root]"
  },
  "language_info": {
   "codemirror_mode": {
    "name": "ipython",
    "version": 2
   },
   "file_extension": ".py",
   "mimetype": "text/x-python",
   "name": "python",
   "nbconvert_exporter": "python",
   "pygments_lexer": "ipython2",
   "version": "2.7.12"
  }
 },
 "nbformat": 4,
 "nbformat_minor": 0
}
