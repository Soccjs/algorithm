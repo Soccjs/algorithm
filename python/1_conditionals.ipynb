{
 "cells": [
  {
   "cell_type": "markdown",
   "metadata": {},
   "source": [
    "## Conditionals"
   ]
  },
  {
   "cell_type": "code",
   "execution_count": 1,
   "metadata": {
    "collapsed": false
   },
   "outputs": [
    {
     "name": "stdout",
     "output_type": "stream",
     "text": [
      "3\n",
      "+\n"
     ]
    }
   ],
   "source": [
    "#if statements\n",
    "a = input()\n",
    "if a > 0 :\n",
    "    print '+'\n",
    "elif a == 0 :\n",
    "    print '0'\n",
    "else :\n",
    "    print '-'"
   ]
  },
  {
   "cell_type": "code",
   "execution_count": 5,
   "metadata": {
    "collapsed": false
   },
   "outputs": [
    {
     "name": "stdout",
     "output_type": "stream",
     "text": [
      "3\n",
      "3\n"
     ]
    }
   ],
   "source": [
    "n = input()\n",
    "param = n if n>= 0 else -n\n",
    "print param"
   ]
  },
  {
   "cell_type": "code",
   "execution_count": 2,
   "metadata": {
    "collapsed": false
   },
   "outputs": [
    {
     "name": "stdout",
     "output_type": "stream",
     "text": [
      "3\n",
      "3\n",
      "2\n",
      "1\n"
     ]
    }
   ],
   "source": [
    "#Loops - while\n",
    "a = input()\n",
    "while a > 0 :\n",
    "    print a\n",
    "    a -= 1"
   ]
  },
  {
   "cell_type": "code",
   "execution_count": 10,
   "metadata": {
    "collapsed": false
   },
   "outputs": [
    {
     "name": "stdout",
     "output_type": "stream",
     "text": [
      "2\n",
      "4\n",
      "6\n",
      "0\n",
      "1\n",
      "2\n",
      "[2, 4]\n"
     ]
    }
   ],
   "source": [
    "#Loops - for\n",
    "data = [2, 4, 6]\n",
    "for val in data :\n",
    "    print val\n",
    "    \n",
    "for i in range(len(data)) :\n",
    "    print i\n",
    "    \n",
    "for_in_if =  [val for val in data if val<5]\n",
    "print for_in_if"
   ]
  },
  {
   "cell_type": "code",
   "execution_count": 8,
   "metadata": {
    "collapsed": false
   },
   "outputs": [
    {
     "data": {
      "text/plain": [
       "3"
      ]
     },
     "execution_count": 8,
     "metadata": {},
     "output_type": "execute_result"
    }
   ],
   "source": [
    "#function\n",
    "def checkNum(data, findNum) : \n",
    "    cnt = 0\n",
    "    for val in data :\n",
    "        if val == findNum :\n",
    "            cnt += 1\n",
    "    return cnt\n",
    "\n",
    "data = [1,2,2,3,3,3,4]\n",
    "checkNum(data,3)\n",
    "    \n",
    "    "
   ]
  }
 ],
 "metadata": {
  "kernelspec": {
   "display_name": "Python [Root]",
   "language": "python",
   "name": "Python [Root]"
  },
  "language_info": {
   "codemirror_mode": {
    "name": "ipython",
    "version": 2
   },
   "file_extension": ".py",
   "mimetype": "text/x-python",
   "name": "python",
   "nbconvert_exporter": "python",
   "pygments_lexer": "ipython2",
   "version": "2.7.12"
  }
 },
 "nbformat": 4,
 "nbformat_minor": 0
}
