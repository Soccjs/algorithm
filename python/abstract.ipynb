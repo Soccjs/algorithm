{
 "cells": [
  {
   "cell_type": "code",
   "execution_count": 1,
   "metadata": {
    "collapsed": false
   },
   "outputs": [],
   "source": [
    "from abc import ABCMeta, abstractmethod "
   ]
  },
  {
   "cell_type": "code",
   "execution_count": 2,
   "metadata": {
    "collapsed": false
   },
   "outputs": [],
   "source": [
    "class Type :\n",
    "    __metaclass__ = ABCMeta\n",
    "    @abstractmethod\n",
    "    def getArea(self) :\n",
    "        pass\n",
    "    @abstractmethod\n",
    "    def sayType(self) :\n",
    "        print \"This Shape is \",\n",
    "    \n"
   ]
  },
  {
   "cell_type": "code",
   "execution_count": 3,
   "metadata": {
    "collapsed": false
   },
   "outputs": [],
   "source": [
    "class Circle(Type) :\n",
    "    def __init__(self, r) :\n",
    "        self.radius = r\n",
    "    \n",
    "    def getArea (self) :\n",
    "        return 3.14 * self.radius * self.radius\n",
    "    \n",
    "    def sayType(self) :\n",
    "        super(Circle,self).sayType()\n",
    "        print  \"Circle\"\n"
   ]
  },
  {
   "cell_type": "code",
   "execution_count": 4,
   "metadata": {
    "collapsed": false
   },
   "outputs": [],
   "source": [
    "class Rectangle(Type) :\n",
    "    def __init__ (self, w, h) :\n",
    "        self.weight = w\n",
    "        self.height = h\n",
    "    \n",
    "    def getArea (self) :\n",
    "        return self.weight * self.height\n",
    "    \n",
    "    def sayType(self) :\n",
    "        super(Rectangle,self).sayType()\n",
    "        print \"Rectangle\"\n"
   ]
  },
  {
   "cell_type": "code",
   "execution_count": 5,
   "metadata": {
    "collapsed": false
   },
   "outputs": [],
   "source": [
    "C = Circle(1)\n",
    "R = Rectangle(2,4)\n"
   ]
  },
  {
   "cell_type": "code",
   "execution_count": 6,
   "metadata": {
    "collapsed": false
   },
   "outputs": [
    {
     "name": "stdout",
     "output_type": "stream",
     "text": [
      "3.14\n",
      "8\n"
     ]
    }
   ],
   "source": [
    "print C.getArea()\n",
    "print R.getArea()"
   ]
  },
  {
   "cell_type": "code",
   "execution_count": 7,
   "metadata": {
    "collapsed": false
   },
   "outputs": [
    {
     "name": "stdout",
     "output_type": "stream",
     "text": [
      "This Shape is  Circle\n",
      "This Shape is  Rectangle\n"
     ]
    }
   ],
   "source": [
    "C.sayType()\n",
    "R.sayType()"
   ]
  }
 ],
 "metadata": {
  "anaconda-cloud": {},
  "kernelspec": {
   "display_name": "Python [Root]",
   "language": "python",
   "name": "Python [Root]"
  },
  "language_info": {
   "codemirror_mode": {
    "name": "ipython",
    "version": 2
   },
   "file_extension": ".py",
   "mimetype": "text/x-python",
   "name": "python",
   "nbconvert_exporter": "python",
   "pygments_lexer": "ipython2",
   "version": "2.7.12"
  }
 },
 "nbformat": 4,
 "nbformat_minor": 0
}
