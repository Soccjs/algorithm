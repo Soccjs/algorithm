{
 "cells": [
  {
   "cell_type": "markdown",
   "metadata": {},
   "source": [
    "## Array-Based Sequence"
   ]
  },
  {
   "cell_type": "code",
   "execution_count": 1,
   "metadata": {
    "collapsed": false
   },
   "outputs": [
    {
     "name": "stdout",
     "output_type": "stream",
     "text": [
      "[1, 2, 3, 4, 5]\n",
      "[1, 2, 3, 4, 5]\n",
      "[5, 4, 3, 2, 1]\n"
     ]
    }
   ],
   "source": [
    "#List\n",
    "make_list = list()\n",
    "\n",
    "#adding elements to a List\n",
    "make_list = [i+1 for i in range(5)]\n",
    "print make_list\n",
    "\n",
    "make_first_end, make_end_first = [], []\n",
    "\n",
    "for i in range(5) :\n",
    "    make_first_end.insert(5, i+1)\n",
    "print make_first_end\n",
    "\n",
    "for i in range(5) :\n",
    "    make_end_first.insert(0, i+1)\n",
    "print make_end_first\n"
   ]
  },
  {
   "cell_type": "code",
   "execution_count": 2,
   "metadata": {
    "collapsed": false
   },
   "outputs": [
    {
     "name": "stdout",
     "output_type": "stream",
     "text": [
      "[1, 2, 3, 4, 5, 1]\n",
      "[1, 3, 4, 5, 1]\n",
      "[1, 4, 5, 1]\n",
      "[4, 5, 1]\n"
     ]
    }
   ],
   "source": [
    "#removing elements from a list\n",
    "data = [1,2,3,4,5,1,3]\n",
    "\n",
    "#1. pop\n",
    "data.pop() # removes the last element from a list\n",
    "print data #[1, 2, 3, 4, 5, 1]\n",
    "\n",
    "data.pop(1) # pop(k), removes the element at index k (<n)\n",
    "print data #[1, 3, 4, 5, 1]\n",
    "\n",
    "#2.remove\n",
    "data.remove(3) #remove(k), removes the specify the value.\n",
    "print data #[1, 4, 5, 1]\n",
    "\n",
    "data.remove(1)\n",
    "print data #[4, 5, 1]"
   ]
  },
  {
   "cell_type": "code",
   "execution_count": 3,
   "metadata": {
    "collapsed": false
   },
   "outputs": [
    {
     "name": "stdout",
     "output_type": "stream",
     "text": [
      "[1, 2, 3, 4, 5]\n",
      "[1, 2, 3, 4, 5, 6, 7, 8]\n"
     ]
    }
   ],
   "source": [
    "#Extending a list\n",
    "data = []\n",
    "\n",
    "#1. append(k)\n",
    "for element in range(5) : # == [i+1 for i in range(5)]\n",
    "    data.append(element+1)\n",
    "print data #[1, 2, 3, 4, 5]\n",
    "\n",
    "#2. extend([])\n",
    "data1 = [6,7,8]\n",
    "data.extend(data1)\n",
    "print data #[1, 2, 3, 4, 5, 6, 7, 8]"
   ]
  },
  {
   "cell_type": "code",
   "execution_count": 4,
   "metadata": {
    "collapsed": false
   },
   "outputs": [
    {
     "name": "stdout",
     "output_type": "stream",
     "text": [
      "[[0, 0, 0, 0, 0], [0, 0, 0, 0, 0], [0, 0, 0, 0, 0], [0, 0, 0, 0, 0], [0, 0, 0, 0, 0]]\n",
      "[[1, 2, 3, 4, 5], [6, 7, 8, 9, 10], [11, 12, 13, 14, 15], [16, 17, 18, 19, 20], [21, 22, 23, 24, 25]]\n"
     ]
    }
   ],
   "source": [
    "#Constructing a Multidimensional List\n",
    "data = [[0] * 5 for i in range(5)]\n",
    "print data\n",
    "\n",
    "data = [[(i)*5+j+1 for j in range(5)] for i in range(5)]\n",
    "print data"
   ]
  }
 ],
 "metadata": {
  "kernelspec": {
   "display_name": "Python [Root]",
   "language": "python",
   "name": "Python [Root]"
  },
  "language_info": {
   "codemirror_mode": {
    "name": "ipython",
    "version": 2
   },
   "file_extension": ".py",
   "mimetype": "text/x-python",
   "name": "python",
   "nbconvert_exporter": "python",
   "pygments_lexer": "ipython2",
   "version": "2.7.12"
  }
 },
 "nbformat": 4,
 "nbformat_minor": 0
}
