{
 "cells": [
  {
   "cell_type": "markdown",
   "metadata": {},
   "source": [
    "## Stacks"
   ]
  },
  {
   "cell_type": "markdown",
   "metadata": {},
   "source": [
    "### 1.Stacks(LIFO)"
   ]
  },
  {
   "cell_type": "code",
   "execution_count": 1,
   "metadata": {
    "collapsed": false
   },
   "outputs": [],
   "source": [
    "class Stack:\n",
    "    def __init__(self) :\n",
    "        self.items = []\n",
    "    \n",
    "    def isEmpty(self) :\n",
    "        return self.items == []\n",
    "    \n",
    "    def push(self, item) :\n",
    "        return self.items.append(item)\n",
    "    \n",
    "    def pop(self) :\n",
    "        return self.items.pop()\n",
    "    \n",
    "    def top(self) :\n",
    "        return self.items[-1]\n",
    "    \n",
    "    def size(self) :\n",
    "        return len(self.items)"
   ]
  },
  {
   "cell_type": "code",
   "execution_count": 2,
   "metadata": {
    "collapsed": false
   },
   "outputs": [
    {
     "name": "stdout",
     "output_type": "stream",
     "text": [
      "[]\n",
      "[0, 1, 2, 3, 4, 5, 6]\n",
      "[0, 1, 2, 3, 4]\n",
      "4\n",
      "5\n"
     ]
    }
   ],
   "source": [
    "S = Stack()\n",
    "\n",
    "print S.items #[]\n",
    "\n",
    "for i in range(7) :\n",
    "    S.push(i)\n",
    "print S.items #[0, 1, 2, 3, 4, 5, 6]\n",
    "\n",
    "S.pop()\n",
    "S.pop()\n",
    "print S.items #[0, 1, 2, 3, 4]\n",
    "\n",
    "print S.top() #4\n",
    "\n",
    "print S.size() #5\n"
   ]
  },
  {
   "cell_type": "code",
   "execution_count": 3,
   "metadata": {
    "collapsed": false
   },
   "outputs": [],
   "source": [
    "#examples - 1.Matching Parentheses \n",
    "\n",
    "# Correct: ( )(( )){([( )])}\n",
    "# Correct: ((( )(( )){([( )])}))\n",
    "# Incorrect: )(( )){([( )])}\n",
    "# Incorrect: ({[])}\n",
    "# Incorrect: (\n",
    "\n",
    "test_list = ['( )(( )){([( )])}',\n",
    "             '((( )(( )){([( )])}))',\n",
    "             ')(( )){([( )])}',\n",
    "             '({[])}',\n",
    "             '('\n",
    "            ]"
   ]
  },
  {
   "cell_type": "code",
   "execution_count": 4,
   "metadata": {
    "collapsed": true
   },
   "outputs": [],
   "source": [
    "\n",
    "def match_parentheses(test_list) :\n",
    "    S = Stack()\n",
    "    leftSide = '({['\n",
    "    rightSide = ')}]'\n",
    "    for i in range(len(test_list)) :\n",
    "        tmp = test_list[i]\n",
    "        \n",
    "        if tmp in leftSide :\n",
    "            S.push(tmp)\n",
    "        elif tmp in rightSide :\n",
    "            if S.isEmpty() : return False\n",
    "            if leftSide.index(S.top()) == rightSide.index(tmp) : S.pop()\n",
    "        else : pass\n",
    "    \n",
    "    return S.isEmpty()\n",
    "\n",
    "def is_matched(result) :\n",
    "    if result : print 'Correct'\n",
    "    else : print 'Incorrect'\n"
   ]
  },
  {
   "cell_type": "code",
   "execution_count": 5,
   "metadata": {
    "collapsed": false
   },
   "outputs": [
    {
     "name": "stdout",
     "output_type": "stream",
     "text": [
      "0 . ( )(( )){([( )])}\n",
      "Correct\n",
      "1 . ((( )(( )){([( )])}))\n",
      "Correct\n",
      "2 . )(( )){([( )])}\n",
      "Incorrect\n",
      "3 . ({[])}\n",
      "Incorrect\n",
      "4 . (\n",
      "Incorrect\n"
     ]
    }
   ],
   "source": [
    "for i,test in enumerate(test_list) :\n",
    "    print i,'.',test\n",
    "    is_matched(match_parentheses(test))"
   ]
  }
 ],
 "metadata": {
  "kernelspec": {
   "display_name": "Python [Root]",
   "language": "python",
   "name": "Python [Root]"
  },
  "language_info": {
   "codemirror_mode": {
    "name": "ipython",
    "version": 2
   },
   "file_extension": ".py",
   "mimetype": "text/x-python",
   "name": "python",
   "nbconvert_exporter": "python",
   "pygments_lexer": "ipython2",
   "version": "2.7.12"
  }
 },
 "nbformat": 4,
 "nbformat_minor": 0
}
