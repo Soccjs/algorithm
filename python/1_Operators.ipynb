{
 "cells": [
  {
   "cell_type": "markdown",
   "metadata": {},
   "source": [
    "## Operator"
   ]
  },
  {
   "cell_type": "code",
   "execution_count": 3,
   "metadata": {
    "collapsed": false
   },
   "outputs": [
    {
     "name": "stdout",
     "output_type": "stream",
     "text": [
      "True\n",
      "False\n",
      "False\n",
      "True\n",
      "True False\n",
      "False\n",
      "False\n",
      "True\n"
     ]
    }
   ],
   "source": [
    "#logical operators\n",
    "a = True\n",
    "b = False\n",
    "\n",
    "print a\n",
    "print not a\n",
    "\n",
    "print a and b\n",
    "print a or b\n",
    "\n",
    "print a is True, a is b #same identity\n",
    "print a is not True #different identity\n",
    "\n",
    "print a == b #equivalent\n",
    "print a != b #not equivalent"
   ]
  },
  {
   "cell_type": "code",
   "execution_count": 9,
   "metadata": {
    "collapsed": false
   },
   "outputs": [
    {
     "name": "stdout",
     "output_type": "stream",
     "text": [
      "False\n",
      "True\n",
      "True\n",
      "True\n"
     ]
    }
   ],
   "source": [
    "#Comparision Operators\n",
    "a = 1\n",
    "b = -1\n",
    "print a < b\n",
    "print a <= 1\n",
    "print a > b\n",
    "print a >= 1"
   ]
  },
  {
   "cell_type": "code",
   "execution_count": 14,
   "metadata": {
    "collapsed": false
   },
   "outputs": [
    {
     "name": "stdout",
     "output_type": "stream",
     "text": [
      "7\n",
      "3\n",
      "10\n",
      "2\n",
      "1\n",
      "2\n"
     ]
    }
   ],
   "source": [
    "#Arithmetic Operators\n",
    "a, b = 5, 2\n",
    "print a+b #addition\n",
    "print a-b #subtraction\n",
    "print a*b #multiplication\n",
    "print a/b #true division\n",
    "print a%b #the modulo operator \n",
    "print a//b #integer division"
   ]
  },
  {
   "cell_type": "code",
   "execution_count": 21,
   "metadata": {
    "collapsed": false
   },
   "outputs": [
    {
     "name": "stdout",
     "output_type": "stream",
     "text": [
      "1\n",
      "[2, 3, 4, 5, 6, 7, 8]\n",
      "[2, 4, 6, 8]\n",
      "[1, 2, 3, 4, 5, 6, 7, 8, 9, 10, 11, 12, 13, 14, 15]\n",
      "[1, 2, 3, 4, 5, 6, 7, 8, 9, 10, 1, 2, 3, 4, 5, 6, 7, 8, 9, 10, 1, 2, 3, 4, 5, 6, 7, 8, 9, 10]\n",
      "True\n"
     ]
    }
   ],
   "source": [
    "#Sequence Operator\n",
    "make_list = [1,2,3,4,5,6,7,8,9,10]\n",
    "\n",
    "first = make_list[0] #arr[i] , element at index i\n",
    "print first\n",
    "\n",
    "startToend = make_list[1:8] #arr[start:stop] , [start, stop]\n",
    "print startToend\n",
    "\n",
    "startTostop_step = make_list[1:8:2] #arr[start:stop:step] , [start, stop] by step\n",
    "print startTostop_step\n",
    "\n",
    "\n",
    "make_list1 = [11,12,13,14,15]\n",
    "\n",
    "S = make_list + make_list1 #concatenation\n",
    "print S\n",
    "\n",
    "print make_list*3 # k times \n",
    "\n",
    "print 3 in make_list #check number in list\n",
    "\n"
   ]
  },
  {
   "cell_type": "code",
   "execution_count": 25,
   "metadata": {
    "collapsed": false
   },
   "outputs": [
    {
     "name": "stdout",
     "output_type": "stream",
     "text": [
      "[1, 2, 3] [1, 2, 3]\n",
      "[1, 2, 3, 4] [1, 2, 3]\n",
      "[1, 2, 3, 4] [1, 2, 3, 5]\n",
      "[1, 2, 3, 5] [1, 2, 3, 5]\n",
      "[1, 2, 3, 5, 6, 7] [1, 2, 3, 5, 6, 7]\n"
     ]
    }
   ],
   "source": [
    "# a +=  k not  a = a + k \n",
    "a = [1,2,3]\n",
    "b = a\n",
    "print a, b\n",
    "a = a + [4]\n",
    "\n",
    "print a, b\n",
    "b = b + [5]\n",
    "\n",
    "print a,b\n",
    "\n",
    "c = b\n",
    "\n",
    "print c,b\n",
    "c+= [6,7]\n",
    "print c,b"
   ]
  }
 ],
 "metadata": {
  "anaconda-cloud": {},
  "kernelspec": {
   "display_name": "Python [Root]",
   "language": "python",
   "name": "Python [Root]"
  },
  "language_info": {
   "codemirror_mode": {
    "name": "ipython",
    "version": 2
   },
   "file_extension": ".py",
   "mimetype": "text/x-python",
   "name": "python",
   "nbconvert_exporter": "python",
   "pygments_lexer": "ipython2",
   "version": "2.7.12"
  }
 },
 "nbformat": 4,
 "nbformat_minor": 0
}
