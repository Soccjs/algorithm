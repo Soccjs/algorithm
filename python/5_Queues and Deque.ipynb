{
 "cells": [
  {
   "cell_type": "markdown",
   "metadata": {},
   "source": [
    "## Queues"
   ]
  },
  {
   "cell_type": "markdown",
   "metadata": {},
   "source": [
    "### 1. Queues (FIFO) "
   ]
  },
  {
   "cell_type": "code",
   "execution_count": 1,
   "metadata": {
    "collapsed": false
   },
   "outputs": [],
   "source": [
    "class Queue :\n",
    "    def __init__(self) :\n",
    "        self.items = []\n",
    "    \n",
    "    def isEmpty(self) :\n",
    "        return self.items == []\n",
    "    \n",
    "    def enqueue(self, item) :\n",
    "        self.items.insert(0, item)\n",
    "    \n",
    "    def dequeue(self) :\n",
    "        if self.isEmpty() :\n",
    "            print \"Queue is Empty!\"\n",
    "        else :\n",
    "            del self.items[-1]\n",
    "\n",
    "    def size(self) :\n",
    "        return len(self.items)\n"
   ]
  },
  {
   "cell_type": "code",
   "execution_count": 2,
   "metadata": {
    "collapsed": false
   },
   "outputs": [
    {
     "name": "stdout",
     "output_type": "stream",
     "text": [
      "[]\n",
      "True\n",
      "[3]\n",
      "[4, 3]\n",
      "[4]\n",
      "[]\n",
      "Queue is Empty!\n"
     ]
    }
   ],
   "source": [
    "Q = Queue()\n",
    "\n",
    "print Q.items\n",
    "print Q.isEmpty()\n",
    "Q.enqueue(3)\n",
    "print Q.items\n",
    "Q.enqueue(4)\n",
    "print Q.items\n",
    "Q.dequeue()\n",
    "print Q.items\n",
    "Q.dequeue()\n",
    "print Q.items\n",
    "Q.dequeue()\n"
   ]
  },
  {
   "cell_type": "markdown",
   "metadata": {},
   "source": [
    "### 2. Deque (Double-Ended Queues)"
   ]
  },
  {
   "cell_type": "code",
   "execution_count": 3,
   "metadata": {
    "collapsed": true
   },
   "outputs": [],
   "source": [
    "class Deque :\n",
    "    def __init__ (self) :\n",
    "        self.items = []\n",
    "        self.front = 0\n",
    "        self.rear = -1\n",
    "        \n",
    "    def isEmpty(self) :\n",
    "        return self.items == []\n",
    "    \n",
    "    def addFront(self, item) :\n",
    "        self.items.insert(0, item)\n",
    "    \n",
    "    def addRear(self, item) :\n",
    "        self.items.append(item)    \n",
    "    \n",
    "    def deleteFront(self) :\n",
    "        if self.isEmpty() :\n",
    "            print \"deque is Empty\"\n",
    "        else :\n",
    "            del self.items[self.front]\n",
    "    \n",
    "    def deleteRear(self) :\n",
    "        if self.isEmpty() :\n",
    "            print \"deque is Empty\"\n",
    "        else :\n",
    "            del self.items[self.rear]\n",
    "    \n",
    "    def size(self) :\n",
    "        return len(self.items)"
   ]
  },
  {
   "cell_type": "code",
   "execution_count": 4,
   "metadata": {
    "collapsed": false
   },
   "outputs": [
    {
     "name": "stdout",
     "output_type": "stream",
     "text": [
      "True\n",
      "[]\n",
      "[1]\n",
      "[1, 3]\n",
      "[5, 1, 3]\n",
      "[7, 5, 1, 3]\n",
      "4\n",
      "False\n",
      "[7, 5, 1, 3]\n",
      "[7, 5, 1, 3, 9]\n",
      "[7, 5, 1, 3]\n",
      "[5, 1, 3]\n"
     ]
    }
   ],
   "source": [
    "dQ = Deque()\n",
    "\n",
    "print dQ.isEmpty()\n",
    "\n",
    "print dQ.items\n",
    "dQ.addRear(1)\n",
    "print dQ.items\n",
    "dQ.addRear(3)\n",
    "print dQ.items\n",
    "dQ.addFront(5)\n",
    "print dQ.items\n",
    "dQ.addFront(7)\n",
    "print dQ.items\n",
    "\n",
    "print dQ.size()\n",
    "\n",
    "print dQ.isEmpty()\n",
    "\n",
    "print dQ.items\n",
    "dQ.addRear(9)\n",
    "print dQ.items\n",
    "dQ.deleteRear()\n",
    "print dQ.items\n",
    "dQ.deleteFront()\n",
    "print dQ.items\n"
   ]
  }
 ],
 "metadata": {
  "kernelspec": {
   "display_name": "Python [Root]",
   "language": "python",
   "name": "Python [Root]"
  },
  "language_info": {
   "codemirror_mode": {
    "name": "ipython",
    "version": 2
   },
   "file_extension": ".py",
   "mimetype": "text/x-python",
   "name": "python",
   "nbconvert_exporter": "python",
   "pygments_lexer": "ipython2",
   "version": "2.7.12"
  }
 },
 "nbformat": 4,
 "nbformat_minor": 0
}
