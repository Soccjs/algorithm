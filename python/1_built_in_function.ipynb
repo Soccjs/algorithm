{
 "cells": [
  {
   "cell_type": "markdown",
   "metadata": {},
   "source": [
    "## Built-in function"
   ]
  },
  {
   "cell_type": "code",
   "execution_count": 101,
   "metadata": {
    "collapsed": false
   },
   "outputs": [
    {
     "name": "stdout",
     "output_type": "stream",
     "text": [
      "hi\n",
      "hello hi\n",
      "Input number a and b :\"3 4\"\n",
      "3 4\n"
     ]
    }
   ],
   "source": [
    "#input, output\n",
    "name = raw_input() #input\n",
    "print 'hello' , name #print\n",
    "\n",
    "#multiple input\n",
    "reply = input('Input number a and b :')\n",
    "print reply\n",
    "reply = reply.split()\n",
    "a = int(reply[0])\n",
    "b = int(reply[1])"
   ]
  },
  {
   "cell_type": "code",
   "execution_count": 93,
   "metadata": {
    "collapsed": false
   },
   "outputs": [
    {
     "name": "stdout",
     "output_type": "stream",
     "text": [
      "65\n",
      "A\n",
      "HI\n"
     ]
    }
   ],
   "source": [
    "#character encoding\n",
    "A = ord('A')\n",
    "print A #65\n",
    "\n",
    "en_A = chr(A)\n",
    "print en_A #A\n",
    "\n",
    "print 'hi'.upper()\n"
   ]
  },
  {
   "cell_type": "code",
   "execution_count": 90,
   "metadata": {
    "collapsed": false,
    "scrolled": false
   },
   "outputs": [
    {
     "name": "stdout",
     "output_type": "stream",
     "text": [
      "3 3\n",
      "(2, 1)\n",
      "81\n",
      "3.0\n",
      "3.14\n"
     ]
    }
   ],
   "source": [
    "#mathematics\n",
    "\n",
    "#abs(val)\n",
    "print abs(3), abs(-3) #(2, 1)\n",
    "\n",
    "#divmod(val, k)\n",
    "print divmod(5,2) #(2, 1)\n",
    "\n",
    "#pow(val, k)\n",
    "print pow(3,4) #81\n",
    "\n",
    "#round(val)\n",
    "print round(3.141592) #3.0\n",
    "print round(3.141592, 2) #[1, 3, 5]"
   ]
  },
  {
   "cell_type": "code",
   "execution_count": 89,
   "metadata": {
    "collapsed": false
   },
   "outputs": [
    {
     "name": "stdout",
     "output_type": "stream",
     "text": [
      "0 name\n",
      "1 mail\n",
      "2 num\n",
      "[1, 3, 5]\n"
     ]
    }
   ],
   "source": [
    "#enumerate((object))\n",
    "a = ['name', 'mail', 'num']\n",
    "for i, val in enumerate(a) :\n",
    "    print i, val\n",
    "\n",
    "#filter\n",
    "def positive(val) :\n",
    "    return val > 0\n",
    "data = [-1,0,1,-3,3,5]\n",
    "print list(filter(positive, data)) #[1, 3, 5]\n",
    "    "
   ]
  },
  {
   "cell_type": "code",
   "execution_count": 56,
   "metadata": {
    "collapsed": false
   },
   "outputs": [
    {
     "name": "stdout",
     "output_type": "stream",
     "text": [
      "0x64\n",
      "0144\n"
     ]
    }
   ],
   "source": [
    "#int to hex\n",
    "print hex(100)\n",
    "\n",
    "#int to oct\n",
    "print oct(100)"
   ]
  },
  {
   "cell_type": "code",
   "execution_count": 57,
   "metadata": {
    "collapsed": false
   },
   "outputs": [
    {
     "name": "stdout",
     "output_type": "stream",
     "text": [
      "39221676\n",
      "39221676\n",
      "39221676\n"
     ]
    }
   ],
   "source": [
    "#id\n",
    "a = 100\n",
    "print id(100)\n",
    "print id(100)\n",
    "b = a\n",
    "print id(b)"
   ]
  },
  {
   "cell_type": "code",
   "execution_count": 45,
   "metadata": {
    "collapsed": false
   },
   "outputs": [
    {
     "name": "stdout",
     "output_type": "stream",
     "text": [
      "True\n"
     ]
    }
   ],
   "source": [
    "#isinstance\n",
    "a = []\n",
    "print isinstance(a, list)"
   ]
  },
  {
   "cell_type": "code",
   "execution_count": 72,
   "metadata": {
    "collapsed": false
   },
   "outputs": [
    {
     "name": "stdout",
     "output_type": "stream",
     "text": [
      "<type 'list'>\n"
     ]
    }
   ],
   "source": [
    "#type\n",
    "print type([])\n"
   ]
  },
  {
   "cell_type": "code",
   "execution_count": 49,
   "metadata": {
    "collapsed": false
   },
   "outputs": [
    {
     "name": "stdout",
     "output_type": "stream",
     "text": [
      "7\n",
      "[1, 2, 3, 4, 5, 6]\n",
      "9\n",
      "14\n"
     ]
    }
   ],
   "source": [
    "#lambda\n",
    "sum = lambda a, b : a+b\n",
    "print sum(3,4)\n",
    "print sum([1,2,3], [4,5,6])\n",
    "\n",
    "funcList = [lambda a,b:a+b, lambda a,b:a*b]\n",
    "print funcList[0](2,7)\n",
    "print funcList[1](2,7)"
   ]
  },
  {
   "cell_type": "code",
   "execution_count": 53,
   "metadata": {
    "collapsed": false
   },
   "outputs": [
    {
     "name": "stdout",
     "output_type": "stream",
     "text": [
      "[2, 4, 6]\n",
      "[2, 4, 6]\n"
     ]
    }
   ],
   "source": [
    "#map\n",
    "def two_times(val) : return val*2\n",
    "data = [1,2,3]\n",
    "\n",
    "print map(two_times, data) #[2, 4, 6]\n",
    "\n",
    "print map(lambda val:val*2, data) #[2, 4, 6]"
   ]
  },
  {
   "cell_type": "code",
   "execution_count": 55,
   "metadata": {
    "collapsed": false
   },
   "outputs": [
    {
     "name": "stdout",
     "output_type": "stream",
     "text": [
      "3 1\n",
      "o e\n"
     ]
    }
   ],
   "source": [
    "#max, min\n",
    "data = [1,2,3]\n",
    "S = 'hello'\n",
    "\n",
    "print max(data), min(data) #3 1\n",
    "print max(S), min(S) #o e"
   ]
  },
  {
   "cell_type": "code",
   "execution_count": 61,
   "metadata": {
    "collapsed": false
   },
   "outputs": [
    {
     "name": "stdout",
     "output_type": "stream",
     "text": [
      "[0, 1, 2, 3, 4]\n",
      "[5, 6]\n",
      "[5, 7, 9]\n"
     ]
    }
   ],
   "source": [
    "#range \n",
    "print range(5) #[0, 1, 2, 3, 4]\n",
    "print range(5,7) #[5, 6]\n",
    "print range(5,10,2) #[5, 7, 9]"
   ]
  },
  {
   "cell_type": "code",
   "execution_count": 87,
   "metadata": {
    "collapsed": false
   },
   "outputs": [
    {
     "name": "stdout",
     "output_type": "stream",
     "text": [
      "3\n"
     ]
    }
   ],
   "source": [
    "#len\n",
    "data = [1,2,3]\n",
    "print len(data) #3"
   ]
  },
  {
   "cell_type": "code",
   "execution_count": 88,
   "metadata": {
    "collapsed": false
   },
   "outputs": [
    {
     "name": "stdout",
     "output_type": "stream",
     "text": [
      "2\n",
      "1\n"
     ]
    }
   ],
   "source": [
    "#index\n",
    "data = ['apple', 'banana', 1, 2]\n",
    "print data.index(1) #2\n",
    "print data.index('banana') #1"
   ]
  },
  {
   "cell_type": "code",
   "execution_count": 83,
   "metadata": {
    "collapsed": false
   },
   "outputs": [
    {
     "name": "stdout",
     "output_type": "stream",
     "text": [
      "[1, 2, 3, 4, 5]\n",
      "[5, 4, 3, 2, 1]\n"
     ]
    }
   ],
   "source": [
    "#sorted, reverse\n",
    "data = [1, 5, 3, 4, 2]\n",
    "sorted_data = sorted(data)\n",
    "print sorted_data\n",
    "\n",
    "sorted_data.reverse()\n",
    "print sorted_data"
   ]
  },
  {
   "cell_type": "code",
   "execution_count": 74,
   "metadata": {
    "collapsed": false
   },
   "outputs": [
    {
     "name": "stdout",
     "output_type": "stream",
     "text": [
      "[(1, 2), (3, 4), (5, 6), (7, 8), (9, 10)]\n"
     ]
    }
   ],
   "source": [
    "#zip\n",
    "data1 = [1,3,5,7,9]\n",
    "data2 = [2,4,6,8,10]\n",
    "data3 = zip(data1, data2)\n",
    "print data3"
   ]
  },
  {
   "cell_type": "code",
   "execution_count": 34,
   "metadata": {
    "collapsed": false
   },
   "outputs": [
    {
     "name": "stdout",
     "output_type": "stream",
     "text": [
      "3\n",
      "hijs\n",
      "16\n",
      "['__add__', '__class__', '__contains__', '__delattr__', '__delitem__', '__delslice__', '__doc__', '__eq__', '__format__', '__ge__', '__getattribute__', '__getitem__', '__getslice__', '__gt__', '__hash__', '__iadd__', '__imul__', '__init__', '__iter__', '__le__', '__len__', '__lt__', '__mul__', '__ne__', '__new__', '__reduce__', '__reduce_ex__', '__repr__', '__reversed__', '__rmul__', '__setattr__', '__setitem__', '__setslice__', '__sizeof__', '__str__', '__subclasshook__', 'append', 'count', 'extend', 'index', 'insert', 'pop', 'remove', 'reverse', 'sort']\n",
      "['__class__', '__cmp__', '__contains__', '__delattr__', '__delitem__', '__doc__', '__eq__', '__format__', '__ge__', '__getattribute__', '__getitem__', '__gt__', '__hash__', '__init__', '__iter__', '__le__', '__len__', '__lt__', '__ne__', '__new__', '__reduce__', '__reduce_ex__', '__repr__', '__setattr__', '__setitem__', '__sizeof__', '__str__', '__subclasshook__', 'clear', 'copy', 'fromkeys', 'get', 'has_key', 'items', 'iteritems', 'iterkeys', 'itervalues', 'keys', 'pop', 'popitem', 'setdefault', 'update', 'values', 'viewitems', 'viewkeys', 'viewvalues']\n",
      "['__add__', '__class__', '__contains__', '__delattr__', '__doc__', '__eq__', '__format__', '__ge__', '__getattribute__', '__getitem__', '__getnewargs__', '__getslice__', '__gt__', '__hash__', '__init__', '__iter__', '__le__', '__len__', '__lt__', '__mul__', '__ne__', '__new__', '__reduce__', '__reduce_ex__', '__repr__', '__rmul__', '__setattr__', '__sizeof__', '__str__', '__subclasshook__', 'count', 'index']\n"
     ]
    }
   ],
   "source": [
    "#eval\n",
    "print eval('1+2')\n",
    "print eval(\"'hi' + 'js'\")\n",
    "print eval('pow(2,4)')\n",
    "    \n",
    "#dir(object)\n",
    "a = []\n",
    "b = {}\n",
    "c = ()\n",
    "print dir(a)\n",
    "print dir(b)\n",
    "print dir(c)"
   ]
  }
 ],
 "metadata": {
  "anaconda-cloud": {},
  "kernelspec": {
   "display_name": "Python [Root]",
   "language": "python",
   "name": "Python [Root]"
  },
  "language_info": {
   "codemirror_mode": {
    "name": "ipython",
    "version": 2
   },
   "file_extension": ".py",
   "mimetype": "text/x-python",
   "name": "python",
   "nbconvert_exporter": "python",
   "pygments_lexer": "ipython2",
   "version": "2.7.12"
  }
 },
 "nbformat": 4,
 "nbformat_minor": 0
}
