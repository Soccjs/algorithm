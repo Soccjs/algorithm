{
 "cells": [
  {
   "cell_type": "code",
   "execution_count": 7,
   "metadata": {
    "collapsed": false
   },
   "outputs": [
    {
     "name": "stdout",
     "output_type": "stream",
     "text": [
      "[1, 0, -1] [9, 26, 63]\n",
      "0\n",
      "3\n",
      "123\n",
      "63\n"
     ]
    }
   ],
   "source": [
    "#int Class\n",
    "\n",
    "intList1 = [1, 0 , -1]\n",
    "\n",
    "intList2 = [0b1001, 0o32, 0x3f] # binary, octal, hexadecimal\n",
    "\n",
    "print intList1, intList2 #[1, 0, -1] [9, 26, 63]\n",
    "\n",
    "#integer constructor\n",
    "a = int() #returns value 0 by default\n",
    "print a #0\n",
    "\n",
    "b = int(3.14) #float to int\n",
    "print b #3\n",
    "\n",
    "c = int('123') #string to int\n",
    "print c #123 \n",
    "\n",
    "d = int('3f', 16) #conversion to int\n",
    "print d #63"
   ]
  },
  {
   "cell_type": "code",
   "execution_count": 14,
   "metadata": {
    "collapsed": false
   },
   "outputs": [
    {
     "name": "stdout",
     "output_type": "stream",
     "text": [
      "0.0\n",
      "2.0\n"
     ]
    }
   ],
   "source": [
    "#float Class\n",
    "\n",
    "#float constructor\n",
    "a = float() #returns value 0.0 by default\n",
    "print a\n",
    "\n",
    "b = float(2)\n",
    "print b #2.0\n"
   ]
  },
  {
   "cell_type": "code",
   "execution_count": 16,
   "metadata": {
    "collapsed": false
   },
   "outputs": [
    {
     "name": "stdout",
     "output_type": "stream",
     "text": [
      "[] []\n"
     ]
    }
   ],
   "source": [
    "#list class\n",
    "a = [] #empty list\n",
    "\n",
    "#list constructor\n",
    "b = list() #returns empty list\n",
    "\n",
    "print a, b"
   ]
  },
  {
   "cell_type": "code",
   "execution_count": 28,
   "metadata": {
    "collapsed": false
   },
   "outputs": [
    {
     "name": "stdout",
     "output_type": "stream",
     "text": [
      "() (1, 2, 3) (1,)\n",
      "1 2 3\n",
      "(1, 2, 3, 'c', 'd')\n",
      "(2, 3)\n",
      "(1, 2, 3, 1, 2, 3, 1, 2, 3)\n"
     ]
    }
   ],
   "source": [
    "#tuple class\n",
    "a = ()\n",
    "b = (1,2,3)\n",
    "test = (1,) # if one-element tuple , must require comma.\n",
    "\n",
    "print a, b, test\n",
    "print b[0], b[1], b[-1] #access indexing \n",
    "\n",
    "c = ('c', 'd') #\n",
    "d = b + c\n",
    "print d\n",
    "\n",
    "e = b[1:] #slice indexing\n",
    "print e\n",
    "\n",
    "f = b * 3 #multiple copy\n",
    "print f\n"
   ]
  },
  {
   "cell_type": "code",
   "execution_count": 47,
   "metadata": {
    "collapsed": false
   },
   "outputs": [
    {
     "name": "stdout",
     "output_type": "stream",
     "text": [
      "js\n",
      "{'phone': '01011112222', 'name': 'sh'}\n",
      "['phone', 'name']\n",
      "['01011112222', 'sh']\n",
      "[('phone', '01011112222'), ('name', 'sh')]\n",
      "sh\n",
      "True False\n"
     ]
    }
   ],
   "source": [
    "#dict class\n",
    "my_info = {'name':\"js\", 'email':\"jXXsXXX@gmail.com\", 'phone': '01012345678'}\n",
    "print my_info['name']\n",
    "\n",
    "my_info['name'] = 'sh'\n",
    "my_info['phone'] = '01011112222'\n",
    "del my_info['email']\n",
    "\n",
    "print my_info #{'phone': '01011112222', 'name': 'sh'}\n",
    "\n",
    "\n",
    "print my_info.keys() #['phone', 'name']\n",
    "\n",
    "\n",
    "print my_info.values() #['01011112222', 'sh']\n",
    "\n",
    "\n",
    "print my_info.items() #[('phone', '01011112222'), ('name', 'sh')]\n",
    "\n",
    "\n",
    "print my_info.get('name') #sh\n",
    "\n",
    "T = 'name' in my_info #True\n",
    "F = 'job' in my_info #False\n",
    "print T,F"
   ]
  },
  {
   "cell_type": "code",
   "execution_count": 67,
   "metadata": {
    "collapsed": false
   },
   "outputs": [
    {
     "name": "stdout",
     "output_type": "stream",
     "text": [
      "set(['a', 1, 2, 3])\n",
      "set(['a', 'c', 'b'])\n",
      "set([1, 2, 3])\n",
      "set(['a', 1, 2, 3, 'b', 'c'])\n",
      "set(['a'])\n",
      "set([3, 1, 'c', 'b', 2])\n",
      "set(['a', 1, 2, 3])\n",
      "set(['a', 1, 2, 3, 'b'])\n",
      "set(['a', 1, 2, 3, 'e', 'd', 'c', 'b'])\n",
      "set(['a', 2, 3, 'e', 'd', 'c', 'b'])\n",
      "set([1, 2, 3, 4, 5])\n",
      "[1, 2, 3, 4, 5]\n"
     ]
    }
   ],
   "source": [
    "#set class\n",
    "set_list = {1, 1, 2, 2, 2, 3, 3, 3, 3, 'a', 'a'}\n",
    "print set_list #set(['a', 1, 2, 3])\n",
    "\n",
    "make_set = set('aabbbcccc')\n",
    "print make_set #set(['a', 'c', 'b'])\n",
    "\n",
    "print set_list - make_set #set([1, 2, 3])\n",
    "\n",
    "print set_list | make_set #set(['a', 1, 2, 3, 'b', 'c'])\n",
    "\n",
    "print set_list & make_set #set(['a'])\n",
    "\n",
    "print set_list ^ make_set #set([3, 1, 'c', 'b', 2])\n",
    "\n",
    "print set_list #set(['a', 1, 2, 3])\n",
    " \n",
    "set_list.add('b')\n",
    "print set_list #set(['a', 1, 2, 3, 'b'])\n",
    "\n",
    "set_list.update(['c' , 'd', 'e'])\n",
    "print set_list #set(['a', 1, 2, 3, 'e', 'd', 'c', 'b'])\n",
    "\n",
    "set_list.remove(1)\n",
    "print set_list #set(['a', 2, 3, 'e', 'd', 'c', 'b'])\n",
    "del set_list\n",
    "\n",
    "\n",
    "set_list = set([1, 2, 3, 4, 5])\n",
    "print set_list #no indexing\n",
    "\n",
    "make_list = list(set_list)\n",
    "print make_list"
   ]
  },
  {
   "cell_type": "code",
   "execution_count": null,
   "metadata": {
    "collapsed": true
   },
   "outputs": [],
   "source": []
  }
 ],
 "metadata": {
  "kernelspec": {
   "display_name": "Python [Root]",
   "language": "python",
   "name": "Python [Root]"
  },
  "language_info": {
   "codemirror_mode": {
    "name": "ipython",
    "version": 2
   },
   "file_extension": ".py",
   "mimetype": "text/x-python",
   "name": "python",
   "nbconvert_exporter": "python",
   "pygments_lexer": "ipython2",
   "version": "2.7.12"
  }
 },
 "nbformat": 4,
 "nbformat_minor": 0
}
