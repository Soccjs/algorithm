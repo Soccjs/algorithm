{
 "cells": [
  {
   "cell_type": "markdown",
   "metadata": {},
   "source": [
    "## Binary Search Tree (BST)"
   ]
  },
  {
   "cell_type": "code",
   "execution_count": 1,
   "metadata": {
    "collapsed": false
   },
   "outputs": [],
   "source": [
    "class BST :\n",
    "    class Node :\n",
    "        __slot__ = ['value', 'left', 'right' ]\n",
    "        def __init__ (self, value, left=None, right=None) :\n",
    "            self.value = value\n",
    "            self.left = left\n",
    "            self.right = right\n",
    "    \n",
    "    def __init__ (self) :\n",
    "        self.root = self.Node(\"root\")\n",
    "    \n",
    "    def addNum (self, value) :\n",
    "        if self.root.value == \"root\" :\n",
    "            self.root.value = value\n",
    "        else :\n",
    "            now = self.root\n",
    "            while now != None :\n",
    "                tmp_value = now.value\n",
    "                if value <= tmp_value :\n",
    "                    prev = now \n",
    "                    now = prev.left\n",
    "                else :\n",
    "                    prev = now\n",
    "                    now = prev.right\n",
    "            if prev.value > value :\n",
    "                prev.left = self.Node(value)\n",
    "            else :\n",
    "                prev.right = self.Node(value)\n",
    "    \n",
    "    def findNode (self, value) :\n",
    "        now = self.root\n",
    "        while now != None :\n",
    "            if now.value < value :\n",
    "                now = now.right\n",
    "            elif now.value > value :\n",
    "                now = now.left\n",
    "            elif now.value == value:\n",
    "                return now\n",
    "        if now == None :\n",
    "            print \"not find value \", value\n",
    "             \n",
    "    \n",
    "    def printTreeOrder (self, own) :\n",
    "        if own.left != None :\n",
    "            self.printTreeOrder (own.left)\n",
    "        print own.value,\n",
    "        if own.right != None :\n",
    "            self.printTreeOrder (own.right)\n",
    "        "
   ]
  },
  {
   "cell_type": "code",
   "execution_count": 3,
   "metadata": {
    "collapsed": false,
    "scrolled": true
   },
   "outputs": [
    {
     "name": "stdout",
     "output_type": "stream",
     "text": [
      "root\n",
      "1 2 3 4 5 6 7 8 9\n",
      "4\n",
      "not find value  11\n",
      "None\n"
     ]
    }
   ],
   "source": [
    "#             5\n",
    "#         3     7   \n",
    "#       1  4  6  9\n",
    "#        2      8\n",
    "Bst = BST()\n",
    "R = Bst.root \n",
    "Bst.printTreeOrder(R)\n",
    "print\n",
    "\n",
    "Bst.addNum(5)\n",
    "Bst.addNum(3)\n",
    "Bst.addNum(7)\n",
    "Bst.addNum(1)\n",
    "Bst.addNum(4)\n",
    "Bst.addNum(6)\n",
    "Bst.addNum(9)\n",
    "Bst.addNum(8)\n",
    "Bst.addNum(2)\n",
    "Bst.printTreeOrder(R)\n",
    "print\n",
    "\n",
    "print Bst.findNode(4).value\n",
    "print Bst.findNode(11)"
   ]
  },
  {
   "cell_type": "code",
   "execution_count": null,
   "metadata": {
    "collapsed": true
   },
   "outputs": [],
   "source": []
  }
 ],
 "metadata": {
  "anaconda-cloud": {},
  "kernelspec": {
   "display_name": "Python [Root]",
   "language": "python",
   "name": "Python [Root]"
  },
  "language_info": {
   "codemirror_mode": {
    "name": "ipython",
    "version": 2
   },
   "file_extension": ".py",
   "mimetype": "text/x-python",
   "name": "python",
   "nbconvert_exporter": "python",
   "pygments_lexer": "ipython2",
   "version": "2.7.12"
  }
 },
 "nbformat": 4,
 "nbformat_minor": 0
}
