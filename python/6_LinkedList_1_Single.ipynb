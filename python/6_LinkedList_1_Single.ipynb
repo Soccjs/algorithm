{
 "cells": [
  {
   "cell_type": "markdown",
   "metadata": {},
   "source": [
    "## Linked Lists"
   ]
  },
  {
   "cell_type": "markdown",
   "metadata": {},
   "source": [
    "### 1. Single Linked Lists (no circular)"
   ]
  },
  {
   "cell_type": "code",
   "execution_count": 1,
   "metadata": {
    "collapsed": false
   },
   "outputs": [],
   "source": [
    "class SingleLinkedList :\n",
    "    class Node : \n",
    "        __slots__ = ['e' , 'next']\n",
    "    \n",
    "        def __init__(self, e, next) :\n",
    "            self.e = e\n",
    "            self.next = next\n",
    "        \n",
    "        \n",
    "     \n",
    "    def __init__(self) :\n",
    "        self.head = None\n",
    "        self.tail = None\n",
    "        self.size = 0\n",
    "    \n",
    "    def isEmpty(self) :\n",
    "        return self.size == 0\n",
    "    \n",
    "    def push_back(self, e) :\n",
    "        newHead = self.Node(e, None)\n",
    "        if self.isEmpty() :\n",
    "            self.head = newHead \n",
    "        else :\n",
    "            self.tail.next = newHead\n",
    "        self.tail = newHead\n",
    "        self.size += 1\n",
    "    \n",
    "    def push_front(self, e) :\n",
    "        newHead = self.Node(e, None)\n",
    "        if self.isEmpty() :\n",
    "            self.head = newHead\n",
    "            self.tail = newHead\n",
    "        else :\n",
    "            newHead.next = self.head\n",
    "            self.head = newHead\n",
    "        self.size += 1\n",
    "        \n",
    "    def pop_back(self) :\n",
    "        if self.isEmpty() :\n",
    "            print \"Single Linked List are empty\"\n",
    "        else :\n",
    "            findNode = self.Node(None, self.head)\n",
    "            while findNode.next != self.tail :\n",
    "                findNode = findNode.next\n",
    "            self.tail = findNode\n",
    "            self.size += -1\n",
    "            \n",
    "    def pop_front(self) :\n",
    "        if self.isEmpty() :\n",
    "            print \"Single Linked List are empty\"\n",
    "        else :\n",
    "            self.head = self.head.next\n",
    "            self.size += -1\n",
    "            \n",
    "    def first(self) :\n",
    "        return self.head.e\n",
    "    \n",
    "    def last(self) :\n",
    "        return self.tail.e\n",
    "                \n",
    "    def printList(self) :\n",
    "        tmpNode = self.Node(self.head.e, self.head.next)\n",
    "        while (tmpNode != self.tail) :\n",
    "            print tmpNode.e ,\n",
    "            tmpNode = tmpNode.next\n",
    "        print tmpNode.e\n",
    "    \n",
    "    def search(self, num) :\n",
    "        tmpNode = self.Node(self.head.e, self.head.next)\n",
    "        while (tmpNode != self.tail.next) :\n",
    "            if tmpNode.e == num :\n",
    "                print \"Exists\"\n",
    "                return True\n",
    "            tmpNode = tmpNode.next\n",
    "        print \"No Exists\"\n",
    "        return False"
   ]
  },
  {
   "cell_type": "code",
   "execution_count": 2,
   "metadata": {
    "collapsed": false
   },
   "outputs": [
    {
     "name": "stdout",
     "output_type": "stream",
     "text": [
      "True\n",
      "False\n",
      "size 4\n",
      "8 7 1 2\n",
      "8\n",
      "2\n",
      "8 7 1\n",
      "7 1\n",
      "Exists\n",
      "No Exists\n"
     ]
    },
    {
     "data": {
      "text/plain": [
       "False"
      ]
     },
     "execution_count": 2,
     "metadata": {},
     "output_type": "execute_result"
    }
   ],
   "source": [
    "SLL = SingleLinkedList()\n",
    "\n",
    "print SLL.isEmpty() #True\n",
    "\n",
    "SLL.push_back(1)\n",
    "SLL.push_back(2)\n",
    "SLL.push_front(7)\n",
    "SLL.push_front(8)\n",
    "\n",
    "print SLL.isEmpty() #False\n",
    "print \"size\" , SLL.size \n",
    "\n",
    "SLL.printList() #8 7 1 2\n",
    "\n",
    "print SLL.first() #8\n",
    "print SLL.last() #2\n",
    "\n",
    "SLL.pop_back()\n",
    "SLL.printList() #8 7 1\n",
    "\n",
    "SLL.pop_front()\n",
    "SLL.printList() #7 1\n",
    "\n",
    "SLL.search(1) #Exists\n",
    "SLL.search(2) #No Exists"
   ]
  }
 ],
 "metadata": {
  "anaconda-cloud": {},
  "kernelspec": {
   "display_name": "Python [Root]",
   "language": "python",
   "name": "Python [Root]"
  },
  "language_info": {
   "codemirror_mode": {
    "name": "ipython",
    "version": 2
   },
   "file_extension": ".py",
   "mimetype": "text/x-python",
   "name": "python",
   "nbconvert_exporter": "python",
   "pygments_lexer": "ipython2",
   "version": "2.7.12"
  }
 },
 "nbformat": 4,
 "nbformat_minor": 0
}
