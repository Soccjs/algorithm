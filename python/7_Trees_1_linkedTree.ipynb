{
 "cells": [
  {
   "cell_type": "markdown",
   "metadata": {},
   "source": [
    "## Trees\n",
    "### 1. Linked Tree\n"
   ]
  },
  {
   "cell_type": "code",
   "execution_count": 1,
   "metadata": {
    "collapsed": false
   },
   "outputs": [],
   "source": [
    "class LinkedTree :\n",
    "    class Node :\n",
    "        __slots__ = [\"own\", \"left\", \"right\",\"value\"]\n",
    "        \n",
    "        def __init__(self, value=None, left=None, right=None) :\n",
    "            self.value = value\n",
    "            self.left = left\n",
    "            self.right = right\n",
    "           \n",
    "    def __init__ (self) :\n",
    "        self.Root = self.Node(\"Root\")\n",
    "        pass \n",
    "    \n",
    "    def attach (self, own, left, right) :\n",
    "        own.left = left\n",
    "        own.right = right\n",
    "        \n",
    "    ### traversal in recursion\n",
    "    def order(self, R) :\n",
    "        if not R.left is None :\n",
    "            self.order(R.left)\n",
    "        print R.value,\n",
    "        if not R.right is None :\n",
    "            self.order(R.right)\n",
    "    \n",
    "    def preorder(self, R) :\n",
    "        print R.value,\n",
    "        if not R.left is None :\n",
    "                self.preorder(R.left)\n",
    "        if not R.right is None :\n",
    "                self.preorder(R.right)\n",
    "    \n",
    "    def postorder(self, R) :\n",
    "        if not R.left is None :\n",
    "                self.postorder(R.left)\n",
    "        if not R.right is None :\n",
    "                self.postorder(R.right)\n",
    "        print R.value,\n",
    "\n",
    "    ### traversal no recursion, in stack\n",
    "    def _order(self, R) :\n",
    "        Stack , Visit = [],[]\n",
    "        Stack.append(R)\n",
    "        while len(Stack) :\n",
    "            tmp = Stack[-1]\n",
    "            while (tmp.left != None and not tmp.left in Visit)  :\n",
    "                Stack.append(tmp.left)\n",
    "                tmp = tmp.left\n",
    "            Stack.pop()\n",
    "            Visit.append(tmp)\n",
    "            if tmp.right != None :\n",
    "                Stack.append(tmp.right)\n",
    "       \n",
    "        print map(lambda a:a.value, Visit)\n",
    "       \n",
    "    def _preorder(self, R) :\n",
    "        Stack , Visit = [],[]\n",
    "        Stack.append(R)\n",
    "        \n",
    "        while len(Stack) :\n",
    "            tmp = Stack.pop(0)\n",
    "            Visit.append(tmp)\n",
    "            if tmp.left != None :\n",
    "                Stack.insert(0,tmp.left)\n",
    "            if tmp.right != None :\n",
    "                Stack.insert(1,tmp.right)\n",
    "        \n",
    "        print map(lambda a:a.value, Visit)\n",
    "        \n",
    "    def _postorder(self, R) :\n",
    "        Stack , Visit = [],[]\n",
    "        Stack.append(R)\n",
    "        \n",
    "        while len(Stack) :\n",
    "            tmp = Stack[-1]\n",
    "            while tmp.left != None and not tmp.left in Visit :\n",
    "                Stack.append(tmp.left)\n",
    "                tmp = tmp.left\n",
    "            \n",
    "            if tmp.right != None and not tmp.right in Visit :\n",
    "                Stack.append(tmp.right)\n",
    "                continue\n",
    "            Stack.pop()\n",
    "            Visit.append(tmp)\n",
    "            \n",
    "\n",
    "        print map(lambda a:a.value, Visit)\n",
    "\n",
    "   "
   ]
  },
  {
   "cell_type": "code",
   "execution_count": 2,
   "metadata": {
    "collapsed": false
   },
   "outputs": [
    {
     "name": "stdout",
     "output_type": "stream",
     "text": [
      "[1, 2, 3, 4, 5, 6, 7]\n",
      "#traversal in recursion\n",
      "4 2 5 1 6 3 7\n",
      "1 2 4 5 3 6 7\n",
      "4 5 2 6 7 3 1\n",
      "#traversal in stack\n",
      "[4, 2, 5, 1, 6, 3, 7]\n",
      "[1, 2, 4, 5, 3, 6, 7]\n",
      "[4, 5, 2, 6, 7, 3, 1]\n"
     ]
    }
   ],
   "source": [
    "Lt = LinkedTree()\n",
    "datas = [Lt.Node(i+1) for i in range(7)]\n",
    "\n",
    "print map(lambda a : a.value, datas)\n",
    "\n",
    "Lt.attach(datas[0], datas[1], datas[2])\n",
    "Lt.attach(datas[1], datas[3], datas[4])\n",
    "Lt.attach(datas[2], datas[5], datas[6])\n",
    "\n",
    "Lt.Root = datas[0]\n",
    "\n",
    "##tree traversal in recursion\n",
    "print \"#traversal in recursion\"\n",
    "Lt.order(Lt.Root)\n",
    "print \n",
    "Lt.preorder(Lt.Root)\n",
    "print\n",
    "Lt.postorder(Lt.Root)\n",
    "print\n",
    "\n",
    "##tree traversal in stack\n",
    "print \"#traversal in stack\"\n",
    "Lt._order(Lt.Root)\n",
    "Lt._preorder(Lt.Root)\n",
    "Lt._postorder(Lt.Root)"
   ]
  },
  {
   "cell_type": "code",
   "execution_count": null,
   "metadata": {
    "collapsed": true
   },
   "outputs": [],
   "source": []
  }
 ],
 "metadata": {
  "anaconda-cloud": {},
  "kernelspec": {
   "display_name": "Python [Root]",
   "language": "python",
   "name": "Python [Root]"
  },
  "language_info": {
   "codemirror_mode": {
    "name": "ipython",
    "version": 2
   },
   "file_extension": ".py",
   "mimetype": "text/x-python",
   "name": "python",
   "nbconvert_exporter": "python",
   "pygments_lexer": "ipython2",
   "version": "2.7.12"
  }
 },
 "nbformat": 4,
 "nbformat_minor": 0
}
