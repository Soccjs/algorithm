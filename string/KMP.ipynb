{
 "cells": [
  {
   "cell_type": "markdown",
   "metadata": {},
   "source": [
    "### KMP (Knuth Morris Pratt) Pattern Searching\n",
    "- String pattern matching\n",
    "- O(N+M)\n"
   ]
  },
  {
   "cell_type": "code",
   "execution_count": 1,
   "metadata": {
    "collapsed": false
   },
   "outputs": [
    {
     "name": "stdout",
     "output_type": "stream",
     "text": [
      "[0, 1, 2, 0, 1, 2, 3, 3, 3, 4]\n"
     ]
    },
    {
     "data": {
      "text/plain": [
       "[0, 1, 2, 0, 1, 2, 3, 3, 3, 4]"
      ]
     },
     "execution_count": 1,
     "metadata": {},
     "output_type": "execute_result"
    }
   ],
   "source": [
    "def PATTERN_CHECK (WORD) :#O(M), M : word's size\n",
    "    size = len(WORD)\n",
    "    Check = [0 for i in range(size)]\n",
    "    i = 1\n",
    "    j = 0\n",
    "    while (i<size) :\n",
    "        if WORD[i] == WORD[j] :\n",
    "            j = j+1\n",
    "            Check[i] = j\n",
    "            i = i+1\n",
    "        \n",
    "        else :\n",
    "            if j == 0 :\n",
    "                Check[i] = 0\n",
    "                i = i+1\n",
    "            else :\n",
    "                j = Check[j-1]\n",
    "    print Check\n",
    "    return Check\n",
    "\n",
    "PATTERN_CHECK(\"AAACAAAAAC\")"
   ]
  },
  {
   "cell_type": "code",
   "execution_count": null,
   "metadata": {
    "collapsed": true
   },
   "outputs": [],
   "source": [
    "\n",
    "\n",
    "\n",
    "\n",
    "\n",
    "\n",
    "\n",
    "\n",
    "\n",
    "\n",
    "\n",
    "\n",
    "\n",
    "\n"
   ]
  },
  {
   "cell_type": "code",
   "execution_count": 2,
   "metadata": {
    "collapsed": true
   },
   "outputs": [],
   "source": [
    "def KMP_MATCHING (WORD1, WORD2) : #O(N+M) , N:word1's size, M:word2's size\n",
    "    check = PATTERN_CHECK(WORD2)\n",
    "    i = 0\n",
    "    j = 0\n",
    "    \n",
    "    while i<len(WORD1) :\n",
    "        if WORD1[i] == WORD2[j] :\n",
    "            i, j = i+1, j+1\n",
    "        \n",
    "        if j == len(WORD2) :\n",
    "            print i-len(WORD2), i, \n",
    "            print WORD1[i-len(WORD2):i]\n",
    "            j = check[j-1]\n",
    "            \n",
    "        elif i<len(WORD1) and WORD1[i] != WORD2[j] :\n",
    "            if j == 0 :\n",
    "                i = i+1\n",
    "            else :\n",
    "                j = check[j-1]\n"
   ]
  },
  {
   "cell_type": "code",
   "execution_count": 3,
   "metadata": {
    "collapsed": false
   },
   "outputs": [
    {
     "name": "stdout",
     "output_type": "stream",
     "text": [
      "[0, 1, 0, 1]\n",
      "0 4 AABA\n",
      "9 13 AABA\n",
      "13 17 AABA\n"
     ]
    }
   ],
   "source": [
    "KMP_MATCHING(\"AABAACAADAABAAABAA\", \"AABA\")"
   ]
  }
 ],
 "metadata": {
  "anaconda-cloud": {},
  "kernelspec": {
   "display_name": "Python [Root]",
   "language": "python",
   "name": "Python [Root]"
  },
  "language_info": {
   "codemirror_mode": {
    "name": "ipython",
    "version": 2
   },
   "file_extension": ".py",
   "mimetype": "text/x-python",
   "name": "python",
   "nbconvert_exporter": "python",
   "pygments_lexer": "ipython2",
   "version": "2.7.12"
  }
 },
 "nbformat": 4,
 "nbformat_minor": 0
}
