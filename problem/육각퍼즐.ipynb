{
 "cells": [
  {
   "cell_type": "markdown",
   "metadata": {},
   "source": [
    "### 육각퍼즐\n",
    "https://www.acmicpc.net/problem/2701"
   ]
  },
  {
   "cell_type": "code",
   "execution_count": 1,
   "metadata": {
    "collapsed": false
   },
   "outputs": [],
   "source": [
    "from heapq import heappush, heappop\n",
    "\n",
    "def swap(word, i, j) :\n",
    "    word = list (word)\n",
    "    word[i], word[j] = word[j], word[i]\n",
    "    return ''.join(word)\n",
    "\n",
    "def checkEquals(A,B) :\n",
    "    equals = 0\n",
    "    for i in range(len(A)) :\n",
    "        if A[i] != B[i] :\n",
    "            equals += 1\n",
    "    return equals\n",
    "\n",
    "def ASTAR (state, perfect) :    \n",
    "    store , key_store = [], {}\n",
    "    key_store[''.join(state)] = 0 \n",
    "    heappush(store, (0, (0,state)))\n",
    "    \n",
    "    possible = [[1,5],[0,2,6],[1,3],[2,4],[3,5,6],[0,4],[1,4]]\n",
    "    \n",
    "    while store :\n",
    "        w, (cost,cur) = heappop(store)\n",
    "\n",
    "        if cur == perfect : \n",
    "            print cost,\n",
    "            find_path, find_state = \"\", perfect\n",
    "            \n",
    "            while state != find_state :\n",
    "                item = key_store[find_state]\n",
    "                find_path = str(item[1]) + find_path\n",
    "                find_state = item[0]\n",
    "            print find_path\n",
    "            return True\n",
    "       \n",
    "        copy_cur = cur\n",
    "        sharp = cur.find('#')\n",
    "        \n",
    "        for index in (possible[sharp]) :\n",
    "            cur = swap(cur,index, sharp)\n",
    "            if cur not in key_store :\n",
    "                fn = checkEquals(cur, perfect)\n",
    "                key_store[cur] = (copy_cur,cur[sharp])\n",
    "                heappush(store, (cost+fn, ((cost+1), cur)))\n",
    "            cur = swap(cur,index, sharp)\n",
    "\n",
    "    return False"
   ]
  },
  {
   "cell_type": "code",
   "execution_count": 2,
   "metadata": {
    "collapsed": false
   },
   "outputs": [
    {
     "name": "stdout",
     "output_type": "stream",
     "text": [
      "ABCDEF\n",
      "0 \n"
     ]
    },
    {
     "data": {
      "text/plain": [
       "True"
      ]
     },
     "execution_count": 2,
     "metadata": {},
     "output_type": "execute_result"
    }
   ],
   "source": [
    "perfect = \"ABCDEF#\"\n",
    "now = raw_input() + str('#')\n",
    "ASTAR(now, perfect)"
   ]
  },
  {
   "cell_type": "code",
   "execution_count": 3,
   "metadata": {
    "collapsed": false
   },
   "outputs": [
    {
     "name": "stdout",
     "output_type": "stream",
     "text": [
      "3\n",
      "FACDBE\n",
      "5 BEFAB\n",
      "ADCEFB\n",
      "19 DABFECABFEDBACDEFAB\n",
      "ADCEBF\n",
      "-1\n"
     ]
    }
   ],
   "source": [
    "perfect = \"ABCDEF#\"\n",
    "n = input()\n",
    "for i in range(n) :\n",
    "    now = raw_input() + str('#')\n",
    "    if not ASTAR(now , perfect) :\n",
    "        print -1"
   ]
  }
 ],
 "metadata": {
  "anaconda-cloud": {},
  "kernelspec": {
   "display_name": "Python [Root]",
   "language": "python",
   "name": "Python [Root]"
  },
  "language_info": {
   "codemirror_mode": {
    "name": "ipython",
    "version": 2
   },
   "file_extension": ".py",
   "mimetype": "text/x-python",
   "name": "python",
   "nbconvert_exporter": "python",
   "pygments_lexer": "ipython2",
   "version": "2.7.12"
  }
 },
 "nbformat": 4,
 "nbformat_minor": 0
}
