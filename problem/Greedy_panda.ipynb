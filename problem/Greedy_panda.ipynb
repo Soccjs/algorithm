{
 "cells": [
  {
   "cell_type": "code",
   "execution_count": 1,
   "metadata": {
    "collapsed": false
   },
   "outputs": [],
   "source": [
    "def greedy_panda (datas, n) :\n",
    "    dp = [[0 for j in range(n)] for i in range(n)]\n",
    "    data_set = []\n",
    "    \n",
    "    # 1.store (Value, (x,y)) in data_set\n",
    "    for i in range(n) :\n",
    "        for j in range(n) :\n",
    "            data_set.append((datas[i][j], (i,j)))\n",
    "    data_set = sorted(data_set, key=lambda data: data[0])\n",
    "    \n",
    "    for item in data_set :\n",
    "        now = item[0]\n",
    "        x = item[1][0]\n",
    "        y = item[1][1]\n",
    "        # 2. compare up,down,left,right \n",
    "        up,down,left,right = 0,0,0,0\n",
    "        if x-1>=0 and datas[x-1][y] < now : \n",
    "            up = dp[x-1][y]\n",
    "        if x+1<n and datas[x+1][y] < now :\n",
    "            down = dp[x+1][y]\n",
    "        if y-1>=0 and datas[x][y-1] < now :\n",
    "            left = dp[x][y-1]\n",
    "        if y+1<n and datas[x][y+1] < now :\n",
    "            right = dp[x][y+1]\n",
    "        \n",
    "        # 3. dp =  Max(up,down,left,right) + 1\n",
    "        dp[x][y] = max(up,down,left,right) + 1\n",
    "    \n",
    "    #find Max \n",
    "    M = 0\n",
    "    for i in range(n) :\n",
    "        for j in range(n) :\n",
    "            if dp[i][j] > M :\n",
    "                M = dp[i][j]\n",
    "    print M    "
   ]
  },
  {
   "cell_type": "code",
   "execution_count": 2,
   "metadata": {
    "collapsed": false
   },
   "outputs": [
    {
     "name": "stdout",
     "output_type": "stream",
     "text": [
      "4\n"
     ]
    }
   ],
   "source": [
    "n = 4\n",
    "datas = [\n",
    "    [14, 9, 12, 10],\n",
    "    [1, 11, 5, 4],\n",
    "    [7, 15, 2, 13],\n",
    "    [6, 3, 16, 8]\n",
    "]\n",
    "greedy_panda(datas, n)"
   ]
  },
  {
   "cell_type": "code",
   "execution_count": 3,
   "metadata": {
    "collapsed": false
   },
   "outputs": [
    {
     "name": "stdout",
     "output_type": "stream",
     "text": [
      "3\n",
      "1 2 3\n",
      "6 5 4\n",
      "7 8 9\n",
      "9\n"
     ]
    }
   ],
   "source": [
    "n = input()\n",
    "datas = [map(int, raw_input().split()) for i in range(n)]\n",
    "greedy_panda(datas, n)"
   ]
  }
 ],
 "metadata": {
  "anaconda-cloud": {},
  "kernelspec": {
   "display_name": "Python [Root]",
   "language": "python",
   "name": "Python [Root]"
  },
  "language_info": {
   "codemirror_mode": {
    "name": "ipython",
    "version": 2
   },
   "file_extension": ".py",
   "mimetype": "text/x-python",
   "name": "python",
   "nbconvert_exporter": "python",
   "pygments_lexer": "ipython2",
   "version": "2.7.12"
  }
 },
 "nbformat": 4,
 "nbformat_minor": 0
}
