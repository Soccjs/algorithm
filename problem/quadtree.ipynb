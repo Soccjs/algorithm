{
 "cells": [
  {
   "cell_type": "markdown",
   "metadata": {
    "collapsed": false
   },
   "source": [
    "### quadtree\n",
    "http://183.106.15.130/30stair/quad/quad.php?pname=quad"
   ]
  },
  {
   "cell_type": "code",
   "execution_count": 1,
   "metadata": {
    "collapsed": false
   },
   "outputs": [],
   "source": [
    "def quadtree (datas, n, store) :\n",
    "    storePartition = []\n",
    "    storePartition.append((0,n,0,n,n))\n",
    "\n",
    "    while len(storePartition) :\n",
    "        size = storePartition[0][4]\n",
    "        if size is 0 :\n",
    "            return \n",
    "        \n",
    "        l1,l2,r1,r2 = storePartition[0][0],storePartition[0][1],storePartition[0][2],storePartition[0][3]\n",
    "        storePartition.pop(0)\n",
    "        cnt_0, cnt_1 = 0, 0\n",
    "        for i in range(l1,l2) :\n",
    "            for j in range(r1,r2) :\n",
    "#                 print datas[i][j],\n",
    "                if datas[i][j] == 0 :\n",
    "                    cnt_0 += 1\n",
    "                elif datas[i][j] == 1 :\n",
    "                    cnt_1 += 1\n",
    "#             print \n",
    "        if cnt_0 == pow(size,2):\n",
    "            store += \"00\"\n",
    "        elif cnt_1 == pow(size,2):\n",
    "            store += \"01\"\n",
    "        else :\n",
    "            store += \"1\"\n",
    "            storePartition.append((l1,(l1+l2)/2,r1,(r1+r2)/2,size/2))\n",
    "            storePartition.append((l1,(l1+l2)/2,(r1+r2)/2,r2,size/2))           \n",
    "            storePartition.append(((l1+l2)/2,l2,r1,(r1+r2)/2,size/2))\n",
    "            storePartition.append(((l1+l2)/2,l2,(r1+r2)/2,r2,size/2))\n",
    "#         print store\n",
    "    return store"
   ]
  },
  {
   "cell_type": "code",
   "execution_count": 2,
   "metadata": {
    "collapsed": false
   },
   "outputs": [],
   "source": [
    "# n = input()\n",
    "# datas = [map(int, raw_input().split()) for i in range(n)]\n",
    "\n",
    "# print str(hex(int(quadtree(datas,n,''),2)))[2:].upper()\n"
   ]
  },
  {
   "cell_type": "code",
   "execution_count": 3,
   "metadata": {
    "collapsed": false
   },
   "outputs": [
    {
     "name": "stdout",
     "output_type": "stream",
     "text": [
      "0x114\n"
     ]
    }
   ],
   "source": [
    "n = 4\n",
    "datas = [[0,0,1,1],[0,0,1,1],[1,1,0,0],[1,1,0,0]]\n",
    "print hex(int(quadtree(datas,n,''),2))\n"
   ]
  },
  {
   "cell_type": "code",
   "execution_count": 4,
   "metadata": {
    "collapsed": false
   },
   "outputs": [],
   "source": [
    "def readFile():\n",
    "    f = open('./quadtree.txt','r')\n",
    "    n = int(f.readline())\n",
    "    datas = [map(int,f.readline().split()) for i in range(n)]\n",
    "    f.close()\n",
    "    return n,datas"
   ]
  },
  {
   "cell_type": "code",
   "execution_count": 9,
   "metadata": {
    "collapsed": false
   },
   "outputs": [
    {
     "name": "stdout",
     "output_type": "stream",
     "text": [
      "458C45\n"
     ]
    }
   ],
   "source": [
    "n,datas = readFile()\n",
    "print str(hex(int(quadtree(datas,n,''),2)))[2:].upper()\n"
   ]
  }
 ],
 "metadata": {
  "anaconda-cloud": {},
  "kernelspec": {
   "display_name": "Python [Root]",
   "language": "python",
   "name": "Python [Root]"
  },
  "language_info": {
   "codemirror_mode": {
    "name": "ipython",
    "version": 2
   },
   "file_extension": ".py",
   "mimetype": "text/x-python",
   "name": "python",
   "nbconvert_exporter": "python",
   "pygments_lexer": "ipython2",
   "version": "2.7.12"
  }
 },
 "nbformat": 4,
 "nbformat_minor": 0
}
