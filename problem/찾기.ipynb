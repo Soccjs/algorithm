{
 "cells": [
  {
   "cell_type": "markdown",
   "metadata": {},
   "source": [
    "### 찾기\n",
    "https://www.acmicpc.net/problem/1786"
   ]
  },
  {
   "cell_type": "code",
   "execution_count": 1,
   "metadata": {
    "collapsed": false
   },
   "outputs": [],
   "source": [
    "def pattern_check (word) :\n",
    "    size = len(word)\n",
    "    check = [0 for i in range(size)]\n",
    "    i=1\n",
    "    j=0\n",
    "    while (i<size):\n",
    "        if word[i]==word[j] :\n",
    "            j = j+1\n",
    "            check[i] = j\n",
    "            i = i+1\n",
    "        else :\n",
    "            if j==0 :\n",
    "                check[i] = 0\n",
    "                i = i+1\n",
    "            else :\n",
    "                j= check[j-1]\n",
    "    return check\n",
    "\n",
    "def kmp(word1, word2) :\n",
    "    check = pattern_check(word2)\n",
    "    i,j = 0,0\n",
    "    count = []\n",
    "    while (i<len(word1)) :\n",
    "        if word1[i] == word2[j] :\n",
    "            i, j = i+1, j+1\n",
    "        \n",
    "        if j==len(word2) :\n",
    "            j = check[j-1]\n",
    "            count.append(i-len(word2)+1)\n",
    "        elif (i<len(word1) and word1[i] != word2[j]) :\n",
    "                if j==0 :\n",
    "                    i = i+1\n",
    "                else :\n",
    "                    j = check[j-1]\n",
    "    print len(count)\n",
    "    print ' '.join(map(str,count))"
   ]
  },
  {
   "cell_type": "code",
   "execution_count": 2,
   "metadata": {
    "collapsed": false
   },
   "outputs": [
    {
     "name": "stdout",
     "output_type": "stream",
     "text": [
      "1\n",
      "16\n"
     ]
    }
   ],
   "source": [
    "kmp(\"ABC ABCDAB ABCDABCDABDE\", \"ABCDABD\")"
   ]
  }
 ],
 "metadata": {
  "kernelspec": {
   "display_name": "Python [Root]",
   "language": "python",
   "name": "Python [Root]"
  },
  "language_info": {
   "codemirror_mode": {
    "name": "ipython",
    "version": 2
   },
   "file_extension": ".py",
   "mimetype": "text/x-python",
   "name": "python",
   "nbconvert_exporter": "python",
   "pygments_lexer": "ipython2",
   "version": "2.7.12"
  }
 },
 "nbformat": 4,
 "nbformat_minor": 0
}
