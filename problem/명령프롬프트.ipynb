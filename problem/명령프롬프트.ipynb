{
 "cells": [
  {
   "cell_type": "markdown",
   "metadata": {},
   "source": [
    "### cmd prompt (명령 프롬프트)\n",
    "https://www.acmicpc.net/problem/1032"
   ]
  },
  {
   "cell_type": "code",
   "execution_count": 13,
   "metadata": {
    "collapsed": false
   },
   "outputs": [
    {
     "name": "stdout",
     "output_type": "stream",
     "text": [
      "3\n",
      "1\n",
      "1\n",
      "1\n"
     ]
    }
   ],
   "source": [
    "n = input()\n",
    "datas = [list(raw_input()) for i in range(n)];\n",
    "cmd_prompt(map(list,datas))"
   ]
  },
  {
   "cell_type": "code",
   "execution_count": 19,
   "metadata": {
    "collapsed": false
   },
   "outputs": [],
   "source": [
    "def cmd_prompt(datas) :\n",
    "    sample = datas[0]\n",
    "    for i in range(1, len(datas)) :\n",
    "        for j in range(len(datas[0])) :\n",
    "            if sample[j] == '?' :\n",
    "                continue;\n",
    "            if sample[j] != datas[i][j] :\n",
    "                   sample[j] = str('?')\n",
    "\n",
    "    print ''.join(sample)"
   ]
  },
  {
   "cell_type": "code",
   "execution_count": 20,
   "metadata": {
    "collapsed": false
   },
   "outputs": [
    {
     "name": "stdout",
     "output_type": "stream",
     "text": [
      "['c', 'o', 'n', 'f', 'i', 'g', '?', '?', '?', '?']\n",
      "config????\n"
     ]
    }
   ],
   "source": [
    "n = 3\n",
    "datas = [\"config.sys\", \"config.inf\", \"configures\"]\n",
    "cmd_prompt(map(list,datas))"
   ]
  }
 ],
 "metadata": {
  "anaconda-cloud": {},
  "kernelspec": {
   "display_name": "Python [Root]",
   "language": "python",
   "name": "Python [Root]"
  },
  "language_info": {
   "codemirror_mode": {
    "name": "ipython",
    "version": 2
   },
   "file_extension": ".py",
   "mimetype": "text/x-python",
   "name": "python",
   "nbconvert_exporter": "python",
   "pygments_lexer": "ipython2",
   "version": "2.7.12"
  }
 },
 "nbformat": 4,
 "nbformat_minor": 0
}
