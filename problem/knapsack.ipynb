{
 "cells": [
  {
   "cell_type": "markdown",
   "metadata": {},
   "source": [
    "\n",
    "## test"
   ]
  },
  {
   "cell_type": "markdown",
   "metadata": {
    "collapsed": false
   },
   "source": [
    "### 01knapsack  http://183.106.15.130/30stair/01knapsack/01knapsack.php?pname=01knapsack"
   ]
  },
  {
   "cell_type": "code",
   "execution_count": 1,
   "metadata": {
    "collapsed": false
   },
   "outputs": [],
   "source": [
    "def readFile():\n",
    "    f = open('./knapsack.txt','r')\n",
    "    max_w = int(f.readline())\n",
    "    n = int(f.readline())\n",
    "    datas = [map(int, f.readline().split()) for i in range(n)]\n",
    "    f.close()\n",
    "    return max_w, n, datas"
   ]
  },
  {
   "cell_type": "code",
   "execution_count": 2,
   "metadata": {
    "collapsed": false
   },
   "outputs": [],
   "source": [
    "\n",
    "def knapsack (max_w, n, datas) :\n",
    "    dp = [[0 for i in range(max_w+1)] for i in range(n+1)]\n",
    "    Max = 0 \n",
    "    for i, item in enumerate(datas) :\n",
    "        now_w, now_v = item[0], item[1]\n",
    "        for j in range(0, max_w+1) :\n",
    "            if j >= now_w :\n",
    "                dp[i+1][j] = max(dp[i][j], dp[i][j-now_w] + now_v)\n",
    "            else :\n",
    "                dp[i+1][j] = dp[i][j]\n",
    "    return dp[-1][-1]\n",
    "\n"
   ]
  },
  {
   "cell_type": "code",
   "execution_count": 3,
   "metadata": {
    "collapsed": false
   },
   "outputs": [
    {
     "name": "stdout",
     "output_type": "stream",
     "text": [
      "2927\n"
     ]
    }
   ],
   "source": [
    "max_w, n, datas = readFile()\n",
    "print knapsack(max_w, n, datas)  \n"
   ]
  },
  {
   "cell_type": "code",
   "execution_count": 4,
   "metadata": {
    "collapsed": false
   },
   "outputs": [
    {
     "name": "stdout",
     "output_type": "stream",
     "text": [
      "30\n",
      "3\n",
      "5 50\n",
      "10 60\n",
      "20 140\n",
      "200\n"
     ]
    }
   ],
   "source": [
    "max_w = input()\n",
    "n = input()\n",
    "datas = [map(int, raw_input().split()) for i in range(n)]\n",
    "\n",
    "print knapsack(max_w, n, datas)  \n"
   ]
  },
  {
   "cell_type": "code",
   "execution_count": null,
   "metadata": {
    "collapsed": true
   },
   "outputs": [],
   "source": []
  }
 ],
 "metadata": {
  "anaconda-cloud": {},
  "kernelspec": {
   "display_name": "Python [Root]",
   "language": "python",
   "name": "Python [Root]"
  },
  "language_info": {
   "codemirror_mode": {
    "name": "ipython",
    "version": 2
   },
   "file_extension": ".py",
   "mimetype": "text/x-python",
   "name": "python",
   "nbconvert_exporter": "python",
   "pygments_lexer": "ipython2",
   "version": "2.7.12"
  }
 },
 "nbformat": 4,
 "nbformat_minor": 0
}
