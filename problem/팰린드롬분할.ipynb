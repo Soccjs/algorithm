{
 "cells": [
  {
   "cell_type": "markdown",
   "metadata": {},
   "source": [
    "https://www.acmicpc.net/problem/1509"
   ]
  },
  {
   "cell_type": "code",
   "execution_count": 1,
   "metadata": {
    "collapsed": false
   },
   "outputs": [],
   "source": [
    "def partition_palindrom (word) :\n",
    "    LENGTH = len(word)\n",
    "    dp = [[False for j in range(LENGTH)] for i in range(LENGTH)]\n",
    "    \n",
    "    #p_len = 1\n",
    "    for i in range(LENGTH) :\n",
    "        dp[i][i] = True\n",
    "        \n",
    "    #p_len = 2\n",
    "    for i in range(LENGTH-1) :\n",
    "        if word[i] == word[i+1] :\n",
    "            dp[i][i+1] = True\n",
    "    #from p_len = 3 to p_len = LENGTH\n",
    "    for p_len in range(3, LENGTH+1) :\n",
    "        for i in range(LENGTH+1-p_len) :\n",
    "            j= i+p_len-1\n",
    "            \n",
    "            if word[i]==word[j] and dp[i+1][j-1] :\n",
    "                dp[i][j] = True\n",
    "    \n",
    "#     for i in range(LENGTH) :\n",
    "#         print dp[i]\n",
    "    \n",
    "    cut = [123456789 for i in range(LENGTH)]\n",
    "    cut[0] = 1\n",
    "    for j in range(1, LENGTH) :\n",
    "        for i in range(LENGTH) :\n",
    "            if dp[i][j] :\n",
    "                if i-1 == -1 :\n",
    "                    cut[j] = 1\n",
    "                else :\n",
    "                    cut[j] = min(cut[j], cut[i-1] + 1)\n",
    "#     print cut\n",
    "    print cut[LENGTH-1] "
   ]
  },
  {
   "cell_type": "code",
   "execution_count": 2,
   "metadata": {
    "collapsed": false
   },
   "outputs": [
    {
     "name": "stdout",
     "output_type": "stream",
     "text": [
      "2\n"
     ]
    }
   ],
   "source": [
    "partition_palindrom(\"banana\")"
   ]
  },
  {
   "cell_type": "code",
   "execution_count": 3,
   "metadata": {
    "collapsed": false
   },
   "outputs": [
    {
     "name": "stdout",
     "output_type": "stream",
     "text": [
      "3\n"
     ]
    }
   ],
   "source": [
    "partition_palindrom(\"abbbcb\")"
   ]
  },
  {
   "cell_type": "code",
   "execution_count": 4,
   "metadata": {
    "collapsed": false
   },
   "outputs": [
    {
     "name": "stdout",
     "output_type": "stream",
     "text": [
      "2\n"
     ]
    }
   ],
   "source": [
    "partition_palindrom(\"ABBAC\")"
   ]
  },
  {
   "cell_type": "code",
   "execution_count": 5,
   "metadata": {
    "collapsed": false
   },
   "outputs": [
    {
     "name": "stdout",
     "output_type": "stream",
     "text": [
      "3\n"
     ]
    }
   ],
   "source": [
    "partition_palindrom(\"FFABBAC\")"
   ]
  },
  {
   "cell_type": "code",
   "execution_count": 6,
   "metadata": {
    "collapsed": false
   },
   "outputs": [
    {
     "name": "stdout",
     "output_type": "stream",
     "text": [
      "1\n"
     ]
    }
   ],
   "source": [
    "partition_palindrom(\"C\")"
   ]
  },
  {
   "cell_type": "code",
   "execution_count": 7,
   "metadata": {
    "collapsed": false
   },
   "outputs": [
    {
     "name": "stdout",
     "output_type": "stream",
     "text": [
      "7\n"
     ]
    }
   ],
   "source": [
    "partition_palindrom(\"ONCODER\")"
   ]
  },
  {
   "cell_type": "code",
   "execution_count": 8,
   "metadata": {
    "collapsed": false
   },
   "outputs": [
    {
     "name": "stdout",
     "output_type": "stream",
     "text": [
      "7\n"
     ]
    }
   ],
   "source": [
    "partition_palindrom(\"YHCAHXS\")    "
   ]
  },
  {
   "cell_type": "code",
   "execution_count": 9,
   "metadata": {
    "collapsed": false
   },
   "outputs": [
    {
     "name": "stdout",
     "output_type": "stream",
     "text": [
      "2\n"
     ]
    }
   ],
   "source": [
    "partition_palindrom(\"BCEFFECBZZZ\")"
   ]
  },
  {
   "cell_type": "code",
   "execution_count": 10,
   "metadata": {
    "collapsed": false
   },
   "outputs": [
    {
     "name": "stdout",
     "output_type": "stream",
     "text": [
      "6\n"
     ]
    }
   ],
   "source": [
    "partition_palindrom(\"askjasccsaeeeee\")"
   ]
  },
  {
   "cell_type": "code",
   "execution_count": 11,
   "metadata": {
    "collapsed": false
   },
   "outputs": [
    {
     "name": "stdout",
     "output_type": "stream",
     "text": [
      "22\n"
     ]
    }
   ],
   "source": [
    "partition_palindrom(\"BBCDDECAECBDABADDCEBACCCBDCAABDBADD\")"
   ]
  },
  {
   "cell_type": "code",
   "execution_count": 13,
   "metadata": {
    "collapsed": false
   },
   "outputs": [
    {
     "name": "stdout",
     "output_type": "stream",
     "text": [
      "ABABAB\n",
      "2\n"
     ]
    }
   ],
   "source": [
    "partition_palindrom(raw_input())"
   ]
  }
 ],
 "metadata": {
  "anaconda-cloud": {},
  "kernelspec": {
   "display_name": "Python [Root]",
   "language": "python",
   "name": "Python [Root]"
  },
  "language_info": {
   "codemirror_mode": {
    "name": "ipython",
    "version": 2
   },
   "file_extension": ".py",
   "mimetype": "text/x-python",
   "name": "python",
   "nbconvert_exporter": "python",
   "pygments_lexer": "ipython2",
   "version": "2.7.12"
  }
 },
 "nbformat": 4,
 "nbformat_minor": 0
}
