{
 "cells": [
  {
   "cell_type": "markdown",
   "metadata": {},
   "source": [
    "## 플로이드\n",
    "\n",
    "https://www.acmicpc.net/problem/11404"
   ]
  },
  {
   "cell_type": "code",
   "execution_count": 1,
   "metadata": {
    "collapsed": true
   },
   "outputs": [],
   "source": [
    "def floyd (datas) :\n",
    "    dist = map(lambda i : map(lambda j: j, i), datas)\n",
    "    \n",
    "    for k in range(1, N+1) :\n",
    "        for i in range(1, N+1) :\n",
    "            for j in range(1, N+1) :\n",
    "                dist[i][j] = min(dist[i][j], dist[i][k]+dist[k][j])\n",
    "    for i in range(1,N+1) :\n",
    "        for j in range(1,N+1) :\n",
    "            print dist[i][j],\n",
    "        print \n",
    "    pass"
   ]
  },
  {
   "cell_type": "code",
   "execution_count": 2,
   "metadata": {
    "collapsed": false
   },
   "outputs": [
    {
     "name": "stdout",
     "output_type": "stream",
     "text": [
      "0 2 3 1 4\n",
      "12 0 15 2 5\n",
      "8 5 0 1 1\n",
      "10 7 13 0 3\n",
      "7 4 10 6 0\n"
     ]
    }
   ],
   "source": [
    "INF=123456789\n",
    "N = 5\n",
    "M = 14\n",
    "roads = [[INF for i in range(N+1)] for i in range(N+1)]\n",
    "for i in range(N+1) :\n",
    "    roads[i][i] = 0\n",
    "        \n",
    "roads[1][2]=2\n",
    "roads[1][3]=3\n",
    "roads[1][4]=1\n",
    "roads[1][5]=10\n",
    "roads[2][4]=2\n",
    "roads[3][4]=1\n",
    "roads[3][5]=1\n",
    "roads[4][5]=3\n",
    "# roads[3][5]=10\n",
    "roads[3][1]=8\n",
    "# roads[1][4]=2\n",
    "roads[5][1]=7\n",
    "# roads[3][4]=2\n",
    "roads[5][2]=4\n",
    "\n",
    "floyd(roads)"
   ]
  },
  {
   "cell_type": "code",
   "execution_count": null,
   "metadata": {
    "collapsed": true
   },
   "outputs": [],
   "source": [
    "INF=987654321\n",
    "N = input()\n",
    "M = input()\n",
    "roads = [[INF for i in range(N+1)] for i in range(N+1)]\n",
    "for i in range(N+1) :\n",
    "    roads[i][i] = 0\n",
    "for i in range(M) :\n",
    "    u, v, w = map(int, raw_input().split())\n",
    "    road[u][v] = min(roads[u][v],w)\n",
    "floyd(roads)"
   ]
  }
 ],
 "metadata": {
  "anaconda-cloud": {},
  "kernelspec": {
   "display_name": "Python [Root]",
   "language": "python",
   "name": "Python [Root]"
  },
  "language_info": {
   "codemirror_mode": {
    "name": "ipython",
    "version": 2
   },
   "file_extension": ".py",
   "mimetype": "text/x-python",
   "name": "python",
   "nbconvert_exporter": "python",
   "pygments_lexer": "ipython2",
   "version": "2.7.12"
  }
 },
 "nbformat": 4,
 "nbformat_minor": 0
}
