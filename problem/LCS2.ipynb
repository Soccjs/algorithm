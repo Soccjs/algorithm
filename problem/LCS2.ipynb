{
 "cells": [
  {
   "cell_type": "markdown",
   "metadata": {},
   "source": [
    "### LCS2\n",
    "https://www.acmicpc.net/problem/9252"
   ]
  },
  {
   "cell_type": "code",
   "execution_count": 1,
   "metadata": {
    "collapsed": false
   },
   "outputs": [],
   "source": [
    "def lcs2 (A, B) :\n",
    "    dp = [[0 for i in range(len(A)+1)] for i in range(len(B)+1)]\n",
    "    storage = [[\"\" for i in range(len(A)+1)] for i in range(len(B)+1)]\n",
    "    for i in range(len(B)) :\n",
    "        for j in range(len(A)) :\n",
    "            if (B[i] == A[j]) :\n",
    "                dp[i+1][j+1] = dp[i][j] + 1\n",
    "                storage[i+1][j+1] = storage[i][j] + B[i]\n",
    "            else :\n",
    "                if dp[i+1][j] > dp[i][j+1] :\n",
    "                    dp[i+1][j+1] = dp[i+1][j]\n",
    "                    storage[i+1][j+1] = storage[i+1][j]\n",
    "                else :\n",
    "                    dp[i+1][j+1] = dp[i][j+1]\n",
    "                    storage[i+1][j+1] = storage[i][j+1]\n",
    "\n",
    "    print dp[-1][-1]\n",
    "    print storage[-1][-1]"
   ]
  },
  {
   "cell_type": "code",
   "execution_count": 2,
   "metadata": {
    "collapsed": false
   },
   "outputs": [
    {
     "name": "stdout",
     "output_type": "stream",
     "text": [
      "4\n",
      "ACAK\n"
     ]
    }
   ],
   "source": [
    "A = \"ACAYKP\"\n",
    "B = \"CAPCAK\"\n",
    "lcs2 (A,B)"
   ]
  },
  {
   "cell_type": "code",
   "execution_count": 3,
   "metadata": {
    "collapsed": false
   },
   "outputs": [
    {
     "name": "stdout",
     "output_type": "stream",
     "text": [
      "ABCDEFG\n",
      "ABEG\n",
      "4\n",
      "ABEG\n"
     ]
    }
   ],
   "source": [
    "A,B = raw_input(),raw_input()\n",
    "lcs2(A,B)"
   ]
  }
 ],
 "metadata": {
  "kernelspec": {
   "display_name": "Python [Root]",
   "language": "python",
   "name": "Python [Root]"
  },
  "language_info": {
   "codemirror_mode": {
    "name": "ipython",
    "version": 2
   },
   "file_extension": ".py",
   "mimetype": "text/x-python",
   "name": "python",
   "nbconvert_exporter": "python",
   "pygments_lexer": "ipython2",
   "version": "2.7.12"
  }
 },
 "nbformat": 4,
 "nbformat_minor": 0
}
