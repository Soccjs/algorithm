{
 "cells": [
  {
   "cell_type": "markdown",
   "metadata": {},
   "source": [
    "## Longest Common Subsequence\n",
    "https://www.acmicpc.net/problem/5582"
   ]
  },
  {
   "cell_type": "code",
   "execution_count": 6,
   "metadata": {
    "collapsed": true
   },
   "outputs": [],
   "source": [
    "def LCS (A, B) :\n",
    "    len_A,len_B = len(A),len(B)\n",
    "    \n",
    "    lcs = [[0 for j in range(len_B+1)] for i in range(len_A+1)]\n",
    "    \n",
    "    for i in range(len_A) :\n",
    "        for j in range(len_B) :\n",
    "            if A[i] == B[j] :\n",
    "                lcs[i+1][j+1] = lcs[i][j] + 1\n",
    "            else :\n",
    "                lcs[i+1][j+1] = 0\n",
    "    \n",
    "    M=0\n",
    "    for i in range(len_A) :\n",
    "        for j in range(len_B) :\n",
    "            if M<lcs[i+1][j+1] :\n",
    "                M = lcs[i+1][j+1]\n",
    "    print M"
   ]
  },
  {
   "cell_type": "code",
   "execution_count": 3,
   "metadata": {
    "collapsed": false
   },
   "outputs": [
    {
     "name": "stdout",
     "output_type": "stream",
     "text": [
      "1\n",
      "1\n"
     ]
    }
   ],
   "source": [
    "A, B = raw_input(), raw_input()\n"
   ]
  },
  {
   "cell_type": "code",
   "execution_count": 7,
   "metadata": {
    "collapsed": false
   },
   "outputs": [
    {
     "name": "stdout",
     "output_type": "stream",
     "text": [
      "5\n"
     ]
    }
   ],
   "source": [
    "A = \"ABRACADABRA\"\n",
    "B = \"ECADADABRBCRDARA\"\n",
    "\n",
    "LCS(A,B)"
   ]
  }
 ],
 "metadata": {
  "anaconda-cloud": {},
  "kernelspec": {
   "display_name": "Python [Root]",
   "language": "python",
   "name": "Python [Root]"
  },
  "language_info": {
   "codemirror_mode": {
    "name": "ipython",
    "version": 2
   },
   "file_extension": ".py",
   "mimetype": "text/x-python",
   "name": "python",
   "nbconvert_exporter": "python",
   "pygments_lexer": "ipython2",
   "version": "2.7.12"
  }
 },
 "nbformat": 4,
 "nbformat_minor": 0
}
