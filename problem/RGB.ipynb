{
 "cells": [
  {
   "cell_type": "code",
   "execution_count": null,
   "metadata": {
    "collapsed": true
   },
   "outputs": [],
   "source": [
    "## RG"
   ]
  },
  {
   "cell_type": "code",
   "execution_count": 15,
   "metadata": {
    "collapsed": false
   },
   "outputs": [],
   "source": [
    "def RGB(datas) :\n",
    "    R,G,B = datas[0][0],datas[0][1],datas[0][2]\n",
    "     \n",
    "    for i in range(1, len(datas)) :\n",
    "        prevR, prevG, prevB = R, G, B\n",
    "        R = min(prevB, prevG) + datas[i][0] \n",
    "        G = min(prevR, prevB) + datas[i][1]\n",
    "        B = min(prevR, prevG) + datas[i][2]\n",
    "      \n",
    "    print min(R,G,B)"
   ]
  },
  {
   "cell_type": "code",
   "execution_count": 11,
   "metadata": {
    "collapsed": false
   },
   "outputs": [
    {
     "name": "stdout",
     "output_type": "stream",
     "text": [
      "96\n"
     ]
    }
   ],
   "source": [
    "datas = [[26,40,83], [49,60,57],[13,89,99]]\n",
    "RGB(datas)"
   ]
  },
  {
   "cell_type": "code",
   "execution_count": null,
   "metadata": {
    "collapsed": true
   },
   "outputs": [],
   "source": [
    "n= input()\n",
    "datas = [map(int, raw_input().split()) for i in range(n)]\n",
    "RGB(datas)"
   ]
  }
 ],
 "metadata": {
  "kernelspec": {
   "display_name": "Python [Root]",
   "language": "python",
   "name": "Python [Root]"
  },
  "language_info": {
   "codemirror_mode": {
    "name": "ipython",
    "version": 2
   },
   "file_extension": ".py",
   "mimetype": "text/x-python",
   "name": "python",
   "nbconvert_exporter": "python",
   "pygments_lexer": "ipython2",
   "version": "2.7.12"
  }
 },
 "nbformat": 4,
 "nbformat_minor": 0
}
