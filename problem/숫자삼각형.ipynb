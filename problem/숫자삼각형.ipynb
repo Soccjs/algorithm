{
 "cells": [
  {
   "cell_type": "markdown",
   "metadata": {},
   "source": [
    "### 숫자삼각형\n",
    "https://www.acmicpc.net/problem/1932"
   ]
  },
  {
   "cell_type": "code",
   "execution_count": 1,
   "metadata": {
    "collapsed": false
   },
   "outputs": [
    {
     "name": "stdout",
     "output_type": "stream",
     "text": [
      "30\n"
     ]
    }
   ],
   "source": [
    "n = 5\n",
    "datas = [[7],[3,8],[8,1,0],[2,7,4,4], [4,5,2,6,5]]\n",
    "dp = [[0 for j in range(len(datas[i]))] for i in range(n)]\n",
    "\n",
    "###\n",
    "dp[0][0] = datas[0][0]\n",
    "for i in range (1, n) :\n",
    "    for j in range (len(datas[i])) :\n",
    "        if j==0 :\n",
    "            dp[i][j] = datas[i][j] + dp[i-1][0] \n",
    "        elif j== len(datas[i])-1 :\n",
    "            dp[i][j] = datas[i][j] + dp[i-1][j-1]\n",
    "        else :\n",
    "            dp[i][j] =  datas[i][j] + max(dp[i-1][j-1], dp[i-1][j])  \n",
    "print max(dp[-1])"
   ]
  },
  {
   "cell_type": "code",
   "execution_count": 2,
   "metadata": {
    "collapsed": false
   },
   "outputs": [
    {
     "name": "stdout",
     "output_type": "stream",
     "text": [
      "5\n",
      "7\n",
      "3 8\n",
      "8 1 0\n",
      "2 7 4 4\n",
      "4 5 2 6 5\n"
     ]
    }
   ],
   "source": [
    "n = input()\n",
    "datas = [map(int, raw_input().split()) for i in range(n)]\n",
    "dp = [[0 for j in range(len(datas[i]))] for i in range(n)]\n",
    "dp[0][0] = datas[0][0];\n",
    "\n",
    "\n"
   ]
  },
  {
   "cell_type": "code",
   "execution_count": 3,
   "metadata": {
    "collapsed": false
   },
   "outputs": [
    {
     "ename": "SyntaxError",
     "evalue": "invalid syntax (<ipython-input-3-a60133d0e657>, line 3)",
     "output_type": "error",
     "traceback": [
      "\u001b[1;36m  File \u001b[1;32m\"<ipython-input-3-a60133d0e657>\"\u001b[1;36m, line \u001b[1;32m3\u001b[0m\n\u001b[1;33m    3 8\u001b[0m\n\u001b[1;37m      ^\u001b[0m\n\u001b[1;31mSyntaxError\u001b[0m\u001b[1;31m:\u001b[0m invalid syntax\n"
     ]
    }
   ],
   "source": [
    "5\n",
    "7\n",
    "3 8\n",
    "8 1 0 \n",
    "2 7 4 4\n",
    "4 5 2 6 5"
   ]
  }
 ],
 "metadata": {
  "kernelspec": {
   "display_name": "Python [Root]",
   "language": "python",
   "name": "Python [Root]"
  },
  "language_info": {
   "codemirror_mode": {
    "name": "ipython",
    "version": 2
   },
   "file_extension": ".py",
   "mimetype": "text/x-python",
   "name": "python",
   "nbconvert_exporter": "python",
   "pygments_lexer": "ipython2",
   "version": "2.7.12"
  }
 },
 "nbformat": 4,
 "nbformat_minor": 0
}
