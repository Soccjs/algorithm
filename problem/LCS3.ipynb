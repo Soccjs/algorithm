{
 "cells": [
  {
   "cell_type": "markdown",
   "metadata": {},
   "source": [
    "### LCS3\n",
    "https://www.acmicpc.net/problem/1958"
   ]
  },
  {
   "cell_type": "code",
   "execution_count": 12,
   "metadata": {
    "collapsed": false
   },
   "outputs": [],
   "source": [
    "def lcs3 (A, B, C) :\n",
    "    dp = [[[0 for i in range(len(A)+1)] for i in range(len(B)+1)] for i in range(len(C)+1)]\n",
    "   \n",
    "    for k in range(len(C)) :\n",
    "        for i in range(len(B)) :\n",
    "            for j in range(len(A)) :\n",
    "                if (C[k] == B[i] and C[k]== A[j]) :\n",
    "                    dp[k+1][i+1][j+1] = dp[k][i][j] + 1\n",
    "                else :\n",
    "                    dp[k+1][i+1][j+1] = max(dp[k][i+1][j+1], dp[k+1][i][j+1], dp[k+1][i+1][j])\n",
    "    print dp[-1][-1][-1]\n"
   ]
  },
  {
   "cell_type": "code",
   "execution_count": 13,
   "metadata": {
    "collapsed": false
   },
   "outputs": [
    {
     "name": "stdout",
     "output_type": "stream",
     "text": [
      "3\n"
     ]
    }
   ],
   "source": [
    "A = \"abcdefghijklmn\"\n",
    "B = \"bdefg\"\n",
    "C = \"efg\"\n",
    "lcs3(A,B,C)"
   ]
  },
  {
   "cell_type": "code",
   "execution_count": 11,
   "metadata": {
    "collapsed": false
   },
   "outputs": [
    {
     "name": "stdout",
     "output_type": "stream",
     "text": [
      "ABCDEFG\n",
      "ABEFG\n",
      "BEF\n",
      "3\n"
     ]
    }
   ],
   "source": [
    "A,B,C = raw_input(), raw_input(), raw_input()\n",
    "lcs3(A,B,C)"
   ]
  }
 ],
 "metadata": {
  "kernelspec": {
   "display_name": "Python [Root]",
   "language": "python",
   "name": "Python [Root]"
  },
  "language_info": {
   "codemirror_mode": {
    "name": "ipython",
    "version": 2
   },
   "file_extension": ".py",
   "mimetype": "text/x-python",
   "name": "python",
   "nbconvert_exporter": "python",
   "pygments_lexer": "ipython2",
   "version": "2.7.12"
  }
 },
 "nbformat": 4,
 "nbformat_minor": 0
}
