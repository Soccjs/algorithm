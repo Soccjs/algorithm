{
 "cells": [
  {
   "cell_type": "markdown",
   "metadata": {},
   "source": [
    "## A* algorithm\n",
    "- 출발점에서 목적지까지의 최단경로를 찾는 알고리즘(최단경로가 아닐 수도 있음)\n",
    "- bfs 방식\n",
    "- 각 지점에 대해 최상의 경로를 추정하는 heuristic 추정값 h(x)를 매긴다.\n",
    "- 평가함수 f(x) = g(x) + h(x)\n",
    "- g(x) : 출발점부터 x 지점까지의 가중치(실제 cost)\n",
    "- h(x) : x 지점부터 목적지점까지의 추정 경로 가중치(길찾기에서는 보통 직선거리로 함)\n",
    "\n",
    "http://www.redblobgames.com/pathfinding/a-star/implementation.html"
   ]
  },
  {
   "cell_type": "code",
   "execution_count": 2,
   "metadata": {
    "collapsed": false
   },
   "outputs": [],
   "source": [
    "# print Map\n",
    "def printMap(M, start, end) :\n",
    "    for i in range(c+2):\n",
    "        for j in range(r + 2) :\n",
    "            if (i==0 or j==0 or i== c+1 or j==r+1) :\n",
    "                print 'X ',\n",
    "            elif (M[i][j] == 123456789) :\n",
    "                print '? ',\n",
    "            elif ( M[i][j] == -1) :\n",
    "                print 'X ',\n",
    "            elif (i,j) == start :\n",
    "                print 'S ',\n",
    "            elif (i,j) == end :\n",
    "                print 'E ',\n",
    "            else : print M[i][j] ,\"\",\n",
    "        print"
   ]
  },
  {
   "cell_type": "code",
   "execution_count": 3,
   "metadata": {
    "collapsed": false
   },
   "outputs": [],
   "source": [
    "def heuristic(a, b):\n",
    "    (x1, y1) = a\n",
    "    (x2, y2) = b\n",
    "    return abs(x1 - x2) + abs(y1 - y2)"
   ]
  },
  {
   "cell_type": "code",
   "execution_count": 4,
   "metadata": {
    "collapsed": false
   },
   "outputs": [],
   "source": [
    "INF = 123456789\n",
    "from heapq import heappush, heappop\n",
    "def Astar(Map, start, end) :\n",
    "    #right : right-up = 1 : 1.414\n",
    "    \n",
    "    dist = [[INF for i in range(r+2)] for i in range(c+2)]\n",
    "    dist[start[0]][start[1]] = 0\n",
    "    hq = [(0, ((start[0],start[1]),0))]\n",
    "    while hq :\n",
    "        Fx, ((x,y), cost) = heappop(hq)\n",
    "        if (x,y) == end : break;\n",
    "\n",
    "        #left\n",
    "        if (y-1<=r and Map[x][y-1]!=-1) :\n",
    "            gx = 1\n",
    "            newCost =  cost+gx\n",
    "            fx = heuristic((x,y-1), end) + newCost\n",
    "            if (dist[x][y-1] > newCost) :\n",
    "                dist[x][y-1] = newCost\n",
    "                heappush(hq, (fx,((x, y-1), newCost)))\n",
    "        #right \n",
    "        if (y+1<=r and Map[x][y+1]!=-1) :\n",
    "            gx = 1\n",
    "            newCost =  cost+gx\n",
    "            fx = heuristic((x,y+1), end) + newCost\n",
    "            if (dist[x][y+1] > newCost) :\n",
    "                dist[x][y+1] = newCost\n",
    "                heappush(hq, (fx,((x, y+1), newCost)))\n",
    "        #down\n",
    "        if (x+1<=c and Map[x+1][y]!=-1) :\n",
    "            gx = 1\n",
    "            newCost =  cost+gx\n",
    "            fx = heuristic((x+1,y), end)+ newCost\n",
    "            if (dist[x+1][y] > newCost) :\n",
    "                dist[x+1][y] = newCost\n",
    "                heappush(hq, (fx,((x+1, y), newCost)))\n",
    "    \n",
    "        #up \n",
    "        if (x-1>=1 and Map[x-1][y]!=-1) :\n",
    "            gx = 1\n",
    "            newCost =  cost+gx\n",
    "            fx = heuristic((x-1,y), end) + newCost\n",
    "            if (dist[x-1][y] > newCost) :\n",
    "                dist[x-1][y] = newCost\n",
    "                heappush(hq, (fx,((x-1, y), newCost)))\n",
    "        \n",
    "    printMap(dist, start, end)\n",
    "    print dist[end[0]][end[1]]\n"
   ]
  },
  {
   "cell_type": "code",
   "execution_count": 5,
   "metadata": {
    "collapsed": false
   },
   "outputs": [
    {
     "name": "stdout",
     "output_type": "stream",
     "text": [
      "X  X  X  X  X  X  X  X  X  X  X  X \n",
      "X  0  0  0  0  0  0  0  0  0  0  X \n",
      "X  0  0  0  0  0  0  0  0  0  0  X \n",
      "X  0  0  0  0  0  0  0  0  0  0  X \n",
      "X  0  0  0  0  0  0  0  0  0  0  X \n",
      "X  0  S  0  0  0  0  0  0  0  0  X \n",
      "X  0  0  0  0  0  0  0  0  0  0  X \n",
      "X  0  0  0  0  0  0  0  0  0  0  X \n",
      "X  0  X  X  X  0  0  0  0  0  0  X \n",
      "X  0  X  X  X  0  0  0  E  0  0  X \n",
      "X  0  0  0  0  0  0  0  0  0  0  X \n",
      "X  X  X  X  X  X  X  X  X  X  X  X \n",
      "A* search\n",
      "X  X  X  X  X  X  X  X  X  X  X  X \n",
      "X  ?  ?  ?  ?  ?  ?  ?  ?  ?  ?  X \n",
      "X  ?  ?  ?  ?  ?  ?  ?  ?  ?  ?  X \n",
      "X  ?  ?  ?  ?  ?  ?  ?  ?  ?  ?  X \n",
      "X  ?  1  2  3  4  5  6  7  ?  ?  X \n",
      "X  1  S  1  2  3  4  5  6  7  ?  X \n",
      "X  2  1  2  3  4  5  6  7  8  ?  X \n",
      "X  3  2  3  4  5  6  7  8  9  ?  X \n",
      "X  ?  ?  ?  ?  6  7  8  9  10  ?  X \n",
      "X  ?  ?  ?  ?  7  8  9  E  ?  ?  X \n",
      "X  ?  ?  ?  ?  8  9  10  ?  ?  ?  X \n",
      "X  X  X  X  X  X  X  X  X  X  X  X \n",
      "10\n"
     ]
    }
   ],
   "source": [
    "c,r = 10,10\n",
    "Map = [[-1 for i in range(r+2)] for i in range(c+2)]\n",
    "# init Map\n",
    "for i in range(c) :\n",
    "    for j in range(r) :\n",
    "        Map[i+1][j+1] = 0\n",
    "\n",
    "# set obstacles\n",
    "for i in range(8,10) :\n",
    "    for j in range(2,5) :\n",
    "        Map[i][j] = -1\n",
    "\n",
    "# set start, end\n",
    "start, end= (5,2), (9,8)\n",
    "\n",
    "printMap(Map, start, end)\n",
    "print \"A* search\"\n",
    "Astar(Map, start, end)"
   ]
  },
  {
   "cell_type": "code",
   "execution_count": null,
   "metadata": {
    "collapsed": true
   },
   "outputs": [],
   "source": []
  }
 ],
 "metadata": {
  "kernelspec": {
   "display_name": "Python [Root]",
   "language": "python",
   "name": "Python [Root]"
  },
  "language_info": {
   "codemirror_mode": {
    "name": "ipython",
    "version": 2
   },
   "file_extension": ".py",
   "mimetype": "text/x-python",
   "name": "python",
   "nbconvert_exporter": "python",
   "pygments_lexer": "ipython2",
   "version": "2.7.12"
  }
 },
 "nbformat": 4,
 "nbformat_minor": 0
}
