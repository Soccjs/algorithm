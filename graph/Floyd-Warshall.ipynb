{
 "cells": [
  {
   "cell_type": "markdown",
   "metadata": {},
   "source": [
    "- 모든 지점의 최단 경로를 구함.\n",
    "- 음의 가중치 또한 가능.\n",
    "- O(V^3) == 각 점에서 다익스트라를 동작시키는 것과 같다(V*O(V^2))\n",
    "- but 다익스트라는 음의간선은 고려하지 못함."
   ]
  },
  {
   "cell_type": "code",
   "execution_count": 1,
   "metadata": {
    "collapsed": false
   },
   "outputs": [],
   "source": [
    "# Example\n",
    "#  pair     dist    path\n",
    "# 1 -> 2    -1     1 -> 3 -> 4 -> 2\n",
    "# 1 -> 3    -2     1 -> 3\n",
    "# 1 -> 4     0     1 -> 3 -> 4\n",
    "# 2 -> 1     4     2 -> 1\n",
    "# 2 -> 3     2     2 -> 1 -> 3\n",
    "# 2 -> 4     4     2 -> 1 -> 3 -> 4\n",
    "# 3 -> 1     5     3 -> 4 -> 2 -> 1\n",
    "# 3 -> 2     1     3 -> 4 -> 2\n",
    "# 3 -> 4     2     3 -> 4\n",
    "# 4 -> 1     3     4 -> 2 -> 1\n",
    "# 4 -> 2    -1     4 -> 2\n",
    "# 4 -> 3     1     4 -> 2 -> 1 -> 3\n",
    "V = 4\n",
    "INF  = 99999\n",
    "graph = [[ 0,INF,-2,INF],\n",
    "         [4,0,3,INF],\n",
    "         [INF,INF,0,2],\n",
    "         [INF,-1,INF,0]]"
   ]
  },
  {
   "cell_type": "code",
   "execution_count": 2,
   "metadata": {
    "collapsed": false
   },
   "outputs": [],
   "source": [
    "def floydWarshall(graph):\n",
    "    dist = map(lambda i : map(lambda j : j , i) , graph)\n",
    "    path = map(lambda i : map(lambda j : [], i), graph)\n",
    "    \n",
    "    print dist\n",
    "    print path\n",
    "\n",
    "    for k in range(V):\n",
    "        for i in range(V):\n",
    "            for j in range(V):\n",
    "                if dist[i][k]!=INF and dist[k][j]!=INF and dist[i][j] > dist[i][k] + dist[k][j] :\n",
    "                    dist[i][j] = dist[i][k] + dist[k][j]\n",
    "                    path[i][j] = path[i][k] + [k+1] + path[k][j]\n",
    "#                     dist[i][j] = min(dist[i][j], dist[i][k]+ dist[k][j])\n",
    "                \n",
    "    print \"graph\"\n",
    "    printlist(graph)\n",
    "    print \"dist\"\n",
    "    printlist(dist)\n",
    "    print \"path\"\n",
    "    \n",
    "    printPath(path,graph)\n",
    "\n",
    "def printlist(D):\n",
    "    for i in range(V):\n",
    "        for j in range(V):\n",
    "            if(D[i][j] == INF):\n",
    "                print \"%7s\" %(\"INF\"),\n",
    "            else:\n",
    "                print \"%7d\\t\" %(D[i][j]),\n",
    "        print \"\"\n",
    "        \n",
    "def printPath(P, G):\n",
    "    for i in range(V) :\n",
    "        for j in range(V) :\n",
    "            if i!=j : \n",
    "                print i, ' -> ', j,\" : \",\n",
    "                print ' -> '.join(map(str, [i+1]+P[i][j]+[j+1]))"
   ]
  },
  {
   "cell_type": "code",
   "execution_count": 3,
   "metadata": {
    "collapsed": false
   },
   "outputs": [
    {
     "name": "stdout",
     "output_type": "stream",
     "text": [
      "[[0, 99999, -2, 99999], [4, 0, 3, 99999], [99999, 99999, 0, 2], [99999, -1, 99999, 0]]\n",
      "[[[], [], [], []], [[], [], [], []], [[], [], [], []], [[], [], [], []]]\n",
      "graph\n",
      "      0\t    INF      -2\t    INF \n",
      "      4\t      0\t      3\t    INF \n",
      "    INF     INF       0\t      2\t\n",
      "    INF      -1\t    INF       0\t\n",
      "dist\n",
      "      0\t     -1\t     -2\t      0\t\n",
      "      4\t      0\t      2\t      4\t\n",
      "      5\t      1\t      0\t      2\t\n",
      "      3\t     -1\t      1\t      0\t\n",
      "path\n",
      "0  ->  1  :  1 -> 3 -> 4 -> 2\n",
      "0  ->  2  :  1 -> 3\n",
      "0  ->  3  :  1 -> 3 -> 4\n",
      "1  ->  0  :  2 -> 1\n",
      "1  ->  2  :  2 -> 1 -> 3\n",
      "1  ->  3  :  2 -> 1 -> 3 -> 4\n",
      "2  ->  0  :  3 -> 4 -> 2 -> 1\n",
      "2  ->  1  :  3 -> 4 -> 2\n",
      "2  ->  3  :  3 -> 4\n",
      "3  ->  0  :  4 -> 2 -> 1\n",
      "3  ->  1  :  4 -> 2\n",
      "3  ->  2  :  4 -> 2 -> 1 -> 3\n"
     ]
    }
   ],
   "source": [
    "\n",
    "floydWarshall(graph);"
   ]
  },
  {
   "cell_type": "code",
   "execution_count": null,
   "metadata": {
    "collapsed": true
   },
   "outputs": [],
   "source": []
  }
 ],
 "metadata": {
  "kernelspec": {
   "display_name": "Python [Root]",
   "language": "python",
   "name": "Python [Root]"
  },
  "language_info": {
   "codemirror_mode": {
    "name": "ipython",
    "version": 2
   },
   "file_extension": ".py",
   "mimetype": "text/x-python",
   "name": "python",
   "nbconvert_exporter": "python",
   "pygments_lexer": "ipython2",
   "version": "2.7.12"
  }
 },
 "nbformat": 4,
 "nbformat_minor": 0
}
