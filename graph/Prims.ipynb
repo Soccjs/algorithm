{
 "cells": [
  {
   "cell_type": "markdown",
   "metadata": {},
   "source": [
    "1. 임의의 정점을 선택(정점기준)\n",
    "2. 이 정점에서 다른 정점으로 갈수 있는 최소 비용의 정점을 선택하고 이 정점은 집합에서 제외\n",
    "3. 이 정점에서 다른 정점으로 가는 비용과 기존의 비용과 비교후 더 작은 비용이 있으면 갱신\n",
    "4. 2-3 번 과정을 n(정점의수)-1 번 반복.\n",
    "- Kruskal 알고리즘과 반대로 트리의 모형을 유지하며 완성.\n",
    "- Time Complexity: \n",
    "Time Complexity of the above program is O(V^2). If the input graph is represented using adjacency list, then the time complexity of Prim’s algorithm can be reduced to O(E log V) with the help of binary heap. Please see Prim’s MST for Adjacency List Representation for more details. \n",
    "- ex ) https://www.hackerrank.com/challenges/primsmstsub"
   ]
  },
  {
   "cell_type": "code",
   "execution_count": 1,
   "metadata": {
    "collapsed": true
   },
   "outputs": [],
   "source": [
    "from heapq import heappush, heappop\n",
    "\n",
    "def Prims(graph, start) :\n",
    "    visited = [False for i in range(N+1)]\n",
    "    hq = []\n",
    "    # 1. store start vertice\n",
    "    for v, w in graph[start] :\n",
    "        heappush(hq, (w,start,v))\n",
    "        \n",
    "    minimum_spanning_tree = set()\n",
    "    times = N-1\n",
    "    while (hq and times):\n",
    "        w,u,v = heappop(hq)\n",
    "\n",
    "        if visited[u] and visited[v] :\n",
    "            continue\n",
    "            \n",
    "        visited[u] = visited[v] = True\n",
    "        minimum_spanning_tree.add((u,v,w))\n",
    "        \n",
    "        for new_v, new_w in graph[v] :\n",
    "            if not visited[new_v]:\n",
    "                heappush(hq,(new_w, v, new_v))\n",
    "        times-=1\n",
    "        \n",
    "#     print minimum_spanning_tree\n",
    "    \n",
    "    sum = 0\n",
    "    for i in minimum_spanning_tree :\n",
    "        sum += i[2]\n",
    "    print sum"
   ]
  },
  {
   "cell_type": "code",
   "execution_count": 2,
   "metadata": {
    "collapsed": false
   },
   "outputs": [
    {
     "name": "stdout",
     "output_type": "stream",
     "text": [
      "15\n"
     ]
    }
   ],
   "source": [
    "N, M = 5, 6\n",
    "graph = [[] for i in range(N+1)]\n",
    "\n",
    "graph[1].append((2,3))\n",
    "graph[2].append((1,3))\n",
    "\n",
    "graph[1].append((3,4))\n",
    "graph[3].append((1,4))\n",
    "\n",
    "graph[4].append((2,6))\n",
    "graph[2].append((4,6))\n",
    "\n",
    "graph[2].append((5,2))\n",
    "graph[5].append((2,2))\n",
    "\n",
    "graph[3].append((2,5))\n",
    "graph[2].append((3,5))\n",
    "\n",
    "graph[3].append((5,7))\n",
    "graph[5].append((3,7))\n",
    "start = 1\n",
    "Prims(graph, start)\n",
    "    "
   ]
  },
  {
   "cell_type": "code",
   "execution_count": null,
   "metadata": {
    "collapsed": true
   },
   "outputs": [],
   "source": [
    "N, M = map(int, raw_input().split())\n",
    "graph = [[] for i in range(N+1)]\n",
    "for i in range(M) :\n",
    "    u,v,w = map(int, raw_input().split())\n",
    "    graph[u].append((v,w))\n",
    "    graph[v].append((u,w))\n",
    "start = input()\n",
    "Prims(graph, start)\n",
    "    "
   ]
  }
 ],
 "metadata": {
  "kernelspec": {
   "display_name": "Python [Root]",
   "language": "python",
   "name": "Python [Root]"
  },
  "language_info": {
   "codemirror_mode": {
    "name": "ipython",
    "version": 2
   },
   "file_extension": ".py",
   "mimetype": "text/x-python",
   "name": "python",
   "nbconvert_exporter": "python",
   "pygments_lexer": "ipython2",
   "version": "2.7.12"
  }
 },
 "nbformat": 4,
 "nbformat_minor": 0
}
