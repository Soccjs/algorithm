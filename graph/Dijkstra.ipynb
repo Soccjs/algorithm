{
 "cells": [
  {
   "cell_type": "markdown",
   "metadata": {},
   "source": [
    "## Dijkstra's algorithm using heapq"
   ]
  },
  {
   "cell_type": "code",
   "execution_count": 1,
   "metadata": {
    "collapsed": false
   },
   "outputs": [],
   "source": [
    "# https://www.acmicpc.net/problem/1753\n",
    "from heapq import *\n",
    "inf = 987654321\n",
    "def Dijkstra (adj, start) :\n",
    "    dist = [inf for i in xrange(V+1)]\n",
    "    \n",
    "    dist[start] = 0\n",
    "    datas = []\n",
    "    heappush(datas, (0,start))\n",
    "\n",
    "    while len(datas) :\n",
    "        w, u = heappop(datas)\n",
    "        if dist[u] != w :\n",
    "            continue\n",
    "\n",
    "        for new_u, new_w in adj[u] :\n",
    "            cost = new_w + dist[u]\n",
    "            if dist[new_u] > cost :\n",
    "                dist[new_u] = cost\n",
    "                heappush(datas,(cost,new_u))\n",
    "        \n",
    "    for i in xrange(1 ,V+1) :\n",
    "        if dist[i] == inf :\n",
    "            print \"INF\"\n",
    "        else :\n",
    "            print dist[i]\n"
   ]
  },
  {
   "cell_type": "code",
   "execution_count": 2,
   "metadata": {
    "collapsed": false
   },
   "outputs": [
    {
     "name": "stdout",
     "output_type": "stream",
     "text": [
      "0\n",
      "2\n",
      "3\n",
      "7\n",
      "INF\n"
     ]
    }
   ],
   "source": [
    "V, E = 5, 6\n",
    "start = 1\n",
    "datas = [[5,1,1],[1,2,2],[1,3,3],[2,3,4],[2,4,5],[3,4,6]]\n",
    "adj = [[] for i in xrange(V+1)]\n",
    "\n",
    "for i in xrange(E) :\n",
    "    adj[datas[i][0]].append((datas[i][1] ,datas[i][2]))\n",
    "\n",
    "Dijkstra(adj,start)"
   ]
  },
  {
   "cell_type": "code",
   "execution_count": 5,
   "metadata": {
    "collapsed": false
   },
   "outputs": [
    {
     "name": "stdout",
     "output_type": "stream",
     "text": [
      "5 6\n",
      "1\n",
      "5 1 1\n",
      "1 2 2\n",
      "1 3 3\n",
      "2 3 4\n",
      "2 4 5\n",
      "3 4 6\n",
      "0\n",
      "2\n",
      "3\n",
      "7\n",
      "INF\n"
     ]
    }
   ],
   "source": [
    "V, E = map(int, raw_input().split())\n",
    "start = input()\n",
    "adj = [[] for i in xrange(V+1)]\n",
    "\n",
    "for i in xrange(E) :\n",
    "    v, u, w = map(int, raw_input().split())\n",
    "    adj[v].append((u,w))\n",
    "Dijkstra(adj,start)"
   ]
  },
  {
   "cell_type": "code",
   "execution_count": 23,
   "metadata": {
    "collapsed": false
   },
   "outputs": [
    {
     "ename": "SyntaxError",
     "evalue": "invalid syntax (<ipython-input-23-5e34d6cd728e>, line 1)",
     "output_type": "error",
     "traceback": [
      "\u001b[1;36m  File \u001b[1;32m\"<ipython-input-23-5e34d6cd728e>\"\u001b[1;36m, line \u001b[1;32m1\u001b[0m\n\u001b[1;33m    5 6\u001b[0m\n\u001b[1;37m      ^\u001b[0m\n\u001b[1;31mSyntaxError\u001b[0m\u001b[1;31m:\u001b[0m invalid syntax\n"
     ]
    }
   ],
   "source": [
    "5 6\n",
    "1\n",
    "5 1 1\n",
    "1 2 2\n",
    "1 3 3\n",
    "2 3 4\n",
    "2 4 5\n",
    "3 4 6"
   ]
  }
 ],
 "metadata": {
  "kernelspec": {
   "display_name": "Python [Root]",
   "language": "python",
   "name": "Python [Root]"
  },
  "language_info": {
   "codemirror_mode": {
    "name": "ipython",
    "version": 2
   },
   "file_extension": ".py",
   "mimetype": "text/x-python",
   "name": "python",
   "nbconvert_exporter": "python",
   "pygments_lexer": "ipython2",
   "version": "2.7.12"
  }
 },
 "nbformat": 4,
 "nbformat_minor": 0
}
