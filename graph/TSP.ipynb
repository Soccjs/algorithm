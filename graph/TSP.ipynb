{
 "cells": [
  {
   "cell_type": "markdown",
   "metadata": {},
   "source": [
    "## Travelling Salesman Problem(TSP)"
   ]
  },
  {
   "cell_type": "markdown",
   "metadata": {},
   "source": [
    "#### 1. map 이용"
   ]
  },
  {
   "cell_type": "code",
   "execution_count": 1,
   "metadata": {
    "collapsed": false
   },
   "outputs": [],
   "source": [
    "MAX = 987654321\n",
    "\n",
    "def TSP(current, A, v, dp) :\n",
    "    if len(A) == n :\n",
    "        return v[current][1];\n",
    "    \n",
    "    if A in dp[current]:\n",
    "        return dp[current][A]\n",
    "    \n",
    "    dp[current][A] = MAX\n",
    "    for next in range(1, n+1) :\n",
    "        if next in A :\n",
    "            continue\n",
    "        if v[current][next] == 0 :\n",
    "            continue\n",
    "        dp[current][A] = min( dp[current][A], v[current][next] + TSP(next, A+(next,), v, dp))\n",
    "    return dp[current][A]"
   ]
  },
  {
   "cell_type": "code",
   "execution_count": 2,
   "metadata": {
    "collapsed": false
   },
   "outputs": [
    {
     "name": "stdout",
     "output_type": "stream",
     "text": [
      "4\n",
      "0 10 15 20\n",
      "5  0  9 10\n",
      "6 13  0 12\n",
      "8  8  9  0\n"
     ]
    },
    {
     "data": {
      "text/plain": [
       "35"
      ]
     },
     "execution_count": 2,
     "metadata": {},
     "output_type": "execute_result"
    }
   ],
   "source": [
    "n = input()\n",
    "v = [[0 for j in range(n+1)] for i in range(n+1)]\n",
    "dp = [{} for i in range(n+1)]\n",
    "\n",
    "for i in range(1, n+1) :\n",
    "    s = map(int,raw_input().split())\n",
    "    for j in range(1, n+1) :\n",
    "        v[i][j] = s[j-1]\n",
    "TSP(1,(1,),v,dp)"
   ]
  },
  {
   "cell_type": "code",
   "execution_count": 3,
   "metadata": {
    "collapsed": false
   },
   "outputs": [
    {
     "ename": "SyntaxError",
     "evalue": "invalid syntax (<ipython-input-3-a274909bde30>, line 2)",
     "output_type": "error",
     "traceback": [
      "\u001b[1;36m  File \u001b[1;32m\"<ipython-input-3-a274909bde30>\"\u001b[1;36m, line \u001b[1;32m2\u001b[0m\n\u001b[1;33m    0 10 15 20\u001b[0m\n\u001b[1;37m       ^\u001b[0m\n\u001b[1;31mSyntaxError\u001b[0m\u001b[1;31m:\u001b[0m invalid syntax\n"
     ]
    }
   ],
   "source": [
    "4\n",
    "0 10 15 20\n",
    "5  0  9 10\n",
    "6 13  0 12\n",
    "8  8  9  0"
   ]
  },
  {
   "cell_type": "markdown",
   "metadata": {},
   "source": [
    "#### 2. using bits"
   ]
  },
  {
   "cell_type": "code",
   "execution_count": 4,
   "metadata": {
    "collapsed": false
   },
   "outputs": [],
   "source": [
    "MAX = 987654321\n",
    "\n",
    "def TSP_bit(current, A) :\n",
    "    if A == ((1<<n)-1) :\n",
    "        return v[current][1]\n",
    "    \n",
    "    if dp[current][A] != 0:\n",
    "        return dp[current][A]\n",
    "    \n",
    "    dp[current][A] = MAX\n",
    "    for next in range(1, n+1) :\n",
    "        if A & (1<<(next-1)) :\n",
    "            continue\n",
    "        if v[current][next] == 0 :\n",
    "            continue\n",
    "        dp[current][A] = min( dp[current][A], v[current][next] + TSP_bit(next, A | (1<<(next-1))))\n",
    "    return dp[current][A]\n"
   ]
  },
  {
   "cell_type": "code",
   "execution_count": 5,
   "metadata": {
    "collapsed": false
   },
   "outputs": [
    {
     "name": "stdout",
     "output_type": "stream",
     "text": [
      "4\n",
      "[[0, 0, 0, 0, 0, 0, 0, 0, 0, 0, 0, 0, 0, 0, 0, 0, 0, 0, 0, 0, 0, 0, 0, 0, 0, 0, 0, 0, 0, 0, 0, 0], [0, 0, 0, 0, 0, 0, 0, 0, 0, 0, 0, 0, 0, 0, 0, 0, 0, 0, 0, 0, 0, 0, 0, 0, 0, 0, 0, 0, 0, 0, 0, 0], [0, 0, 0, 0, 0, 0, 0, 0, 0, 0, 0, 0, 0, 0, 0, 0, 0, 0, 0, 0, 0, 0, 0, 0, 0, 0, 0, 0, 0, 0, 0, 0], [0, 0, 0, 0, 0, 0, 0, 0, 0, 0, 0, 0, 0, 0, 0, 0, 0, 0, 0, 0, 0, 0, 0, 0, 0, 0, 0, 0, 0, 0, 0, 0], [0, 0, 0, 0, 0, 0, 0, 0, 0, 0, 0, 0, 0, 0, 0, 0, 0, 0, 0, 0, 0, 0, 0, 0, 0, 0, 0, 0, 0, 0, 0, 0]]\n",
      "0 10 15 20\n",
      "5  0  9 10\n",
      "6 13  0 12\n",
      "8  8  9  0\n",
      "35\n"
     ]
    }
   ],
   "source": [
    "n = input()\n",
    "v = [[0 for j in range(n+1)] for i in xrange(n+1)]\n",
    "dp = [[0 for j in range((1)<<(n+1))] for i in xrange(n+1)]\n",
    "print dp\n",
    "for i in range(1, n+1) :\n",
    "    s = map(int,raw_input().split())\n",
    "    for j in range(1, n+1) :\n",
    "        v[i][j] = s[j-1]\n",
    "print TSP_bit(1,1)"
   ]
  }
 ],
 "metadata": {
  "anaconda-cloud": {},
  "kernelspec": {
   "display_name": "Python [Root]",
   "language": "python",
   "name": "Python [Root]"
  },
  "language_info": {
   "codemirror_mode": {
    "name": "ipython",
    "version": 2
   },
   "file_extension": ".py",
   "mimetype": "text/x-python",
   "name": "python",
   "nbconvert_exporter": "python",
   "pygments_lexer": "ipython2",
   "version": "2.7.12"
  }
 },
 "nbformat": 4,
 "nbformat_minor": 0
}
