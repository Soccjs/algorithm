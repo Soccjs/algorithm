{
 "cells": [
  {
   "cell_type": "markdown",
   "metadata": {},
   "source": [
    "1. 비용을 기준으로 간선을 적은 것부터 큰 것 순으로 정렬한다.\n",
    "2. 적은 비용의 간선부터 하나씩 그린다. (사이클을 만들게 되는 간선은 그리지 않는다.)\n",
    "3. 모든 정점이 선으로 연결될 때까지 2의 과정을 계속한다.\n",
    "\n",
    "- Time Complexity: \n",
    " O(ElogE) or O(ElogV).\n",
    " Sorting of edges takes O(ELogE) time. After sorting, we iterate through all edges and apply find-union algorithm. The find and union operations can take atmost O(LogV) time. So overall complexity is O(ELogE + ELogV) time. The value of E can be atmost O(V2), so O(LogV) are O(LogE) same. Therefore, overall time complexity is O(ElogE) or O(ElogV)\n",
    " \n",
    "- ex ) https://www.hackerrank.com/challenges/kruskalmstrsub"
   ]
  },
  {
   "cell_type": "code",
   "execution_count": 1,
   "metadata": {
    "collapsed": false
   },
   "outputs": [],
   "source": [
    "def init_set() :\n",
    "    parent, rank = {}, {}\n",
    "    for i in range(1,N+1) :\n",
    "        parent[i] = i\n",
    "        rank[i] = 0\n",
    "    return parent, rank\n",
    "    \n",
    "def find (parent, V) :\n",
    "    if parent[V] != V :\n",
    "        parent[V] = find(parent, parent[V])\n",
    "    return parent[V]\n",
    "\n",
    "def KRUSKAL (graph) :\n",
    "    # 1. SORT by weight\n",
    "    G = list(graph.items())\n",
    "    G.sort(key = lambda item : item[1])\n",
    "#     print G\n",
    "    \n",
    "    # 2. set union\n",
    "    Parent, Rank = init_set()\n",
    "\n",
    "    # 3. store\n",
    "    minimum_spanning_tree = set()\n",
    "    for (u,v), w in G :\n",
    "        a = find(Parent, u) \n",
    "        b = find(Parent, v)\n",
    "\n",
    "        if a!=b :\n",
    "            if Rank[a]>Rank[b] :\n",
    "                Parent[b] = a\n",
    "            else :\n",
    "                Parent[a] = b \n",
    "                if Rank[a] == Rank[b] :\n",
    "                    Rank[a] += 1\n",
    "                minimum_spanning_tree.add((u,v,w))\n",
    "#     print minimum_spanning_tree\n",
    "    \n",
    "    sum = 0\n",
    "    for i in minimum_spanning_tree :\n",
    "        sum+=i[2]\n",
    "    print sum\n"
   ]
  },
  {
   "cell_type": "code",
   "execution_count": 2,
   "metadata": {
    "collapsed": false
   },
   "outputs": [
    {
     "name": "stdout",
     "output_type": "stream",
     "text": [
      "150\n"
     ]
    }
   ],
   "source": [
    "graph = {}\n",
    "N, M = 5,7\n",
    "graph[(1,2)] = 20\n",
    "graph[(1,3)] = 50\n",
    "graph[(1,4)] = 70\n",
    "graph[(1,5)] = 90\n",
    "graph[(2,3)] = 30\n",
    "graph[(3,4)] = 40\n",
    "graph[(4,5)] = 60\n",
    "start = 2\n",
    "KRUSKAL(graph)"
   ]
  },
  {
   "cell_type": "code",
   "execution_count": 3,
   "metadata": {
    "collapsed": false
   },
   "outputs": [
    {
     "name": "stdout",
     "output_type": "stream",
     "text": [
      "12\n"
     ]
    }
   ],
   "source": [
    "N, M = 4, 6\n",
    "graph = {}\n",
    "graph[(1,2)] = 5\n",
    "graph[(1,3)] = 3\n",
    "graph[(4,1)] = 6\n",
    "graph[(2,4)] = 7\n",
    "graph[(3,2)] = 4\n",
    "graph[(3,4)] = 5\n",
    "start = 1\n",
    "KRUSKAL(graph)"
   ]
  },
  {
   "cell_type": "code",
   "execution_count": null,
   "metadata": {
    "collapsed": true
   },
   "outputs": [],
   "source": [
    "graph = {}\n",
    "N, M = map(int, raw_input().split())\n",
    "for i in range(M) :\n",
    "    u,v,w = map(int, raw_input().split())\n",
    "    graph[(u,v)] = w\n",
    "start = input()\n",
    "KRUSKAL(graph)"
   ]
  }
 ],
 "metadata": {
  "anaconda-cloud": {},
  "kernelspec": {
   "display_name": "Python [Root]",
   "language": "python",
   "name": "Python [Root]"
  },
  "language_info": {
   "codemirror_mode": {
    "name": "ipython",
    "version": 2
   },
   "file_extension": ".py",
   "mimetype": "text/x-python",
   "name": "python",
   "nbconvert_exporter": "python",
   "pygments_lexer": "ipython2",
   "version": "2.7.12"
  }
 },
 "nbformat": 4,
 "nbformat_minor": 0
}
