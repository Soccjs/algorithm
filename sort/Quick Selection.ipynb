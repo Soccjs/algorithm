{
 "cells": [
  {
   "cell_type": "markdown",
   "metadata": {},
   "source": [
    "## Quick Selection"
   ]
  },
  {
   "cell_type": "code",
   "execution_count": 1,
   "metadata": {
    "collapsed": false
   },
   "outputs": [],
   "source": [
    "def quick_select(datas, start, end, k) :\n",
    "    while ( k-1>=start and k-1<= end):\n",
    "        pivot = datas[end]\n",
    "        move = start\n",
    "        for j in range(start, end) :\n",
    "            if (datas[j] <= pivot) :\n",
    "                datas[j], datas[move] = datas[move], datas[j]\n",
    "                move+=1\n",
    "\n",
    "        datas[end], datas[move] = datas[move], datas[end]\n",
    "        \n",
    "        if move == k-1 :\n",
    "            print \"answer\" ,datas\n",
    "            return datas[move] \n",
    "        \n",
    "        elif move  >  k-1 :\n",
    "            end = move-1\n",
    "        else :\n",
    "            start = move+1\n",
    "\n",
    "    return False"
   ]
  },
  {
   "cell_type": "code",
   "execution_count": 2,
   "metadata": {
    "collapsed": false
   },
   "outputs": [
    {
     "name": "stdout",
     "output_type": "stream",
     "text": [
      "answer [0, 1, 2, 3, 4, 9, 8, 7, 6, 5]\n",
      "0\n"
     ]
    }
   ],
   "source": [
    "v = [9, 8, 7, 6, 5, 0, 1, 2, 3, 4]\n",
    "print quick_select(v,0,9,1)"
   ]
  },
  {
   "cell_type": "code",
   "execution_count": 3,
   "metadata": {
    "collapsed": true
   },
   "outputs": [],
   "source": [
    "import random\n",
    "def randomize_quick_select(datas, start, end, k) :\n",
    "    while ( k-1>=start and k-1<= end):\n",
    "        pivot_idx = random.choice(range(start, end+1))\n",
    "        datas[pivot_idx], datas[end] = datas[end], datas[pivot_idx]\n",
    "        pivot = datas[end]\n",
    "        move = start\n",
    "        for j in range(start, end) :\n",
    "            if (datas[j] <= pivot) :\n",
    "                datas[j], datas[move] = datas[move], datas[j]\n",
    "                move+=1\n",
    "\n",
    "        datas[end], datas[move] = datas[move], datas[end]\n",
    "        \n",
    "        if move == k-1 :\n",
    "            print \"answer\" ,datas\n",
    "            return datas[move] \n",
    "        \n",
    "        elif move  >  k-1 :\n",
    "            end = move-1\n",
    "        else :\n",
    "            start = move+1\n",
    "\n",
    "    return False"
   ]
  },
  {
   "cell_type": "code",
   "execution_count": 4,
   "metadata": {
    "collapsed": false
   },
   "outputs": [
    {
     "name": "stdout",
     "output_type": "stream",
     "text": [
      "answer [0, 1, 2, 3, 4, 5, 6, 8, 7, 9]\n",
      "3\n"
     ]
    }
   ],
   "source": [
    "v = [9, 2, 7, 1, 5, 0, 6, 8, 3, 4]\n",
    "print randomize_quick_select(v,0,9,4)\n"
   ]
  }
 ],
 "metadata": {
  "anaconda-cloud": {},
  "kernelspec": {
   "display_name": "Python [Root]",
   "language": "python",
   "name": "Python [Root]"
  },
  "language_info": {
   "codemirror_mode": {
    "name": "ipython",
    "version": 2
   },
   "file_extension": ".py",
   "mimetype": "text/x-python",
   "name": "python",
   "nbconvert_exporter": "python",
   "pygments_lexer": "ipython2",
   "version": "2.7.12"
  }
 },
 "nbformat": 4,
 "nbformat_minor": 0
}
