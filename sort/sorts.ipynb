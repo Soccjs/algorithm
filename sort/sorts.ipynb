{
 "cells": [
  {
   "cell_type": "markdown",
   "metadata": {},
   "source": [
    "- O(n2) : Bubble, Insertion, Selection\n",
    "- O(nlogn) : Quick, Merge"
   ]
  },
  {
   "cell_type": "markdown",
   "metadata": {},
   "source": [
    "### Bubble sort \n",
    "\n",
    "- The simplest sorting algorithm.\n",
    "- O(n2), it is not used often for large (or even medium-sized) datasets."
   ]
  },
  {
   "cell_type": "code",
   "execution_count": 1,
   "metadata": {
    "collapsed": false
   },
   "outputs": [],
   "source": [
    "def bubble_sort( datas ) :\n",
    "    for i in xrange(0, len(datas)) :\n",
    "        for j in xrange(1,len(datas)-i) :\n",
    "            if datas[j] < datas[j-1] :\n",
    "                datas[j-1], datas[j] = datas[j], datas[j-1]\n",
    "        print i+1, datas\n",
    "    return datas"
   ]
  },
  {
   "cell_type": "code",
   "execution_count": 2,
   "metadata": {
    "collapsed": false
   },
   "outputs": [
    {
     "name": "stdout",
     "output_type": "stream",
     "text": [
      "1 [1, 8, 3, 5, 2, 4, 7, 6, 9, 10]\n",
      "2 [1, 3, 5, 2, 4, 7, 6, 8, 9, 10]\n",
      "3 [1, 3, 2, 4, 5, 6, 7, 8, 9, 10]\n",
      "4 [1, 2, 3, 4, 5, 6, 7, 8, 9, 10]\n",
      "5 [1, 2, 3, 4, 5, 6, 7, 8, 9, 10]\n",
      "6 [1, 2, 3, 4, 5, 6, 7, 8, 9, 10]\n",
      "7 [1, 2, 3, 4, 5, 6, 7, 8, 9, 10]\n",
      "8 [1, 2, 3, 4, 5, 6, 7, 8, 9, 10]\n",
      "9 [1, 2, 3, 4, 5, 6, 7, 8, 9, 10]\n",
      "10 [1, 2, 3, 4, 5, 6, 7, 8, 9, 10]\n",
      "[1, 2, 3, 4, 5, 6, 7, 8, 9, 10]\n"
     ]
    }
   ],
   "source": [
    "datas = [1, 9, 8, 3, 5, 2, 4, 7, 6, 10]\n",
    "print bubble_sort(datas)"
   ]
  },
  {
   "cell_type": "code",
   "execution_count": 3,
   "metadata": {
    "collapsed": true
   },
   "outputs": [],
   "source": [
    "def the_better_bubble_sort( datas ) :\n",
    "    changed = True    #when a pass completes without changing anything, the algorithm exits.\n",
    "    \n",
    "    for i in xrange(0, len(datas)) :\n",
    "        if changed :\n",
    "            changed = False\n",
    "            for j in xrange(1,len(datas)-i) :\n",
    "                if datas[j] < datas[j-1] :\n",
    "                    datas[j-1], datas[j] = datas[j], datas[j-1]\n",
    "                    changed = True\n",
    "            print i+1, datas\n",
    "        else : return datas\n"
   ]
  },
  {
   "cell_type": "code",
   "execution_count": 4,
   "metadata": {
    "collapsed": false
   },
   "outputs": [
    {
     "name": "stdout",
     "output_type": "stream",
     "text": [
      "1 [1, 8, 3, 5, 2, 4, 7, 6, 9, 10]\n",
      "2 [1, 3, 5, 2, 4, 7, 6, 8, 9, 10]\n",
      "3 [1, 3, 2, 4, 5, 6, 7, 8, 9, 10]\n",
      "4 [1, 2, 3, 4, 5, 6, 7, 8, 9, 10]\n",
      "5 [1, 2, 3, 4, 5, 6, 7, 8, 9, 10]\n",
      "[1, 2, 3, 4, 5, 6, 7, 8, 9, 10]\n"
     ]
    }
   ],
   "source": [
    "datas = [1, 9, 8, 3, 5, 2, 4, 7, 6, 10]\n",
    "print the_better_bubble_sort(datas)"
   ]
  },
  {
   "cell_type": "markdown",
   "metadata": {},
   "source": [
    "### Insertion sort\n",
    "- O(n2), Insertion sorting algorithm which moves elements one at a time into the correct position.\n",
    "- O(nk) when each element in the input is no more than k places away from its sorted position\n",
    "- Although insertion sort is an O(n2) algorithm, its simplicity, low overhead, good locality of reference and efficiency make it a good choice in two cases: \n",
    "(i) small n, \n",
    "(ii) as the final finishing-off algorithm for O(n logn) algorithms such as mergesort and quicksort.\n",
    "\n"
   ]
  },
  {
   "cell_type": "code",
   "execution_count": 5,
   "metadata": {
    "collapsed": true
   },
   "outputs": [],
   "source": [
    "def insertion_sort( datas ):\n",
    "    for i in xrange(1, len(datas)):\n",
    "        for j in xrange(i, 0, -1) :\n",
    "            if (datas[j] < datas[j-1]) :\n",
    "                datas[j-1], datas[j] = datas[j], datas[j-1]\n",
    "        print i, datas\n",
    "    return datas"
   ]
  },
  {
   "cell_type": "code",
   "execution_count": 6,
   "metadata": {
    "collapsed": false
   },
   "outputs": [
    {
     "name": "stdout",
     "output_type": "stream",
     "text": [
      "1 [1, 9, 8, 3, 5, 2, 4, 7, 6, 10]\n",
      "2 [1, 8, 9, 3, 5, 2, 4, 7, 6, 10]\n",
      "3 [1, 3, 8, 9, 5, 2, 4, 7, 6, 10]\n",
      "4 [1, 3, 5, 8, 9, 2, 4, 7, 6, 10]\n",
      "5 [1, 2, 3, 5, 8, 9, 4, 7, 6, 10]\n",
      "6 [1, 2, 3, 4, 5, 8, 9, 7, 6, 10]\n",
      "7 [1, 2, 3, 4, 5, 7, 8, 9, 6, 10]\n",
      "8 [1, 2, 3, 4, 5, 6, 7, 8, 9, 10]\n",
      "9 [1, 2, 3, 4, 5, 6, 7, 8, 9, 10]\n",
      "[1, 2, 3, 4, 5, 6, 7, 8, 9, 10]\n"
     ]
    }
   ],
   "source": [
    "datas = [1, 9, 8, 3, 5, 2, 4, 7, 6, 10]\n",
    "print insertion_sort(datas)"
   ]
  },
  {
   "cell_type": "markdown",
   "metadata": {},
   "source": [
    "### Selection sort\n",
    "- O(n2), making it inefficient on large arrays."
   ]
  },
  {
   "cell_type": "code",
   "execution_count": 7,
   "metadata": {
    "collapsed": false
   },
   "outputs": [],
   "source": [
    "def selection_sort (datas) :\n",
    "    for i in range(len(datas)) :\n",
    "        m = datas[i]\n",
    "        m_idx = i\n",
    "        for j in range(i+1, len(datas)) :\n",
    "            if datas[j] < m :\n",
    "                m = datas[j]\n",
    "                m_idx = j\n",
    "        datas[i], datas[m_idx] = datas[m_idx], datas[i]\n",
    "        print i+1, datas\n",
    "    return datas"
   ]
  },
  {
   "cell_type": "code",
   "execution_count": 8,
   "metadata": {
    "collapsed": false
   },
   "outputs": [
    {
     "name": "stdout",
     "output_type": "stream",
     "text": [
      "1 [1, 9, 8, 3, 5, 2, 4, 7, 6, 10]\n",
      "2 [1, 2, 8, 3, 5, 9, 4, 7, 6, 10]\n",
      "3 [1, 2, 3, 8, 5, 9, 4, 7, 6, 10]\n",
      "4 [1, 2, 3, 4, 5, 9, 8, 7, 6, 10]\n",
      "5 [1, 2, 3, 4, 5, 9, 8, 7, 6, 10]\n",
      "6 [1, 2, 3, 4, 5, 6, 8, 7, 9, 10]\n",
      "7 [1, 2, 3, 4, 5, 6, 7, 8, 9, 10]\n",
      "8 [1, 2, 3, 4, 5, 6, 7, 8, 9, 10]\n",
      "9 [1, 2, 3, 4, 5, 6, 7, 8, 9, 10]\n",
      "10 [1, 2, 3, 4, 5, 6, 7, 8, 9, 10]\n",
      "[1, 2, 3, 4, 5, 6, 7, 8, 9, 10]\n"
     ]
    }
   ],
   "source": [
    "datas = [1, 9, 8, 3, 5, 2, 4, 7, 6, 10]\n",
    "print selection_sort(datas)"
   ]
  },
  {
   "cell_type": "markdown",
   "metadata": {},
   "source": [
    "### Quick sort\n",
    "\n",
    "* O(n log n) with the best pivots, to O(n2) with the worst pivots, where n is the number of elements in the array.\n",
    "* quicksort is often faster than mergesort for small arrays , and on arrays of a few distinct values, repeated many times.\"\n",
    "* Quicksort is a conquer-then-divide algorithm but, Merge sort is a divide-then-conquer algorithm. \n",
    "- 1. Choose any element of the array to be the pivot.\n",
    " 2. Divide all other elements (except the pivot) into two partitions.\n",
    " 3. All elements less than the pivot must be in the first partition.\n",
    " 4. All elements greater than the pivot must be in the second partition.\n",
    " 5. Use recursion to sort both partitions.\n",
    " 6. Join the first sorted partition, the pivot, and the second sorted partition.\n",
    "* inefficiency case : \n",
    "    - 오름차순 정렬을 하고자 하는데, 입력 배열이 내림차순으로 정렬되어있는 경우. (혹은 그 반대의 경우)\n",
    "    - 배열 내 중복 값이 많은 경우.\n",
    "* 해결책\n",
    "    - Ideal Pivot Selection Algorithm\n",
    "        - Pivot은 가장 중간에 가까운 값이 선정될 수록 효율적.\n",
    "        - random pick : 모든 정렬범위의 개체중 랜덤하게 1개를 추출\n",
    "        - start, middle, end compare : 시작, 중간, 끝 개체중 중간 값을 pivot으로 사용\n",
    "    - Block Partitioning\n",
    "        - 3 way partitioning : 선택된 pivot과 같은 값들은 다음 partition에 포함하지 않는 방법\n"
   ]
  },
  {
   "cell_type": "code",
   "execution_count": 1,
   "metadata": {
    "collapsed": true
   },
   "outputs": [],
   "source": [
    "#median of three \n",
    "def medianOfTree(arrays) :\n",
    "    first,last = 0,len(arrays)-1\n",
    "    mid = (first+last)/2\n",
    "    \n",
    "    if arrays[first] > arrays[mid] :\n",
    "        arrays[first], arrays[mid] = arrays[mid], arrays[first]\n",
    "    if arrays[mid] > arrays[last] :\n",
    "        arrays[last], arrays[mid] = arrays[mid], arrays[last]\n",
    "    print arrays[first], arrays[mid], arrays[last]\n",
    "    return mid"
   ]
  },
  {
   "cell_type": "code",
   "execution_count": 9,
   "metadata": {
    "collapsed": true
   },
   "outputs": [],
   "source": [
    "def quick_sort (datas) :\n",
    "    size = len(datas) \n",
    "    if size <= 1 :\n",
    "        return datas\n",
    "    \n",
    "    pivot = datas[(size-1)/2] \n",
    "    Lefts, Equals, Rights = [], [], []\n",
    "    \n",
    "    for it in datas :\n",
    "        if it < pivot :\n",
    "            Lefts.append(it)\n",
    "        elif it == pivot :\n",
    "            Equals.append(it)\n",
    "        else :\n",
    "            Rights.append(it)\n",
    "    \n",
    "    return quick_sort(Lefts) + Equals + quick_sort(Rights)"
   ]
  },
  {
   "cell_type": "code",
   "execution_count": 10,
   "metadata": {
    "collapsed": false
   },
   "outputs": [
    {
     "name": "stdout",
     "output_type": "stream",
     "text": [
      "[1, 2, 3, 4, 5, 6, 7, 8, 9, 10]\n"
     ]
    }
   ],
   "source": [
    "datas = [1, 9, 8, 3, 5, 2, 4, 7, 6, 10]\n",
    "print quick_sort(datas)"
   ]
  },
  {
   "cell_type": "code",
   "execution_count": 11,
   "metadata": {
    "collapsed": false
   },
   "outputs": [],
   "source": [
    "# A better quicksort algorithm works in place, by swapping elements within the array, to avoid the memory allocation of more arrays.\n",
    "def in_place_quicksort(datas, start, end):\n",
    "    if end - start > 0:\n",
    "        pivot, left, right = datas[(start+end)/2], start, end\n",
    "        while left <= right:\n",
    "            while datas[left] < pivot:\n",
    "                left += 1\n",
    "            while datas[right] > pivot:\n",
    "                right -= 1\n",
    "            if left <= right:\n",
    "                datas[left], datas[right] = datas[right], datas[left]\n",
    "                left += 1\n",
    "                right -= 1\n",
    "        in_place_quicksort(datas, start, right)\n",
    "        in_place_quicksort(datas, left, end)\n",
    "        return datas"
   ]
  },
  {
   "cell_type": "code",
   "execution_count": 12,
   "metadata": {
    "collapsed": false
   },
   "outputs": [
    {
     "name": "stdout",
     "output_type": "stream",
     "text": [
      "[1, 2, 3, 4, 5, 6, 7, 8, 9, 10]\n"
     ]
    }
   ],
   "source": [
    "datas = [1, 9, 8, 3, 5, 2, 4, 7, 6, 10]\n",
    "print in_place_quicksort(datas,0, 9)"
   ]
  },
  {
   "cell_type": "markdown",
   "metadata": {},
   "source": [
    "### merge sort\n",
    "- worst case and average complexity of   O(n*log(n)) \n",
    "- best case complexity of   O(n)   (for pre-sorted input).\n",
    "\n"
   ]
  },
  {
   "cell_type": "code",
   "execution_count": 13,
   "metadata": {
    "collapsed": false
   },
   "outputs": [],
   "source": [
    "def merge_sort(datas) :\n",
    "    if len(datas) <= 1 :\n",
    "        return datas\n",
    "    \n",
    "    m = len(datas)/2\n",
    "    \n",
    "    Lefts = merge_sort(datas[:m])\n",
    "    Rights = merge_sort(datas[m:])\n",
    "    \n",
    "    return merge(Lefts, Rights)\n",
    "\n",
    "def merge(LEFTS, RIGHTS) :\n",
    "    result = []\n",
    "    L_idx, R_idx = 0,0\n",
    "\n",
    "    while L_idx<len(LEFTS) and R_idx<len(RIGHTS) :\n",
    "        if LEFTS[L_idx] < RIGHTS[R_idx] :\n",
    "            result.append(LEFTS[L_idx])\n",
    "            L_idx += 1\n",
    "        else :\n",
    "            result.append(RIGHTS[R_idx])\n",
    "            R_idx += 1\n",
    "    \n",
    "    result+= LEFTS[L_idx:]+RIGHTS[R_idx:]\n",
    "    return result\n"
   ]
  },
  {
   "cell_type": "code",
   "execution_count": 14,
   "metadata": {
    "collapsed": false
   },
   "outputs": [
    {
     "name": "stdout",
     "output_type": "stream",
     "text": [
      "[1, 2, 3, 4, 5, 6, 7, 8, 9, 10]\n"
     ]
    }
   ],
   "source": [
    "datas = [1, 9, 8, 3, 5, 2, 4, 7, 6, 10]\n",
    "print merge_sort(datas)"
   ]
  }
 ],
 "metadata": {
  "anaconda-cloud": {},
  "kernelspec": {
   "display_name": "Python [Root]",
   "language": "python",
   "name": "Python [Root]"
  },
  "language_info": {
   "codemirror_mode": {
    "name": "ipython",
    "version": 2
   },
   "file_extension": ".py",
   "mimetype": "text/x-python",
   "name": "python",
   "nbconvert_exporter": "python",
   "pygments_lexer": "ipython2",
   "version": "2.7.12"
  }
 },
 "nbformat": 4,
 "nbformat_minor": 0
}
