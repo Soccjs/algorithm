{
 "cells": [
  {
   "cell_type": "markdown",
   "metadata": {},
   "source": [
    "https://www.acmicpc.net/problem/1018"
   ]
  },
  {
   "cell_type": "markdown",
   "metadata": {},
   "source": [
    "## 문제\n",
    "지민이는 자신의 저택에서 M\\*N개의 단위 정사각형으로 나누어져 있는 M\\*N 크기의 보드를 찾았다. 어떤 정사각형은 검은색으로 칠해져 있고, 나머지는 흰색으로 칠해져 있다. 지민이는 이 보드를 잘라서 8\\*8 크기의 체스판으로 만들려고 한다.\n",
    "\n",
    "체스판은 검은색과 흰색이 번갈아서 칠해져 있어야 한다. 구체적으로, 각 칸이 검은색과 흰색 중 하나로 색칠되어 있고, 변을 공유하는 두 개의 사각형은 다른 색으로 칠해져 있어야 한다. 따라서 이 정의를 따르면 체스판을 색칠하는 경우는 두 가지뿐이다. 하나는 맨 왼쪽 위 칸이 흰색인 경우, 하나는 검은색인 경우이다.\n",
    "\n",
    "보드가 체스판처럼 칠해져 있다는 보장이 없어서, 지민이는 8\\*8 크기의 체스판으로 잘라낸 후에 몇 개의 정사각형을 다시 칠해야겠다고 생각했다. 당연히 8\\*8 크기는 아무데서나 골라도 된다. 지민이가 다시 칠해야 하는 정사각형의 최소 개수를 구하는 프로그램을 작성하시오.\n",
    "\n",
    "### 입력\n",
    "첫째 줄에 N과 M이 주어진다. N과 M은 8보다 크거나 같고, 50보다 작거나 같은 자연수이다. 둘째 줄부터 N개의 줄에는 보드의 각 행의 상태가 주어진다. B는 검은색이며, W는 흰색이다.\n",
    "\n",
    "### 출력\n",
    "첫째 줄에 지민이가 다시 칠해야 하는 정사각형 개수의 최솟값을 출력한다."
   ]
  },
  {
   "cell_type": "markdown",
   "metadata": {},
   "source": [
    "예제 입력 1 <br> \n",
    "8 8 <br>\n",
    "WBWBWBWB <br>\n",
    "BWBWBWBW <br>\n",
    "WBWBWBWB <br>\n",
    "BWBBBWBW <br>\n",
    "WBWBWBWB <br>\n",
    "BWBWBWBW <br>\n",
    "WBWBWBWB <br>\n",
    "BWBWBWBW <br>\n",
    "\n",
    "예제 출력 1 <br>\n",
    "1"
   ]
  },
  {
   "cell_type": "markdown",
   "metadata": {},
   "source": [
    "예제 입력 2 <br> \n",
    "10 13 <br>\n",
    "BBBBBBBBWBWBW <br>\n",
    "BBBBBBBBBWBWB <br>\n",
    "BBBBBBBBWBWBW <br>\n",
    "BBBBBBBBBWBWB <br>\n",
    "BBBBBBBBWBWBW <br>\n",
    "BBBBBBBBBWBWB <br>\n",
    "BBBBBBBBWBWBW <br>\n",
    "BBBBBBBBBWBWB <br>\n",
    "WWWWWWWWWWBWB <br>\n",
    "WWWWWWWWWWBWB <br>\n",
    "\n",
    "예제 출력 2 <br>\n",
    "12 <br>"
   ]
  },
  {
   "cell_type": "code",
   "execution_count": 1,
   "metadata": {},
   "outputs": [
    {
     "name": "stdout",
     "output_type": "stream",
     "text": [
      "8 8\n",
      "WBWBWBWB\n",
      "BWBWBWBW\n",
      "WBWBWBWB\n",
      "BWBBBWBW\n",
      "WBWBWBWB\n",
      "BWBWBWBW\n",
      "WBWBWBWB\n",
      "BWBWBWBW\n"
     ]
    }
   ],
   "source": [
    "# input\n",
    "w_first_store = [\"WBWBWBWB\", \"BWBWBWBW\"] * 4\n",
    "b_first_store = [\"BWBWBWBW\", \"WBWBWBWB\"] * 4\n",
    "N, M = map(int, input().split(' '))\n",
    "store = [input() for i in range(N)]"
   ]
  },
  {
   "cell_type": "code",
   "execution_count": 3,
   "metadata": {},
   "outputs": [],
   "source": [
    "def process(N, M):\n",
    "    min_count = 3000\n",
    "    for x in range(0, M-8+1):\n",
    "        for y in range(0, N-8+1):\n",
    "            w_count, b_count = 0, 0\n",
    "            count = 0\n",
    "            for i in range(8):      \n",
    "                temp_line = store[y+i][x:x+8]\n",
    "                for j in range(8):\n",
    "                    if (temp_line[j] != w_first_store[i][j]):\n",
    "                        w_count = w_count + 1\n",
    "                    if (temp_line[j] != b_first_store[i][j]):\n",
    "                        b_count = b_count + 1\n",
    "            min_count = min(w_count, b_count, min_count)\n",
    "    print(min_count)\n"
   ]
  },
  {
   "cell_type": "code",
   "execution_count": 4,
   "metadata": {},
   "outputs": [
    {
     "name": "stdout",
     "output_type": "stream",
     "text": [
      "1\n"
     ]
    }
   ],
   "source": [
    "process(N,M)\n"
   ]
  },
  {
   "cell_type": "code",
   "execution_count": 5,
   "metadata": {},
   "outputs": [
    {
     "name": "stdout",
     "output_type": "stream",
     "text": [
      "1\n"
     ]
    }
   ],
   "source": [
    "# sample 1\n",
    "N, M = 8, 8\n",
    "store = ['WBWBWBWB','BWBWBWBW','WBWBWBWB','BWBBBWBW','WBWBWBWB','BWBWBWBW','WBWBWBWB','BWBWBWBW']\n",
    "process(N,M)"
   ]
  },
  {
   "cell_type": "code",
   "execution_count": 6,
   "metadata": {},
   "outputs": [
    {
     "name": "stdout",
     "output_type": "stream",
     "text": [
      "12\n"
     ]
    }
   ],
   "source": [
    "# sample 2\n",
    "N, M = 10, 13\n",
    "store = ['BBBBBBBBWBWBW','BBBBBBBBBWBWB','BBBBBBBBWBWBW','BBBBBBBBBWBWB','BBBBBBBBWBWBW','BBBBBBBBBWBWB','BBBBBBBBWBWBW','BBBBBBBBBWBWB','WWWWWWWWWWBWB','WWWWWWWWWWBWB']\n",
    "process(N,M)"
   ]
  },
  {
   "cell_type": "code",
   "execution_count": null,
   "metadata": {},
   "outputs": [],
   "source": []
  }
 ],
 "metadata": {
  "kernelspec": {
   "display_name": "Python 3",
   "language": "python",
   "name": "python3"
  },
  "language_info": {
   "codemirror_mode": {
    "name": "ipython",
    "version": 3
   },
   "file_extension": ".py",
   "mimetype": "text/x-python",
   "name": "python",
   "nbconvert_exporter": "python",
   "pygments_lexer": "ipython3",
   "version": "3.7.3"
  }
 },
 "nbformat": 4,
 "nbformat_minor": 2
}
