{
 "cells": [
  {
   "cell_type": "markdown",
   "metadata": {},
   "source": [
    "## 문제\n",
    "준규가 가지고 있는 동전은 총 N종류이고, 각각의 동전을 매우 많이 가지고 있다.\n",
    "\n",
    "동전을 적절히 사용해서 그 가치의 합을 K로 만들려고 한다. 이때 필요한 동전 개수의 최솟값을 구하는 프로그램을 작성하시오.\n",
    "\n",
    "### 입력\n",
    "첫째 줄에 N과 K가 주어진다. (1 ≤ N ≤ 10, 1 ≤ K ≤ 100,000,000)\n",
    "\n",
    "둘째 줄부터 N개의 줄에 동전의 가치 Ai가 오름차순으로 주어진다. (1 ≤ Ai ≤ 1,000,000, A1 = 1, i ≥ 2인 경우에 Ai는 Ai-1의 배수)\n",
    "\n",
    "### 출력\n",
    "첫째 줄에 K원을 만드는데 필요한 동전 개수의 최솟값을 출력한다.\n",
    "\n",
    "예제 입력 1 <br>\n",
    "10 4200 <br>\n",
    "1 <br>\n",
    "5 <br>\n",
    "10 <br>\n",
    "50 <br>\n",
    "100 <br>\n",
    "500 <br>\n",
    "1000 <br>\n",
    "5000 <br>\n",
    "10000 <br>\n",
    "50000 <br>\n",
    "예제 출력 1  <br>\n",
    "6 <br>\n",
    "예제 입력 2  <br>\n",
    "10 4790 <br>\n",
    "1 <br>\n",
    "5 <br>\n",
    "10 <br>\n",
    "50 <br>\n",
    "100 <br>\n",
    "500 <br>\n",
    "1000 <br>\n",
    "5000 <br>\n",
    "10000 <br>\n",
    "50000 <br>\n",
    "예제 출력 2  <br>\n",
    "12 <br>"
   ]
  },
  {
   "cell_type": "markdown",
   "metadata": {},
   "source": [
    "#### 설명\n",
    "각 자릿수로 나누어지면 가장 최소의 갯수를 이용할 수 있다. \n",
    "따라서, 큰 자릿수 부터 나눠서 몫을 확인할 게 아니라. 나누어지는지 부터 확인할 것."
   ]
  },
  {
   "cell_type": "code",
   "execution_count": null,
   "metadata": {},
   "outputs": [],
   "source": [
    "import sys\n",
    "N, K = map(int, input().split())\n",
    "datas = [int(input()) for i in range(N)]\n",
    "datas.reverse()\n",
    "count = 0\n",
    "for val in datas:\n",
    "    count = count + int(K/val)\n",
    "    K = K % val\n",
    "print(count)"
   ]
  },
  {
   "cell_type": "code",
   "execution_count": 1,
   "metadata": {},
   "outputs": [
    {
     "name": "stdout",
     "output_type": "stream",
     "text": [
      "6\n"
     ]
    }
   ],
   "source": [
    "# sample1 \n",
    "N, K = 10, 4200\n",
    "datas = [1,5,10,50,100,500,1000,5000,10000,50000]\n",
    "datas.reverse()\n",
    "count = 0\n",
    "for val in datas:\n",
    "    count = count + int(K/val)\n",
    "    K = K % val\n",
    "print(count)"
   ]
  },
  {
   "cell_type": "code",
   "execution_count": 2,
   "metadata": {},
   "outputs": [
    {
     "name": "stdout",
     "output_type": "stream",
     "text": [
      "12\n"
     ]
    }
   ],
   "source": [
    "# sample2\n",
    "N, K = 10, 4790\n",
    "datas = [1,5,10,50,100,500,1000,5000,10000,50000]\n",
    "datas.reverse()\n",
    "count = 0\n",
    "for val in datas:\n",
    "    count = count + int(K/val)\n",
    "    K = K % val\n",
    "print(count)"
   ]
  }
 ],
 "metadata": {
  "kernelspec": {
   "display_name": "Python 3",
   "language": "python",
   "name": "python3"
  },
  "language_info": {
   "codemirror_mode": {
    "name": "ipython",
    "version": 3
   },
   "file_extension": ".py",
   "mimetype": "text/x-python",
   "name": "python",
   "nbconvert_exporter": "python",
   "pygments_lexer": "ipython3",
   "version": "3.7.3"
  }
 },
 "nbformat": 4,
 "nbformat_minor": 2
}
