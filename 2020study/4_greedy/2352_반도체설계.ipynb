{
 "cells": [
  {
   "cell_type": "markdown",
   "metadata": {},
   "source": [
    "https://www.acmicpc.net/problem/2352\n",
    "\n",
    "\n",
    "## 문제\n",
    "도체를 설계할 때 n개의 포트를 다른 n개의 포트와 연결해야 할 때가 있다.\n",
    "\n",
    "\n",
    "\n",
    "예를 들어 왼쪽 그림이 n개의 포트와 다른 n개의 포트를 어떻게 연결해야 하는지를 나타낸다. 하지만 이와 같이 연결을 할 경우에는 연결선이 서로 꼬이기 때문에 이와 같이 연결할 수 없다. n개의 포트가 다른 n개의 포트와 어떻게 연결되어야 하는지가 주어졌을 때, 연결선이 서로 꼬이지(겹치지, 교차하지) 않도록 하면서 최대 몇 개까지 연결할 수 있는지를 알아내는 프로그램을 작성하시오\n",
    "\n",
    "#### 입력\n",
    "첫째 줄에 정수 n(1 ≤ n ≤ 40,000)이 주어진다. 다음 줄에는 차례로 1번 포트와 연결되어야 하는 포트 번호, 2번 포트와 연결되어야 하는 포트 번호, …, n번 포트와 연결되어야 하는 포트 번호가 주어진다. 이 수들은 1 이상 n 이하이며 서로 같은 수는 없다고 가정하자.\n",
    "\n",
    "#### 출력\n",
    "첫째 줄에 최대 연결 개수를 출력한다.\n",
    "\n",
    "예제 입력 1 <br>\n",
    "6<br>\n",
    "4 2 6 3 1 5<br>\n",
    "예제 출력 1 <br>\n",
    "3<br>"
   ]
  },
  {
   "cell_type": "code",
   "execution_count": null,
   "metadata": {},
   "outputs": [],
   "source": [
    "import sys\n",
    "N = int(sys.stdin.readline())\n",
    "datas = list(map(int,sys.stdin.readline().split(' ')))\n",
    "subLists =  [0 for i in range(N)]\n",
    "for val in datas:\n",
    "    if (subLists[val-1] == 0) :\n",
    "        subLists[val-1] = 1 \n",
    "    tmp_max = subLists[val-1]\n",
    "    for i in range(val): \n",
    "        if (subLists[i] > 0 and val-1 > i):\n",
    "            if (subLists[i] + 1 > tmp_max):\n",
    "                tmp_max = tmp_max + 1\n",
    "    subLists[val-1] = tmp_max \n",
    "print(max(subLists))\n"
   ]
  },
  {
   "cell_type": "code",
   "execution_count": 1,
   "metadata": {},
   "outputs": [
    {
     "name": "stdout",
     "output_type": "stream",
     "text": [
      "3\n"
     ]
    }
   ],
   "source": [
    "N = 6\n",
    "datas = list(map(int,\"4 2 6 3 5 1\".split(' ')))\n",
    "subLists =  [0 for i in range(N)]\n",
    "\n",
    "for val in datas:\n",
    "    if (subLists[val-1] == 0) :\n",
    "        subLists[val-1] = 1 \n",
    "    tmp_max = subLists[val-1]\n",
    "    for i in range(val): \n",
    "        if (subLists[i] > 0 and val-1 > i):\n",
    "            if (subLists[i] + 1 > tmp_max):\n",
    "                tmp_max = tmp_max + 1\n",
    "    subLists[val-1] = tmp_max \n",
    "print(max(subLists))"
   ]
  }
 ],
 "metadata": {
  "kernelspec": {
   "display_name": "Python 3",
   "language": "python",
   "name": "python3"
  },
  "language_info": {
   "codemirror_mode": {
    "name": "ipython",
    "version": 3
   },
   "file_extension": ".py",
   "mimetype": "text/x-python",
   "name": "python",
   "nbconvert_exporter": "python",
   "pygments_lexer": "ipython3",
   "version": "3.7.3"
  }
 },
 "nbformat": 4,
 "nbformat_minor": 2
}
