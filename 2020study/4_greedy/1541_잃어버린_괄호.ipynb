{
 "cells": [
  {
   "cell_type": "markdown",
   "metadata": {},
   "source": [
    "https://www.acmicpc.net/problem/1541\n",
    "\n",
    "\n",
    "### 문제\n",
    "세준이는 양수와 +, -, 그리고 괄호를 가지고 길이가 최대 50인 식을 만들었다. 그리고 나서 세준이는 괄호를 모두 지웠다.\n",
    "\n",
    "그리고 나서 세준이는 괄호를 적절히 쳐서 이 식의 값을 최소로 만들려고 한다.\n",
    "\n",
    "괄호를 적절히 쳐서 이 식의 값을 최소로 만드는 프로그램을 작성하시오.\n",
    "\n",
    "#### 입력\n",
    "첫째 줄에 식이 주어진다. 식은 ‘0’~‘9’, ‘+’, 그리고 ‘-’만으로 이루어져 있고, 가장 처음과 마지막 문자는 숫자이다. 그리고 연속해서 두 개 이상의 연산자가 나타나지 않고, 5자리보다 많이 연속되는 숫자는 없다. 수는 0으로 시작할 수 있다.\n",
    "\n",
    "#### 출력\n",
    "첫째 줄에 정답을 출력한다.\n",
    "\n",
    "예제 입력 1 <br>\n",
    "55-50+40<br>\n",
    "예제 출력 1 <br>\n",
    "-35<br>"
   ]
  },
  {
   "cell_type": "code",
   "execution_count": null,
   "metadata": {},
   "outputs": [],
   "source": [
    "import sys\n",
    "inputs = sys.stdin.readline()\n",
    "mIndex = inputs.find('-')\n",
    "if (mIndex > 0 ) : \n",
    "    left = inputs[:mIndex]\n",
    "    right = inputs[mIndex+1:].replace('+', '-')\n",
    "    print(sum(map(int, left.split('+'))) + sum(map(lambda a: -int(a), right.split('-'))))\n",
    "else:\n",
    "    pIndex = inputs.find('+')\n",
    "    if (pIndex):\n",
    "        print(sum(map(int, inputs.split('+'))))"
   ]
  },
  {
   "cell_type": "code",
   "execution_count": 1,
   "metadata": {},
   "outputs": [
    {
     "name": "stdout",
     "output_type": "stream",
     "text": [
      "555\n"
     ]
    }
   ],
   "source": [
    "# inputs = \"55-50+40\"\n",
    "# inputs = \"55-50-40\"\n",
    "# inputs = \"0550+40+ 1\"\n",
    "# inputs = \"051\"\n",
    "# inputs = \"0-1\"\n",
    "# inputs = \"-1\"\n",
    "inputs = \"0555+5-2-3\"\n",
    "\n",
    "mIndex = inputs.find('-')\n",
    "if (mIndex > 0 ) : \n",
    "    left = inputs[:mIndex]\n",
    "    right = inputs[mIndex+1:].replace('+', '-')\n",
    "    print(sum(map(int, left.split('+'))) + sum(map(lambda a: -int(a), right.split('-'))))\n",
    "else:\n",
    "    pIndex = inputs.find('+')\n",
    "    if (pIndex):\n",
    "        print(sum(map(int, inputs.split('+'))))"
   ]
  }
 ],
 "metadata": {
  "kernelspec": {
   "display_name": "Python 3",
   "language": "python",
   "name": "python3"
  },
  "language_info": {
   "codemirror_mode": {
    "name": "ipython",
    "version": 3
   },
   "file_extension": ".py",
   "mimetype": "text/x-python",
   "name": "python",
   "nbconvert_exporter": "python",
   "pygments_lexer": "ipython3",
   "version": "3.7.3"
  }
 },
 "nbformat": 4,
 "nbformat_minor": 2
}
