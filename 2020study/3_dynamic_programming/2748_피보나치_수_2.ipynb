{
 "cells": [
  {
   "cell_type": "markdown",
   "metadata": {},
   "source": [
    "https://www.acmicpc.net/problem/2748\n",
    "\n",
    "## 문제\n",
    "피보나치 수는 0과 1로 시작한다. 0번째 피보나치 수는 0이고, 1번째 피보나치 수는 1이다. 그 다음 2번째 부터는 바로 앞 두 피보나치 수의 합이 된다.\n",
    "\n",
    "이를 식으로 써보면 Fn = Fn-1 + Fn-2 (n>=2)가 된다.\n",
    "\n",
    "n=17일때 까지 피보나치 수를 써보면 다음과 같다.\n",
    "\n",
    "0, 1, 1, 2, 3, 5, 8, 13, 21, 34, 55, 89, 144, 233, 377, 610, 987, 1597\n",
    "\n",
    "n이 주어졌을 때, n번째 피보나치 수를 구하는 프로그램을 작성하시오.\n",
    "\n",
    "### 입력\n",
    "첫째 줄에 n이 주어진다. n은 90보다 작거나 같은 자연수이다.\n",
    "\n",
    "### 출력\n",
    "첫째 줄에 n번째 피보나치 수를 출력한다.\n",
    "\n",
    "예제 입력 1 <br>\n",
    "10 <br>\n",
    "예제 출력 1 <br>\n",
    "55 <br>"
   ]
  },
  {
   "cell_type": "code",
   "execution_count": null,
   "metadata": {},
   "outputs": [],
   "source": [
    "import sys\n",
    "N = int(sys.stdin.readline())\n"
   ]
  },
  {
   "cell_type": "code",
   "execution_count": 1,
   "metadata": {},
   "outputs": [
    {
     "name": "stdout",
     "output_type": "stream",
     "text": [
      "55\n"
     ]
    }
   ],
   "source": [
    "N = 10\n",
    "n_0, n_1 = 0, 1\n",
    "n_2 = 1\n",
    "for i in range(2, N+1):\n",
    "    n_2 = n_1 + n_0\n",
    "    n_1, n_0 = n_2, n_1\n",
    "    \n",
    "print(n_2)"
   ]
  }
 ],
 "metadata": {
  "kernelspec": {
   "display_name": "Python 3",
   "language": "python",
   "name": "python3"
  },
  "language_info": {
   "codemirror_mode": {
    "name": "ipython",
    "version": 3
   },
   "file_extension": ".py",
   "mimetype": "text/x-python",
   "name": "python",
   "nbconvert_exporter": "python",
   "pygments_lexer": "ipython3",
   "version": "3.7.3"
  }
 },
 "nbformat": 4,
 "nbformat_minor": 2
}
