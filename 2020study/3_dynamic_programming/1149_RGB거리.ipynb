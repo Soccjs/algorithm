{
 "cells": [
  {
   "cell_type": "markdown",
   "metadata": {},
   "source": [
    "## 문제\n",
    "RGB거리에 사는 사람들은 집을 빨강, 초록, 파랑중에 하나로 칠하려고 한다. 또한, 그들은 모든 이웃은 같은 색으로 칠할 수 없다는 규칙도 정했다. 집 i의 이웃은 집 i-1과 집 i+1이고, 첫 집과 마지막 집은 이웃이 아니다.\n",
    "\n",
    "각 집을 빨강으로 칠할 때 드는 비용, 초록으로 칠할 때 드는 비용, 파랑으로 드는 비용이 주어질 때, 모든 집을 칠하는 비용의 최솟값을 구하는 프로그램을 작성하시오.\n",
    "\n",
    "### 입력\n",
    "첫째 줄에 집의 수 N이 주어진다. N은 1,000보다 작거나 같다. 둘째 줄부터 N개의 줄에 각 집을 빨강으로, 초록으로, 파랑으로 칠하는 비용이 주어진다. 비용은 1,000보다 작거나 같은 자연수이다.\n",
    "\n",
    "### 출력\n",
    "첫째 줄에 모든 집을 칠하는 비용의 최솟값을 출력한다.\n",
    "\n",
    "예제 입력 1 <br>\n",
    "3 <br>\n",
    "26 40 83 <br>\n",
    "49 60 57 <br>\n",
    "13 89 99 <br>\n",
    "예제 출력 1  <br>\n",
    "96"
   ]
  },
  {
   "cell_type": "code",
   "execution_count": null,
   "metadata": {},
   "outputs": [],
   "source": [
    "import sys\n",
    "N = int(sys.stdin.readline())\n",
    "dataset = [list(map(int, sys.stdin.readline().split(' '))) for i in range(N)]"
   ]
  },
  {
   "cell_type": "code",
   "execution_count": 1,
   "metadata": {},
   "outputs": [],
   "source": [
    "N = 3\n",
    "dataset = [[26, 40, 83], [49, 60, 57], [13, 89, 99]]"
   ]
  },
  {
   "cell_type": "code",
   "execution_count": 2,
   "metadata": {},
   "outputs": [
    {
     "name": "stdout",
     "output_type": "stream",
     "text": [
      "96\n"
     ]
    }
   ],
   "source": [
    "# 시작 순서\n",
    "result = [[0, 0, 0]] * N\n",
    "result[0] = dataset[0]\n",
    "for i in range(1, N):\n",
    "    prev_R, prev_G, prev_B = result[i-1][0], result[i-1][1], result[i-1][2]\n",
    "    result[i][0] = dataset[i][0] + min(prev_G, prev_B)\n",
    "    result[i][1] = dataset[i][1] + min(prev_R, prev_B)\n",
    "    result[i][2] = dataset[i][2] + min(prev_R, prev_G)\n",
    "print(min(result[-1]))"
   ]
  }
 ],
 "metadata": {
  "kernelspec": {
   "display_name": "Python 3",
   "language": "python",
   "name": "python3"
  },
  "language_info": {
   "codemirror_mode": {
    "name": "ipython",
    "version": 3
   },
   "file_extension": ".py",
   "mimetype": "text/x-python",
   "name": "python",
   "nbconvert_exporter": "python",
   "pygments_lexer": "ipython3",
   "version": "3.7.3"
  }
 },
 "nbformat": 4,
 "nbformat_minor": 2
}
