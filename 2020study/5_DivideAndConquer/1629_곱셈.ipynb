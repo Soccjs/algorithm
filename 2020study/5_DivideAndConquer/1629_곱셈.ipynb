{
 "cells": [
  {
   "cell_type": "markdown",
   "metadata": {},
   "source": [
    "https://www.acmicpc.net/problem/1629\n",
    "\n",
    "## 문제\n",
    "자연수 A를 B번 곱한 수를 알고 싶다. 단 구하려는 수가 매우 커질 수 있으므로 이를 C로 나눈 나머지를 구하는 프로그램을 작성하시오.\n",
    "\n",
    "### 입력\n",
    "첫째 줄에 A, B, C가 빈 칸을 사이에 두고 순서대로 주어진다. A, B, C는 모두 2,147,483,647 이하의 자연수이다.\n",
    "\n",
    "### 출력\n",
    "첫째 줄에 A를 B번 곱한 수를 C로 나눈 나머지를 출력한다.\n",
    "\n",
    "예제 입력 1 <br>\n",
    "10 11 12 <br>\n",
    "예제 출력 1 <br>\n",
    "4 <br>"
   ]
  },
  {
   "cell_type": "code",
   "execution_count": 1,
   "metadata": {},
   "outputs": [],
   "source": [
    "import sys\n",
    "# A, B, C = map(int, sys.stdin.readline().split())"
   ]
  },
  {
   "cell_type": "code",
   "execution_count": 2,
   "metadata": {},
   "outputs": [],
   "source": [
    "A, B, C = 10 11 12\n",
    "A, B, C = map(int, \"2147483647 2147483647 2147483647\".split())"
   ]
  },
  {
   "cell_type": "code",
   "execution_count": 3,
   "metadata": {},
   "outputs": [
    {
     "name": "stdout",
     "output_type": "stream",
     "text": [
      "0\n"
     ]
    }
   ],
   "source": [
    "memos = {1:A%C}\n",
    "def mul(A, B): \n",
    "    return ((A%C) * (B%C))%C\n",
    "def process(k): \n",
    "    if (k in memos.keys()):\n",
    "        return memos[k]\n",
    "    q = int(k / 2)\n",
    "    data = mul(process(q), process(k-q))\n",
    "    memos[k] = data\n",
    "    return data\n",
    "print(process(B))"
   ]
  }
 ],
 "metadata": {
  "kernelspec": {
   "display_name": "Python 3",
   "language": "python",
   "name": "python3"
  },
  "language_info": {
   "codemirror_mode": {
    "name": "ipython",
    "version": 3
   },
   "file_extension": ".py",
   "mimetype": "text/x-python",
   "name": "python",
   "nbconvert_exporter": "python",
   "pygments_lexer": "ipython3",
   "version": "3.7.3"
  }
 },
 "nbformat": 4,
 "nbformat_minor": 2
}
