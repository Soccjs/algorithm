{
 "cells": [
  {
   "cell_type": "markdown",
   "metadata": {},
   "source": [
    "https://www.acmicpc.net/problem/1992\n",
    "\n",
    "\n",
    "## 문제\n",
    "흑백 영상을 압축하여 표현하는 데이터 구조로 쿼드 트리(Quad Tree)라는 방법이 있다. 흰 점을 나타내는 0과 검은 점을 나타내는 1로만 이루어진 영상(2차원 배열)에서 같은 숫자의 점들이 한 곳에 많이 몰려있으면, 쿼드 트리에서는 이를 압축하여 간단히 표현할 수 있다.\n",
    "\n",
    "주어진 영상이 모두 0으로만 되어 있으면 압축 결과는 \"0\"이 되고, 모두 1로만 되어 있으면 압축 결과는 \"1\"이 된다. 만약 0과 1이 섞여 있으면 전체를 한 번에 나타내지를 못하고, 왼쪽 위, 오른쪽 위, 왼쪽 아래, 오른쪽 아래, 이렇게 4개의 영상으로 나누어 압축하게 되며, 이 4개의 영역을 압축한 결과를 차례대로 괄호 안에 묶어서 표현한다\n",
    "\n",
    "\n",
    "\n",
    "위 그림에서 왼쪽의 영상은 오른쪽의 배열과 같이 숫자로 주어지며, 이 영상을 쿼드 트리 구조를 이용하여 압축하면 \"(0(0011)(0(0111)01)1)\"로 표현된다.  N ×N 크기의 영상이 주어질 때, 이 영상을 압축한 결과를 출력하는 프로그램을 작성하시오.\n",
    "\n",
    "### 입력\n",
    "첫째 줄에는 영상의 크기를 나타내는 숫자 N 이 주어진다. N 은 언제나 2의 제곱수로 주어지며, 1≤N ≤64의 범위를 가진다. 두 번째 줄부터는 길이 N 의 문자열이 N 개 들어온다. 각 문자열은 0 또는 1의 숫자로 이루어져 있으며, 영상의 각 점들을 나타낸다.\n",
    "\n",
    "### 출력\n",
    "영상을 압축한 결과를 출력한다."
   ]
  },
  {
   "cell_type": "code",
   "execution_count": null,
   "metadata": {},
   "outputs": [],
   "source": [
    "# 예제 입력 1 \n",
    "# 8\n",
    "# 11110000\n",
    "# 11110000\n",
    "# 00011100\n",
    "# 00011100\n",
    "# 11110000\n",
    "# 11110000\n",
    "# 11110011\n",
    "# 11110011\n",
    "# 예제 출력 1 \n",
    "# ((110(0101))(0010)1(0001)) "
   ]
  },
  {
   "cell_type": "code",
   "execution_count": null,
   "metadata": {},
   "outputs": [],
   "source": [
    "import sys\n",
    "N = int(sys.stdin.readline())\n",
    "datas = [sys.stdin.readline() for i in range(N)]"
   ]
  },
  {
   "cell_type": "code",
   "execution_count": 1,
   "metadata": {},
   "outputs": [],
   "source": [
    "N = 8\n",
    "datas = [\n",
    "    '11110000',\n",
    "    '11110000',\n",
    "    '00011100',\n",
    "    '00011100',\n",
    "    '11110000',\n",
    "    '11110000',\n",
    "    '11110011',\n",
    "    '11110011'\n",
    "]"
   ]
  },
  {
   "cell_type": "code",
   "execution_count": 2,
   "metadata": {},
   "outputs": [
    {
     "name": "stdout",
     "output_type": "stream",
     "text": [
      "((110(0101))(0010)1(0001))\n"
     ]
    }
   ],
   "source": [
    "answer = \"\"\n",
    "def devideAndConquer(datas, x0, y0, xn, yn, target): \n",
    "    global answer\n",
    "    if (target == 0):\n",
    "        return\n",
    "    zero_check, one_check = 0,0\n",
    "    for i in range(x0, xn):\n",
    "        for j in range(y0, yn):\n",
    "            if (datas[i][j] == '0'):\n",
    "                zero_check = zero_check + 1\n",
    "            else: \n",
    "                one_check = one_check + 1 \n",
    "                \n",
    "    total = pow(target, 2)\n",
    "    if (zero_check == total):\n",
    "        answer = answer + '0'\n",
    "    elif (one_check == total):\n",
    "        answer = answer + '1'\n",
    "    else:\n",
    "        mid_x, mid_y = int((xn + x0)/2), int((yn + y0)/2)\n",
    "        nextTarget = int(target/2)\n",
    "        answer = answer + '(' \n",
    "        devideAndConquer(datas, x0, y0, mid_x, mid_y, nextTarget)\n",
    "        devideAndConquer(datas, x0, mid_y, mid_x , yn, nextTarget)\n",
    "        devideAndConquer(datas, mid_x, y0, xn ,mid_y, nextTarget)\n",
    "        devideAndConquer(datas, mid_x, mid_y, xn , yn, nextTarget) \n",
    "        answer = answer + ')' \n",
    "        \n",
    "devideAndConquer(datas, 0, 0, N, N, N)\n",
    "print(answer)"
   ]
  }
 ],
 "metadata": {
  "kernelspec": {
   "display_name": "Python 3",
   "language": "python",
   "name": "python3"
  },
  "language_info": {
   "codemirror_mode": {
    "name": "ipython",
    "version": 3
   },
   "file_extension": ".py",
   "mimetype": "text/x-python",
   "name": "python",
   "nbconvert_exporter": "python",
   "pygments_lexer": "ipython3",
   "version": "3.7.3"
  }
 },
 "nbformat": 4,
 "nbformat_minor": 2
}
