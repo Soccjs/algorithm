{
 "cells": [
  {
   "cell_type": "markdown",
   "metadata": {},
   "source": [
    "https://www.acmicpc.net/problem/11401\n",
    "    \n",
    "## 문제\n",
    "자연수 N과 정수 K 가 주어졌을 때 이항 계수 를 1,000,000,007로 나눈 나머지를 구하는 프로그램을 작성하시오.\n",
    "\n",
    "### 입력\n",
    "첫째 줄에 N 과 K 가 주어진다. (1 ≤ N  ≤ 4,000,000, 0 ≤ K  ≤ N)\n",
    "\n",
    "### 출력\n",
    " 를 1,000,000,007로 나눈 나머지를 출력한다.\n",
    "\n",
    "예제 입력 1 <br>\n",
    "5 2<br>\n",
    "예제 출력 1 <br>\n",
    "10<br>"
   ]
  },
  {
   "cell_type": "code",
   "execution_count": 1,
   "metadata": {},
   "outputs": [],
   "source": [
    "import sys\n",
    "# N, K = map(int, sys.stdin.readline().split())"
   ]
  },
  {
   "cell_type": "code",
   "execution_count": 2,
   "metadata": {},
   "outputs": [
    {
     "name": "stdout",
     "output_type": "stream",
     "text": [
      "1\n"
     ]
    }
   ],
   "source": [
    "N, K = map(int, \"4 4\".split())\n",
    "R = N - K\n",
    "if (R > K): \n",
    "    R, K = K, R\n",
    "C = 1_000_000_007\n",
    "B = 1_000_000_005\n",
    "def mul(X, Y): \n",
    "    return ((X%C) * (Y%C))%C\n",
    "def process(k): \n",
    "    if (k in memos.keys()):\n",
    "        return memos[k]\n",
    "    q = int(k / 2)\n",
    "    data = mul(process(q), process(k-q))\n",
    "    memos[k] = data\n",
    "    return data\n",
    "\n",
    "def factorial(K):\n",
    "    total = 1\n",
    "    while (K > 0):\n",
    "        total = (total * K) % C\n",
    "        K = K - 1\n",
    "    return total\n",
    "        \n",
    "A = (factorial(R) * factorial(K))%C\n",
    "memos = {1:A}\n",
    "print((factorial(N) * process(B)) % C)\n"
   ]
  },
  {
   "cell_type": "code",
   "execution_count": 1,
   "metadata": {},
   "outputs": [
    {
     "name": "stdout",
     "output_type": "stream",
     "text": [
      "303317497\n"
     ]
    }
   ],
   "source": [
    "# factorial을 미리 구했지만. 메모리와 시간은 더 오래 걸림. ㅠ\n",
    "N, K = map(int, \"4000000 2000000\".split())\n",
    "R = N - K\n",
    "if (R > K): \n",
    "    R, K = K, R\n",
    "C = 1_000_000_007\n",
    "B = 1_000_000_005\n",
    "def runFactorial(N):\n",
    "    global factorials\n",
    "    for i in range(2, N+1):\n",
    "        factorials[i] = (i * factorials[i-1])%C\n",
    "        \n",
    "def mul(X, Y): \n",
    "    return ((X%C) * (Y%C))%C\n",
    "def process(k): \n",
    "    if (k in memos.keys()):\n",
    "        return memos[k]\n",
    "    q = int(k / 2)\n",
    "    data = mul(process(q), process(k-q))\n",
    "    memos[k] = data\n",
    "    return data\n",
    "\n",
    "factorials = [0 for i in range(N+1)]\n",
    "factorials[0], factorials[1] = 1, 1\n",
    "runFactorial(N)\n",
    "\n",
    "A = (factorials[R] * factorials[K])%C\n",
    "memos = {1:A}\n",
    "\n",
    "print((factorials[N] * process(B)) % C)"
   ]
  },
  {
   "cell_type": "code",
   "execution_count": null,
   "metadata": {},
   "outputs": [],
   "source": []
  }
 ],
 "metadata": {
  "kernelspec": {
   "display_name": "Python 3",
   "language": "python",
   "name": "python3"
  },
  "language_info": {
   "codemirror_mode": {
    "name": "ipython",
    "version": 3
   },
   "file_extension": ".py",
   "mimetype": "text/x-python",
   "name": "python",
   "nbconvert_exporter": "python",
   "pygments_lexer": "ipython3",
   "version": "3.7.3"
  }
 },
 "nbformat": 4,
 "nbformat_minor": 2
}
