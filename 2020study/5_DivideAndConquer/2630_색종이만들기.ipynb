{
 "cells": [
  {
   "cell_type": "markdown",
   "metadata": {},
   "source": [
    "https://www.acmicpc.net/problem/2630\n",
    "\n",
    "## 문제\n",
    "아래 <그림 1>과 같이 여러개의 정사각형칸들로 이루어진 정사각형 모양의 종이가 주어져 있고, 각 정사각형들은 하얀색으로 칠해져 있거나 파란색으로 칠해져 있다. 주어진 종이를 일정한 규칙에 따라 잘라서 다양한 크기를 가진 정사각형 모양의 하얀색 또는 파란색 색종이를 만들려고 한다.\n",
    "\n",
    "\n",
    "\n",
    "전체 종이의 크기가 N×N(N=2k, k는 1 이상 7 이하의 자연수) 이라면 종이를 자르는 규칙은 다음과 같다.\n",
    "\n",
    "전체 종이가 모두 같은 색으로 칠해져 있지 않으면 가로와 세로로 중간 부분을 잘라서 <그림 2>의 I, II, III, IV와 같이 똑같은 크기의 네 개의 N/2 × N/2색종이로 나눈다. 나누어진 종이 I, II, III, IV 각각에 대해서도 앞에서와 마찬가지로 모두 같은 색으로 칠해져 있지 않으면 같은 방법으로 똑같은 크기의 네 개의 색종이로 나눈다. 이와 같은 과정을 잘라진 종이가 모두 하얀색 또는 모두 파란색으로 칠해져 있거나, 하나의 정사각형 칸이 되어 더 이상 자를 수 없을 때까지 반복한다.\n",
    "\n",
    "위와 같은 규칙에 따라 잘랐을 때 <그림 3>은 <그림 1>의 종이를 처음 나눈 후의 상태를, <그림 4>는 두 번째 나눈 후의 상태를, <그림 5>는 최종적으로 만들어진 다양한 크기의 9장의 하얀색 색종이와 7장의 파란색 색종이를 보여주고 있다.\n",
    "\n",
    "입력으로 주어진 종이의 한 변의 길이 N과 각 정사각형칸의 색(하얀색 또는 파란색)이 주어질 때 잘라진 하얀색 색종이와 파란색 색종이의 개수를 구하는 프로그램을 작성하시오.\n",
    "\n",
    "### 입력\n",
    "첫째 줄에는 전체 종이의 한 변의 길이 N이 주어져 있다. N은 2, 4, 8, 16, 32, 64, 128 중 하나이다. 색종이의 각 가로줄의 정사각형칸들의 색이 윗줄부터 차례로 둘째 줄부터 마지막 줄까지 주어진다. 하얀색으로 칠해진 칸은 0, 파란색으로 칠해진 칸은 1로 주어지며, 각 숫자 사이에는 빈칸이 하나씩 있다.\n",
    "\n",
    "### 출력\n",
    "첫째 줄에는 잘라진 햐얀색 색종이의 개수를 출력하고, 둘째 줄에는 파란색 색종이의 개수를 출력한다."
   ]
  },
  {
   "cell_type": "code",
   "execution_count": null,
   "metadata": {},
   "outputs": [],
   "source": [
    "# input\n",
    "# 8\n",
    "# 1 1 0 0 0 0 1 1\n",
    "# 1 1 0 0 0 0 1 1\n",
    "# 0 0 0 0 1 1 0 0\n",
    "# 0 0 0 0 1 1 0 0\n",
    "# 1 0 0 0 1 1 1 1\n",
    "# 0 1 0 0 1 1 1 1\n",
    "# 0 0 1 1 1 1 1 1\n",
    "# 0 0 1 1 1 1 1 1\n",
    "\n",
    "# output\n",
    "#9\n",
    "#7"
   ]
  },
  {
   "cell_type": "code",
   "execution_count": null,
   "metadata": {},
   "outputs": [],
   "source": [
    "import sys\n",
    "N = int(sys.stdin.readline())\n",
    "datas = [list(map(int, sys.stdin.readline().split())) for i in range(N)]"
   ]
  },
  {
   "cell_type": "code",
   "execution_count": 1,
   "metadata": {},
   "outputs": [],
   "source": [
    "N = 8\n",
    "datas = [\n",
    "    [1, 1, 0, 0, 0, 0, 1, 1],\n",
    "    [1, 1, 0, 0, 0, 0, 1, 1],\n",
    "    [0, 0, 0, 0, 1, 1, 0, 0],\n",
    "    [0, 0, 0, 0, 1, 1, 0, 0],\n",
    "    [1, 0, 0, 0, 1, 1, 1, 1],\n",
    "    [0, 1, 0, 0, 1, 1, 1, 1],\n",
    "    [0, 0, 1, 1, 1, 1, 1, 1],\n",
    "    [0, 0, 1, 1, 1, 1, 1, 1]\n",
    "]"
   ]
  },
  {
   "cell_type": "code",
   "execution_count": 2,
   "metadata": {},
   "outputs": [
    {
     "name": "stdout",
     "output_type": "stream",
     "text": [
      "9\n",
      "7\n"
     ]
    }
   ],
   "source": [
    "w_total, b_total = 0, 0\n",
    "def devideAndConquer(datas, x0, y0, xn, yn, target): \n",
    "    if (target == 0):\n",
    "        return \n",
    "    global w_total, b_total\n",
    "    w_check, b_check = 0,0\n",
    "    for i in range(x0, xn):\n",
    "        for j in range(y0, yn):\n",
    "            if (datas[i][j] == 0):\n",
    "                w_check = w_check + 1\n",
    "            else: \n",
    "                b_check = b_check + 1 \n",
    "                \n",
    "    total = pow(target, 2)\n",
    "    if (w_check == total):\n",
    "        w_total = w_total + 1\n",
    "    elif (b_check == total):\n",
    "        b_total = b_total + 1\n",
    "    else:\n",
    "        mid_x, mid_y = int((xn + x0)/2), int((yn + y0)/2)\n",
    "        nextTarget = int(target/2)\n",
    "        devideAndConquer(datas, x0, y0, mid_x, mid_y, nextTarget)\n",
    "        devideAndConquer(datas, mid_x, y0, xn ,mid_y, nextTarget)\n",
    "        devideAndConquer(datas, x0, mid_y, mid_x , yn, nextTarget)\n",
    "        devideAndConquer(datas, mid_x, mid_y, xn , yn, nextTarget) \n",
    "devideAndConquer(datas, 0, 0, N, N, N)\n",
    "print(w_total)\n",
    "print(b_total)"
   ]
  }
 ],
 "metadata": {
  "kernelspec": {
   "display_name": "Python 3",
   "language": "python",
   "name": "python3"
  },
  "language_info": {
   "codemirror_mode": {
    "name": "ipython",
    "version": 3
   },
   "file_extension": ".py",
   "mimetype": "text/x-python",
   "name": "python",
   "nbconvert_exporter": "python",
   "pygments_lexer": "ipython3",
   "version": "3.7.3"
  }
 },
 "nbformat": 4,
 "nbformat_minor": 2
}
