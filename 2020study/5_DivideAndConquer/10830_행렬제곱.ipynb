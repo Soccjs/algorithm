{
 "cells": [
  {
   "cell_type": "markdown",
   "metadata": {},
   "source": [
    "https://www.acmicpc.net/problem/10830\n",
    "\n",
    "\n",
    "## 문제\n",
    "크기가 N*N인 행렬 A가 주어진다. 이때, A의 B제곱을 구하는 프로그램을 작성하시오. 수가 매우 커질 수 있으니, A^B의 각 원소를 1,000으로 나눈 나머지를 출력한다.\n",
    "\n",
    "### 입력\n",
    "첫째 줄에 행렬의 크기 N과 B가 주어진다. (2 ≤ N ≤  5, 1 ≤ B ≤ 100,000,000,000)\n",
    "\n",
    "둘째 줄부터 N개의 줄에 행렬의 각 원소가 주어진다. 행렬의 각 원소는 1,000보다 작거나 같은 자연수 또는 0이다.\n",
    "\n",
    "### 출력\n",
    "첫째 줄부터 N개의 줄에 걸쳐 행렬 A를 B제곱한 결과를 출력한다."
   ]
  },
  {
   "cell_type": "code",
   "execution_count": null,
   "metadata": {},
   "outputs": [],
   "source": [
    "# 예제 입력 1 \n",
    "# 2 5\n",
    "# 1 2\n",
    "# 3 4\n",
    "# 예제 출력 1 \n",
    "# 69 558\n",
    "# 337 406\n",
    "# 예제 입력 2 \n",
    "# 3 3\n",
    "# 1 2 3\n",
    "# 4 5 6\n",
    "# 7 8 9\n",
    "# 예제 출력 2 \n",
    "# 468 576 684\n",
    "# 62 305 548\n",
    "# 656 34 412\n",
    "# 예제 입력 3 \n",
    "# 5 10\n",
    "# 1 0 0 0 1\n",
    "# 1 0 0 0 1\n",
    "# 1 0 0 0 1\n",
    "# 1 0 0 0 1\n",
    "# 1 0 0 0 1\n",
    "# 예제 출력 3 \n",
    "# 512 0 0 0 512\n",
    "# 512 0 0 0 512\n",
    "# 512 0 0 0 512\n",
    "# 512 0 0 0 512\n",
    "# 512 0 0 0 512"
   ]
  },
  {
   "cell_type": "code",
   "execution_count": 1,
   "metadata": {},
   "outputs": [],
   "source": [
    "import sys\n",
    "import copy\n",
    "\n",
    "# N, B = map(int, sys.stdin.readline().split())\n",
    "# datas = [list(map(int, sys.stdin.readline().split())) for i in range(N)]"
   ]
  },
  {
   "cell_type": "code",
   "execution_count": 2,
   "metadata": {},
   "outputs": [
    {
     "name": "stdout",
     "output_type": "stream",
     "text": [
      "468 576 684\n",
      "62 305 548\n",
      "656 34 412\n"
     ]
    }
   ],
   "source": [
    "N, B = 2, 5\n",
    "datas = [\n",
    "    [1,2],\n",
    "    [3,4]\n",
    "]\n",
    "N, B = 3, 3\n",
    "datas = [\n",
    "    [1, 2, 3],\n",
    "    [4, 5, 6],\n",
    "    [7, 8, 9]\n",
    "]\n",
    "# N, B = 5, 10\n",
    "# datas = [\n",
    "#     [1, 0, 0, 0, 1],\n",
    "#     [1, 0, 0, 0, 1],\n",
    "#     [1, 0, 0, 0, 1],\n",
    "#     [1, 0, 0, 0, 1],\n",
    "#     [1, 0, 0, 0, 1]\n",
    "# ]\n",
    "# N, B = 5, 10000\n",
    "# datas = [\n",
    "#     [1, 0, 0, 0, 0],\n",
    "#     [0, 1, 0, 0, 0],\n",
    "#     [0, 0, 1, 0, 0],\n",
    "#     [0, 0, 0, 1, 0],\n",
    "#     [0, 0, 0, 0, 1]\n",
    "# ]\n",
    "# datas = [\n",
    "#     [999, 999, 999, 999, 999],\n",
    "#     [999, 999, 999, 999, 999],\n",
    "#     [999, 999, 999, 999, 999],\n",
    "#     [999, 999, 999, 999, 999],\n",
    "#     [999, 999, 999, 999, 999]\n",
    "# ]\n",
    "memos = {}\n",
    "totals = copy.deepcopy(datas)\n",
    "equals = [[1 if i == j else 0 for i in range(N)] for j in range(N)]\n",
    "memos = {0: equals, 1:datas}\n",
    "def mulAB(A, B): \n",
    "    global N\n",
    "    result = [[0 for i in range(N)] for i in range(N)]\n",
    "    for i in range(N):\n",
    "        for j in range(N):\n",
    "            val = 0\n",
    "            for k in range(N):\n",
    "                val = (val + ((A[i][k]%1000) * (B[k][j]%1000)))%1000\n",
    "            result[i][j] = val\n",
    "    return result\n",
    "            \n",
    "def process(key):\n",
    "    global memos\n",
    "    if (key in memos.keys()):\n",
    "        return memos[key]\n",
    "    q = int(key/2)\n",
    "    result = mulAB(process(q), process(key - q)) \n",
    "    memos[key] = result\n",
    "    return result\n",
    "\n",
    "for i in range(N):\n",
    "    print(' '.join(map(lambda a: str(a%1000), process(B)[i])))"
   ]
  }
 ],
 "metadata": {
  "kernelspec": {
   "display_name": "Python 3",
   "language": "python",
   "name": "python3"
  },
  "language_info": {
   "codemirror_mode": {
    "name": "ipython",
    "version": 3
   },
   "file_extension": ".py",
   "mimetype": "text/x-python",
   "name": "python",
   "nbconvert_exporter": "python",
   "pygments_lexer": "ipython3",
   "version": "3.7.3"
  }
 },
 "nbformat": 4,
 "nbformat_minor": 2
}
