{
 "cells": [
  {
   "cell_type": "markdown",
   "metadata": {},
   "source": [
    "https://www.acmicpc.net/problem/9663\n",
    "\n",
    "## 문제\n",
    "N-Queen 문제는 크기가 N × N인 체스판 위에 퀸 N개를 서로 공격할 수 없게 놓는 문제이다.\n",
    "\n",
    "N이 주어졌을 때, 퀸을 놓는 방법의 수를 구하는 프로그램을 작성하시오.\n",
    "\n",
    "### 입력\n",
    "첫째 줄에 N이 주어진다. (1 ≤ N < 15)\n",
    "\n",
    "### 출력\n",
    "첫째 줄에 퀸 N개를 서로 공격할 수 없게 놓는 경우의 수를 출력한다.\n",
    "\n",
    "#### 예제 입력 1 \n",
    "8\n",
    "#### 예제 출력 1 \n",
    "92\n"
   ]
  },
  {
   "cell_type": "code",
   "execution_count": 1,
   "metadata": {},
   "outputs": [],
   "source": [
    "def nqueens(tmp_store, curPos, cycleCount, stack):\n",
    "    global totalCount\n",
    "    tmp_store[curPos] = 1 \n",
    "    cycleCount = cycleCount + 1\n",
    "    stack.append((curPos, cycleCount-1))\n",
    "    \n",
    "    for j in range(0, N):\n",
    "        if (valid(tmp_store, j, cycleCount, stack)):\n",
    "            nqueens(tmp_store, j, cycleCount, stack)  \n",
    "    \n",
    "    if (cycleCount == N):\n",
    "        totalCount = totalCount + 1\n",
    "    \n",
    "    tmp_store[curPos] = 0\n",
    "    stack.pop()\n",
    "\n",
    "def valid(tmp_store, x, y, stack):\n",
    "    if (tmp_store[x] == 0 and checkNorthWest(stack, x, y) and checkNorthEast(stack, x, y)): return True\n",
    "    else: return False\n",
    "def checkNorthWest(stack, x, y):\n",
    "    while (True):\n",
    "        x = x - 1\n",
    "        y = y - 1 \n",
    "        if (x >= 0 and y >= 0):\n",
    "            if (stack[y] == (x,y)):\n",
    "                return False\n",
    "        else: break\n",
    "    \n",
    "    return True\n",
    "def checkNorthEast(stack, x, y):\n",
    "    while (True):\n",
    "        x = x + 1\n",
    "        y = y - 1 \n",
    "        if (x < N and y >= 0):\n",
    "            if (stack[y] == (x,y)):\n",
    "                return False\n",
    "        else: break\n",
    "    return True"
   ]
  },
  {
   "cell_type": "code",
   "execution_count": 2,
   "metadata": {},
   "outputs": [
    {
     "name": "stdout",
     "output_type": "stream",
     "text": [
      "8\n",
      "92\n"
     ]
    }
   ],
   "source": [
    "N = int(input())\n",
    "totalCount = 0 \n",
    "for i in range(0, N):\n",
    "    nqueens([0 for j in range(0, N)], i, 0, [])\n",
    "print(totalCount)"
   ]
  }
 ],
 "metadata": {
  "kernelspec": {
   "display_name": "Python 3",
   "language": "python",
   "name": "python3"
  },
  "language_info": {
   "codemirror_mode": {
    "name": "ipython",
    "version": 3
   },
   "file_extension": ".py",
   "mimetype": "text/x-python",
   "name": "python",
   "nbconvert_exporter": "python",
   "pygments_lexer": "ipython3",
   "version": "3.7.3"
  }
 },
 "nbformat": 4,
 "nbformat_minor": 2
}
