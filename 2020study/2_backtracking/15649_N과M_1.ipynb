{
 "cells": [
  {
   "cell_type": "markdown",
   "metadata": {},
   "source": [
    "https://www.acmicpc.net/problem/15649\n",
    "\n",
    "## 문제\n",
    "자연수 N과 M이 주어졌을 때, 아래 조건을 만족하는 길이가 M인 수열을 모두 구하는 프로그램을 작성하시오.\n",
    "\n",
    "1부터 N까지 자연수 중에서 중복 없이 M개를 고른 수열\n",
    "### 입력\n",
    "첫째 줄에 자연수 N과 M이 주어진다. (1 ≤ M ≤ N ≤ 8)\n",
    "\n",
    "### 출력\n",
    "한 줄에 하나씩 문제의 조건을 만족하는 수열을 출력한다. 중복되는 수열을 여러 번 출력하면 안되며, 각 수열은 공백으로 구분해서 출력해야 한다.\n",
    "\n",
    "수열은 사전 순으로 증가하는 순서로 출력해야 한다."
   ]
  },
  {
   "cell_type": "markdown",
   "metadata": {},
   "source": [
    "예제 입력 1 <br>\n",
    "3 1 <br>\n",
    "\n",
    "예제 출력 1 <br>\n",
    "1 <br>\n",
    "2 <br>\n",
    "3 <br>\n",
    "\n",
    "예제 입력 2 <br>\n",
    "4 2  <br>\n",
    "\n",
    "예제 출력 2 <br>\n",
    "1 2 <br>\n",
    "1 3 <br>\n",
    "1 4 <br>\n",
    "2 1 <br>\n",
    "2 3 <br>\n",
    "2 4 <br>\n",
    "3 1 <br>\n",
    "3 2 <br>\n",
    "3 4 <br>\n",
    "4 1 <br>\n",
    "4 2 <br>\n",
    "4 3 <br>\n",
    "\n",
    "예제 입력 3 <br>\n",
    "4 4 <br>\n",
    "\n",
    "예제 출력 3 <br>\n",
    "1 2 3 4 <br>\n",
    "1 2 4 3 <br>\n",
    "1 3 2 4 <br>\n",
    "1 3 4 2 <br>\n",
    "1 4 2 3 <br>\n",
    "1 4 3 2 <br>\n",
    "2 1 3 4 <br>\n",
    "2 1 4 3 <br>\n",
    "2 3 1 4 <br>\n",
    "2 3 4 1 <br>\n",
    "2 4 1 3 <br>\n",
    "2 4 3 1 <br>\n",
    "3 1 2 4 <br>\n",
    "3 1 4 2 <br>\n",
    "3 2 1 4 <br>\n",
    "3 2 4 1 <br>\n",
    "3 4 1 2 <br>\n",
    "3 4 2 1 <br>\n",
    "4 1 2 3 <br>\n",
    "4 1 3 2 <br>\n",
    "4 2 1 3 <br>\n",
    "4 2 3 1 <br>\n",
    "4 3 1 2 <br>\n",
    "4 3 2 1 <br>"
   ]
  },
  {
   "cell_type": "code",
   "execution_count": 1,
   "metadata": {},
   "outputs": [
    {
     "name": "stdout",
     "output_type": "stream",
     "text": [
      "4 4\n"
     ]
    }
   ],
   "source": [
    "N, M = map(int, input().split(' '))\n"
   ]
  },
  {
   "cell_type": "code",
   "execution_count": 2,
   "metadata": {},
   "outputs": [],
   "source": [
    "def process(tmp_store, tmp_value):\n",
    "    if (len(tmp_value) == M): \n",
    "        result = ''\n",
    "        for c in tmp_value: \n",
    "            result += (c + ' ')\n",
    "        print(result)\n",
    "        return\n",
    "    \n",
    "    \n",
    "    for i in range(0, N):\n",
    "        if (tmp_store[i] == 0):\n",
    "            tmp_store[i] = 1\n",
    "            process(tmp_store, tmp_value + str(i+1))\n",
    "            tmp_store[i] = 0"
   ]
  },
  {
   "cell_type": "code",
   "execution_count": 3,
   "metadata": {},
   "outputs": [
    {
     "name": "stdout",
     "output_type": "stream",
     "text": [
      "1 2 3 4 \n",
      "1 2 4 3 \n",
      "1 3 2 4 \n",
      "1 3 4 2 \n",
      "1 4 2 3 \n",
      "1 4 3 2 \n",
      "2 1 3 4 \n",
      "2 1 4 3 \n",
      "2 3 1 4 \n",
      "2 3 4 1 \n",
      "2 4 1 3 \n",
      "2 4 3 1 \n",
      "3 1 2 4 \n",
      "3 1 4 2 \n",
      "3 2 1 4 \n",
      "3 2 4 1 \n",
      "3 4 1 2 \n",
      "3 4 2 1 \n",
      "4 1 2 3 \n",
      "4 1 3 2 \n",
      "4 2 1 3 \n",
      "4 2 3 1 \n",
      "4 3 1 2 \n",
      "4 3 2 1 \n"
     ]
    }
   ],
   "source": [
    "N, M = 3, 1\n",
    "N, M = 4, 2\n",
    "N, M = 4, 4\n",
    "for i in range(0, N):\n",
    "    store = [0 for i in range(N)]    \n",
    "    store[i] = 1\n",
    "    value = str(i+1)\n",
    "    process(store, value)"
   ]
  }
 ],
 "metadata": {
  "kernelspec": {
   "display_name": "Python 3",
   "language": "python",
   "name": "python3"
  },
  "language_info": {
   "codemirror_mode": {
    "name": "ipython",
    "version": 3
   },
   "file_extension": ".py",
   "mimetype": "text/x-python",
   "name": "python",
   "nbconvert_exporter": "python",
   "pygments_lexer": "ipython3",
   "version": "3.7.3"
  }
 },
 "nbformat": 4,
 "nbformat_minor": 2
}
