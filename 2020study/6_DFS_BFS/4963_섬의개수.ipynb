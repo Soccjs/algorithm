{
 "cells": [
  {
   "cell_type": "markdown",
   "metadata": {},
   "source": [
    "https://www.acmicpc.net/problem/4963\n",
    "\n",
    "### 문제\n",
    "정사각형으로 이루어져 있는 섬과 바다 지도가 주어진다. 섬의 개수를 세는 프로그램을 작성하시오.\n",
    "\n",
    "\n",
    "\n",
    "한 정사각형과 가로, 세로 또는 대각선으로 연결되어 있는 사각형은 걸어갈 수 있는 사각형이다. \n",
    "\n",
    "두 정사각형이 같은 섬에 있으려면, 한 정사각형에서 다른 정사각형으로 걸어서 갈 수 있는 경로가 있어야 한다. 지도는 바다로 둘러쌓여 있으며, 지도 밖으로 나갈 수 없다.\n",
    "\n",
    "### 입력\n",
    "입력은 여러 개의 테스트 케이스로 이루어져 있다. 각 테스트 케이스의 첫째 줄에는 지도의 너비 w와 높이 h가 주어진다. w와 h는 50보다 작거나 같은 양의 정수이다.\n",
    "\n",
    "둘째 줄부터 h개 줄에는 지도가 주어진다. 1은 땅, 0은 바다이다.\n",
    "\n",
    "입력의 마지막 줄에는 0이 두 개 주어진다.\n",
    "\n",
    "### 출력\n",
    "각 테스트 케이스에 대해서, 섬의 개수를 출력한다"
   ]
  },
  {
   "cell_type": "code",
   "execution_count": null,
   "metadata": {},
   "outputs": [],
   "source": [
    "# 1 1\n",
    "# 0\n",
    "# 2 2\n",
    "# 0 1\n",
    "# 1 0\n",
    "# 3 2\n",
    "# 1 1 1\n",
    "# 1 1 1\n",
    "# 5 4\n",
    "# 1 0 1 0 0\n",
    "# 1 0 0 0 0\n",
    "# 1 0 1 0 1\n",
    "# 1 0 0 1 0\n",
    "# 5 4\n",
    "# 1 1 1 0 1\n",
    "# 1 0 1 0 1\n",
    "# 1 0 1 0 1\n",
    "# 1 0 1 1 1\n",
    "# 5 5\n",
    "# 1 0 1 0 1\n",
    "# 0 0 0 0 0\n",
    "# 1 0 1 0 1\n",
    "# 0 0 0 0 0\n",
    "# 1 0 1 0 1\n",
    "# 0 0"
   ]
  },
  {
   "cell_type": "code",
   "execution_count": 1,
   "metadata": {},
   "outputs": [],
   "source": [
    "def dfs(x,y):\n",
    "    global maps\n",
    "    maps[x][y] = 2\n",
    "    if (maps[x-1][y-1] == 1):\n",
    "        dfs(x-1, y-1)\n",
    "    if (maps[x-1][y] == 1):\n",
    "        dfs(x-1, y)\n",
    "    if (maps[x-1][y+1] == 1):\n",
    "        dfs(x-1, y+1)\n",
    "    if (maps[x][y-1] == 1):\n",
    "        dfs(x, y-1)\n",
    "    if (maps[x][y+1] == 1):\n",
    "        dfs(x, y+1)\n",
    "    if (maps[x+1][y-1] == 1):\n",
    "        dfs(x+1, y-1)\n",
    "    if (maps[x+1][y] == 1):\n",
    "        dfs(x+1, y)\n",
    "    if (maps[x+1][y+1] == 1):\n",
    "        dfs(x+1, y+1)"
   ]
  },
  {
   "cell_type": "code",
   "execution_count": 2,
   "metadata": {},
   "outputs": [],
   "source": [
    "def traversal(maps, w, h):\n",
    "    totalCount = 0\n",
    "    for i in range(1, h+1): \n",
    "        for j in range(1, w+1): \n",
    "            if (maps[i][j] == 1):\n",
    "                dfs(i,j)\n",
    "                totalCount = totalCount + 1\n",
    "    print(totalCount)"
   ]
  },
  {
   "cell_type": "code",
   "execution_count": 3,
   "metadata": {},
   "outputs": [
    {
     "name": "stdout",
     "output_type": "stream",
     "text": [
      "3\n"
     ]
    }
   ],
   "source": [
    "w, h = 2, 2\n",
    "\n",
    "## 1. map init\n",
    "# maps = []\n",
    "# maps.append([-1 for i in range(w+2)])\n",
    "# for i in range(h):\n",
    "#     maps.append([-1] + list(map(int, input().split())) + [-1])\n",
    "# maps.append([-1 for i in range(w+2)])\n",
    "\n",
    "maps = [\n",
    "    [-1, -1, -1, -1],\n",
    "    [-1, 1, -1, -1],\n",
    "    [-1, -1, 1, -1],\n",
    "    [-1, -1, -1, -1]\n",
    "]\n",
    "\n",
    "w, h = 5, 4\n",
    "maps = [\n",
    "    [-1, -1, -1, -1, -1, -1, -1],\n",
    "    [-1, 1, -1, 1, -1, -1, -1],\n",
    "    [-1, 1, -1, -1, -1, -1, -1],\n",
    "    [-1, 1, -1, 1, -1, 1, -1],\n",
    "    [-1, 1, -1, -1, 1, -1, -1],\n",
    "    [-1, -1, -1, -1, -1, -1, -1],\n",
    "]\n",
    "\n",
    "traversal(maps,h,w)\n",
    "            \n"
   ]
  },
  {
   "cell_type": "code",
   "execution_count": 4,
   "metadata": {},
   "outputs": [
    {
     "name": "stdout",
     "output_type": "stream",
     "text": [
      "0 0\n"
     ]
    }
   ],
   "source": [
    "while(True):\n",
    "    w, h = map(int, input().split())\n",
    "    if (w == 0 and h == 0):\n",
    "        break\n",
    "    ## 1. map init\n",
    "    maps = []\n",
    "    maps.append([-1 for i in range(w+2)])\n",
    "    for i in range(h):\n",
    "        maps.append([-1] + list(map(int, input().split())) + [-1])\n",
    "    maps.append([-1 for i in range(w+2)])\n",
    "\n",
    "    ## 2. traversal\n",
    "    currentStack = []\n",
    "    traversal(maps, w, h)\n"
   ]
  }
 ],
 "metadata": {
  "kernelspec": {
   "display_name": "Python 3",
   "language": "python",
   "name": "python3"
  },
  "language_info": {
   "codemirror_mode": {
    "name": "ipython",
    "version": 3
   },
   "file_extension": ".py",
   "mimetype": "text/x-python",
   "name": "python",
   "nbconvert_exporter": "python",
   "pygments_lexer": "ipython3",
   "version": "3.7.3"
  }
 },
 "nbformat": 4,
 "nbformat_minor": 2
}
