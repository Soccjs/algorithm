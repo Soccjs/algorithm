{
 "cells": [
  {
   "cell_type": "markdown",
   "metadata": {},
   "source": [
    "https://www.acmicpc.net/problem/2178\n",
    "\n",
    "## 문제\n",
    "N×M크기의 배열로 표현되는 미로가 있다.\n",
    "\n",
    "1\t0\t1\t1\t1\t1\n",
    "1\t0\t1\t0\t1\t0\n",
    "1\t0\t1\t0\t1\t1\n",
    "1\t1\t1\t0\t1\t1\n",
    "미로에서 1은 이동할 수 있는 칸을 나타내고, 0은 이동할 수 없는 칸을 나타낸다. 이러한 미로가 주어졌을 때, (1, 1)에서 출발하여 (N, M)의 위치로 이동할 때 지나야 하는 최소의 칸 수를 구하는 프로그램을 작성하시오. 한 칸에서 다른 칸으로 이동할 때, 서로 인접한 칸으로만 이동할 수 있다.\n",
    "\n",
    "위의 예에서는 15칸을 지나야 (N, M)의 위치로 이동할 수 있다. 칸을 셀 때에는 시작 위치와 도착 위치도 포함한다.\n",
    "\n",
    "### 입력\n",
    "첫째 줄에 두 정수 N, M(2 ≤ N, M ≤ 100)이 주어진다. 다음 N개의 줄에는 M개의 정수로 미로가 주어진다. 각각의 수들은 붙어서 입력으로 주어진다.\n",
    "\n",
    "### 출력\n",
    "첫째 줄에 지나야 하는 최소의 칸 수를 출력한다. 항상 도착위치로 이동할 수 있는 경우만 입력으로 주어진다."
   ]
  },
  {
   "cell_type": "code",
   "execution_count": null,
   "metadata": {},
   "outputs": [],
   "source": [
    "# 예제 입력 1 \n",
    "# 4 6\n",
    "# 101111\n",
    "# 101010\n",
    "# 101011\n",
    "# 111011\n",
    "# 예제 출력 1 \n",
    "# 15\n",
    "# 예제 입력 2 \n",
    "# 4 6\n",
    "# 110110\n",
    "# 110110\n",
    "# 111111\n",
    "# 111101\n",
    "# 예제 출력 2 \n",
    "# 9\n",
    "# 예제 입력 3 \n",
    "# 2 25\n",
    "# 1011101110111011101110111\n",
    "# 1110111011101110111011101\n",
    "# 예제 출력 3 \n",
    "# 38\n",
    "# 예제 입력 4 \n",
    "# 7 7\n",
    "# 1011111\n",
    "# 1110001\n",
    "# 1000001\n",
    "# 1000001\n",
    "# 1000001\n",
    "# 1000001\n",
    "# 1111111\n",
    "# 예제 출력 4 \n",
    "# 13"
   ]
  },
  {
   "cell_type": "code",
   "execution_count": null,
   "metadata": {},
   "outputs": [],
   "source": [
    "N, M = map(int, input().split())\n",
    "\n",
    "miro = []\n",
    "miro.append([-1] * (M+2))\n",
    "for i in range(N):\n",
    "    row = input()\n",
    "    miro.append([-1] + [int(row[i]) for i in range(M)] + [-1])\n",
    "miro.append([-1] * (M+2))\n"
   ]
  },
  {
   "cell_type": "code",
   "execution_count": null,
   "metadata": {},
   "outputs": [],
   "source": [
    "directions = [(1,0), (-1,0), (0, 1), (0, -1)]\n",
    "cur_queue = [(1,1)]\n",
    "\n",
    "while(True):\n",
    "    next_queue = []\n",
    "    while(cur_queue):\n",
    "        x, y = cur_queue.pop()\n",
    "        cur_val = miro[y][x]\n",
    "        for dx, dy in directions:\n",
    "            new_x = x + dx\n",
    "            new_y = y + dy\n",
    "            if (miro[new_y][new_x] == 1):\n",
    "                miro[new_y][new_x] = cur_val + 1\n",
    "                next_queue.append((new_x, new_y))\n",
    "    if (next_queue):\n",
    "        cur_queue = next_queue\n",
    "    else: break\n",
    "print(miro[N][M])\n",
    "    "
   ]
  }
 ],
 "metadata": {
  "kernelspec": {
   "display_name": "Python 3",
   "language": "python",
   "name": "python3"
  },
  "language_info": {
   "codemirror_mode": {
    "name": "ipython",
    "version": 3
   },
   "file_extension": ".py",
   "mimetype": "text/x-python",
   "name": "python",
   "nbconvert_exporter": "python",
   "pygments_lexer": "ipython3",
   "version": "3.7.3"
  }
 },
 "nbformat": 4,
 "nbformat_minor": 2
}
