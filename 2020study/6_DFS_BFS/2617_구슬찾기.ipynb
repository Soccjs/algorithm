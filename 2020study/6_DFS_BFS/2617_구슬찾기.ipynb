{
 "cells": [
  {
   "cell_type": "markdown",
   "metadata": {},
   "source": [
    "https://www.acmicpc.net/problem/2617\n",
    "\n",
    "## 문제\n",
    "모양은 같으나, 무게가 모두 다른 N개의 구슬이 있다. N은 홀수이며, 구슬에는 번호가 1,2,...,N으로 붙어 있다. 이 구슬 중에서 무게가 전체의 중간인 (무게 순서로 (N+1)/2번째) 구슬을 찾기 위해서 아 래와 같은 일을 하려 한다.\n",
    "\n",
    "우리에게 주어진 것은 양팔 저울이다. 한 쌍의 구슬을 골라서 양팔 저울의 양쪽에 하나씩 올려 보면 어느 쪽이 무거운 가를 알 수 있다. 이렇게 M개의 쌍을 골라서 각각 양팔 저울에 올려서 어느 것이 무거운 가를 모두 알아냈다. 이 결과를 이용하여 무게가 중간이 될 가능성이 전혀 없는 구슬들은 먼저 제외한다.\n",
    "\n",
    "예를 들어, N=5이고, M=4 쌍의 구슬에 대해서 어느 쪽이 무거운가를 알아낸 결과가 아래에 있다.\n",
    "\n",
    "구슬 2번이 구슬 1번보다 무겁다.\n",
    "구슬 4번이 구슬 3번보다 무겁다.\n",
    "구슬 5번이 구슬 1번보다 무겁다.\n",
    "구슬 4번이 구슬 2번보다 무겁다.\n",
    "위와 같이 네 개의 결과만을 알고 있으면, 무게가 중간인 구슬을 정확하게 찾을 수는 없지만, 1번 구슬과 4번 구슬은 무게가 중간인 구슬이 절대 될 수 없다는 것은 확실히 알 수 있다. 1번 구슬보다 무거운 것이 2, 4, 5번 구슬이고, 4번 보다 가벼운 것이 1, 2, 3번이다. 따라서 답은 2개이다.\n",
    "\n",
    "M 개의 쌍에 대한 결과를 보고 무게가 중간인 구슬이 될 수 없는 구슬의 개수를 구하는 프로그램을 작성하시오.\n",
    "\n",
    "### 입력\n",
    "첫 줄은 구슬의 개수를 나타내는 정수 N(1 ≤ N ≤ 99)과 저울에 올려 본 쌍의 개수 M(1 ≤ M ≤ N(N-1)/2)이 주어진다. 그 다음 M 개의 줄은 각 줄마다 두 개의 구슬 번호가 주어지는데, 앞 번호의 구슬이 뒤 번호의 구슬보다 무겁다는 것을 뜻한다.\n",
    "\n",
    "### 출력\n",
    "첫 줄에 무게가 중간이 절대로 될 수 없는 구슬의 수를 출력 한다."
   ]
  },
  {
   "cell_type": "code",
   "execution_count": null,
   "metadata": {},
   "outputs": [],
   "source": [
    "# 예제 입력 1 \n",
    "# 5 4\n",
    "# 2 1\n",
    "# 4 3\n",
    "# 5 1\n",
    "# 4 2\n",
    "# 예제 출력 1 \n",
    "# 2"
   ]
  },
  {
   "cell_type": "code",
   "execution_count": 1,
   "metadata": {},
   "outputs": [
    {
     "name": "stdout",
     "output_type": "stream",
     "text": [
      "0 0\n",
      "0\n"
     ]
    }
   ],
   "source": [
    "def find(dataset, start):\n",
    "    global visited\n",
    "    global check\n",
    "    visited[start] = True\n",
    "    for val in dataset[start]:\n",
    "        if (not visited[val]):\n",
    "            check = check + 1\n",
    "            find(dataset, val)\n",
    "            \n",
    "N, M = map(int, input().split())\n",
    "datas = list(tuple(map(int, input().split()))for i in range(M))\n",
    "\n",
    "mid = int((N+1)/2)\n",
    "more = [[] for i in range(N+1)]\n",
    "less = [[] for i in range(N+1)]\n",
    "for (a,b) in datas:\n",
    "    more[b].append(a)\n",
    "    less[a].append(b)\n",
    "\n",
    "count = 0\n",
    "check = 0\n",
    "visited = None\n",
    "for i in range(1, N+1):\n",
    "    visited = [False for i in range(N + 1)]\n",
    "    \n",
    "    check = 0\n",
    "    find(more, i) \n",
    "    if (check>= mid):\n",
    "        count = count +1\n",
    "    \n",
    "    check = 0\n",
    "    find(less, i)\n",
    "    if (check>= mid):\n",
    "        count = count +1\n",
    "print(count)\n"
   ]
  },
  {
   "cell_type": "code",
   "execution_count": null,
   "metadata": {},
   "outputs": [],
   "source": [
    "구슬 2번이 구슬 1번보다 무겁다.\n",
    "구슬 4번이 구슬 3번보다 무겁다. \n",
    "구슬 5번이 구슬 1번보다 무겁다. \n",
    "구슬 4번이 구슬 2번보다 무겁다. \n",
    "위와 같이 네 개의 결과만을 알고 있으면, 무게가 중간인 구슬을 정확하게 찾을 수는 없지만, \n",
    "1번 구슬과 4번 구슬은 무게가 중간인 구슬이 절대 될 수 없다는 것은 확실히 알 수 있다. \n",
    "1번 구슬보다 무거운 것이 2, 4, 5번 구슬이고, \n",
    "4번 보다 가벼운 것이 1, 2, 3번이다. 따라서 답은 2개이다.\n",
    "\n",
    "\n",
    "1 ->\n",
    "2 -> 1\n",
    "3 ->\n",
    "4 -> 3, 2, 1\n",
    "5 -> 1\n",
    "\n",
    "1 -> 2, 5, 4\n",
    "2 -> 4\n",
    "3 -> 4\n",
    "4 -> \n",
    "5 -> "
   ]
  }
 ],
 "metadata": {
  "kernelspec": {
   "display_name": "Python 3",
   "language": "python",
   "name": "python3"
  },
  "language_info": {
   "codemirror_mode": {
    "name": "ipython",
    "version": 3
   },
   "file_extension": ".py",
   "mimetype": "text/x-python",
   "name": "python",
   "nbconvert_exporter": "python",
   "pygments_lexer": "ipython3",
   "version": "3.7.3"
  }
 },
 "nbformat": 4,
 "nbformat_minor": 2
}
